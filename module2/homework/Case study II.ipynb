{
 "cells": [
  {
   "cell_type": "markdown",
   "metadata": {},
   "source": [
    "## Case Study II\n",
    "Mingjun Ma\n",
    "ABE 516X"
   ]
  },
  {
   "cell_type": "markdown",
   "metadata": {},
   "source": [
    "### Introduction\n",
    "This breakfast cereal data set contains nutritional information for 77 different breafset cereals. It was used for the 1993 Statitical Graphics Exposition as a challenge data set. This data set was retrieved from StatLib at CMU. The nutritional information on a per serving basis for the breakfast cereals including calories, protein, sodium, dietary fiber, complex carbohydrates, sugars, potassium, vitamins, and weight. There is a lot of information for consumer to understand while choosing a good breakfast cereal. "
   ]
  },
  {
   "cell_type": "code",
   "execution_count": 1,
   "metadata": {},
   "outputs": [],
   "source": [
    "%matplotlib inline \n",
    "import numpy as np\n",
    "import pandas as pd\n",
    "import matplotlib.pyplot as plt\n",
    "import math"
   ]
  },
  {
   "cell_type": "markdown",
   "metadata": {},
   "source": [
    "Read the data into data frame"
   ]
  },
  {
   "cell_type": "code",
   "execution_count": 2,
   "metadata": {},
   "outputs": [
    {
     "name": "stdout",
     "output_type": "stream",
     "text": [
      "(77, 15)\n"
     ]
    },
    {
     "data": {
      "text/html": [
       "<div>\n",
       "<style scoped>\n",
       "    .dataframe tbody tr th:only-of-type {\n",
       "        vertical-align: middle;\n",
       "    }\n",
       "\n",
       "    .dataframe tbody tr th {\n",
       "        vertical-align: top;\n",
       "    }\n",
       "\n",
       "    .dataframe thead th {\n",
       "        text-align: right;\n",
       "    }\n",
       "</style>\n",
       "<table border=\"1\" class=\"dataframe\">\n",
       "  <thead>\n",
       "    <tr style=\"text-align: right;\">\n",
       "      <th></th>\n",
       "      <th>name</th>\n",
       "      <th>manufacturer</th>\n",
       "      <th>type</th>\n",
       "      <th>calories</th>\n",
       "      <th>protein</th>\n",
       "      <th>fat</th>\n",
       "      <th>sodium</th>\n",
       "      <th>fiber</th>\n",
       "      <th>carbs</th>\n",
       "      <th>sugar</th>\n",
       "      <th>shelf</th>\n",
       "      <th>potassium</th>\n",
       "      <th>vitamins</th>\n",
       "      <th>weight</th>\n",
       "      <th>cups</th>\n",
       "    </tr>\n",
       "  </thead>\n",
       "  <tbody>\n",
       "    <tr>\n",
       "      <td>0</td>\n",
       "      <td>100%_Bran</td>\n",
       "      <td>N</td>\n",
       "      <td>C</td>\n",
       "      <td>70</td>\n",
       "      <td>4</td>\n",
       "      <td>1</td>\n",
       "      <td>130</td>\n",
       "      <td>10.0</td>\n",
       "      <td>5.0</td>\n",
       "      <td>6</td>\n",
       "      <td>3</td>\n",
       "      <td>280</td>\n",
       "      <td>25</td>\n",
       "      <td>1.00</td>\n",
       "      <td>0.33</td>\n",
       "    </tr>\n",
       "    <tr>\n",
       "      <td>1</td>\n",
       "      <td>100%_Natural_Bran</td>\n",
       "      <td>Q</td>\n",
       "      <td>C</td>\n",
       "      <td>120</td>\n",
       "      <td>3</td>\n",
       "      <td>5</td>\n",
       "      <td>15</td>\n",
       "      <td>2.0</td>\n",
       "      <td>8.0</td>\n",
       "      <td>8</td>\n",
       "      <td>3</td>\n",
       "      <td>135</td>\n",
       "      <td>0</td>\n",
       "      <td>1.00</td>\n",
       "      <td>-1.00</td>\n",
       "    </tr>\n",
       "    <tr>\n",
       "      <td>2</td>\n",
       "      <td>All-Bran</td>\n",
       "      <td>K</td>\n",
       "      <td>C</td>\n",
       "      <td>70</td>\n",
       "      <td>4</td>\n",
       "      <td>1</td>\n",
       "      <td>260</td>\n",
       "      <td>9.0</td>\n",
       "      <td>7.0</td>\n",
       "      <td>5</td>\n",
       "      <td>3</td>\n",
       "      <td>320</td>\n",
       "      <td>25</td>\n",
       "      <td>1.00</td>\n",
       "      <td>0.33</td>\n",
       "    </tr>\n",
       "    <tr>\n",
       "      <td>3</td>\n",
       "      <td>All-Bran_Extra_Fiber</td>\n",
       "      <td>K</td>\n",
       "      <td>C</td>\n",
       "      <td>50</td>\n",
       "      <td>4</td>\n",
       "      <td>0</td>\n",
       "      <td>140</td>\n",
       "      <td>14.0</td>\n",
       "      <td>8.0</td>\n",
       "      <td>0</td>\n",
       "      <td>3</td>\n",
       "      <td>330</td>\n",
       "      <td>25</td>\n",
       "      <td>1.00</td>\n",
       "      <td>0.50</td>\n",
       "    </tr>\n",
       "    <tr>\n",
       "      <td>4</td>\n",
       "      <td>Almond_Delight</td>\n",
       "      <td>R</td>\n",
       "      <td>C</td>\n",
       "      <td>110</td>\n",
       "      <td>2</td>\n",
       "      <td>2</td>\n",
       "      <td>200</td>\n",
       "      <td>1.0</td>\n",
       "      <td>14.0</td>\n",
       "      <td>8</td>\n",
       "      <td>3</td>\n",
       "      <td>-1</td>\n",
       "      <td>25</td>\n",
       "      <td>1.00</td>\n",
       "      <td>0.75</td>\n",
       "    </tr>\n",
       "    <tr>\n",
       "      <td>5</td>\n",
       "      <td>Apple_Cin_Cheerios</td>\n",
       "      <td>G</td>\n",
       "      <td>C</td>\n",
       "      <td>110</td>\n",
       "      <td>2</td>\n",
       "      <td>2</td>\n",
       "      <td>180</td>\n",
       "      <td>1.5</td>\n",
       "      <td>10.5</td>\n",
       "      <td>10</td>\n",
       "      <td>1</td>\n",
       "      <td>70</td>\n",
       "      <td>25</td>\n",
       "      <td>1.00</td>\n",
       "      <td>0.75</td>\n",
       "    </tr>\n",
       "    <tr>\n",
       "      <td>6</td>\n",
       "      <td>Apple_Jacks</td>\n",
       "      <td>K</td>\n",
       "      <td>C</td>\n",
       "      <td>110</td>\n",
       "      <td>2</td>\n",
       "      <td>0</td>\n",
       "      <td>125</td>\n",
       "      <td>1.0</td>\n",
       "      <td>11.0</td>\n",
       "      <td>14</td>\n",
       "      <td>2</td>\n",
       "      <td>30</td>\n",
       "      <td>25</td>\n",
       "      <td>1.00</td>\n",
       "      <td>1.00</td>\n",
       "    </tr>\n",
       "    <tr>\n",
       "      <td>7</td>\n",
       "      <td>Basic_4</td>\n",
       "      <td>G</td>\n",
       "      <td>C</td>\n",
       "      <td>130</td>\n",
       "      <td>3</td>\n",
       "      <td>2</td>\n",
       "      <td>210</td>\n",
       "      <td>2.0</td>\n",
       "      <td>18.0</td>\n",
       "      <td>8</td>\n",
       "      <td>3</td>\n",
       "      <td>100</td>\n",
       "      <td>25</td>\n",
       "      <td>1.33</td>\n",
       "      <td>0.75</td>\n",
       "    </tr>\n",
       "    <tr>\n",
       "      <td>8</td>\n",
       "      <td>Bran_Chex</td>\n",
       "      <td>R</td>\n",
       "      <td>C</td>\n",
       "      <td>90</td>\n",
       "      <td>2</td>\n",
       "      <td>1</td>\n",
       "      <td>200</td>\n",
       "      <td>4.0</td>\n",
       "      <td>15.0</td>\n",
       "      <td>6</td>\n",
       "      <td>1</td>\n",
       "      <td>125</td>\n",
       "      <td>25</td>\n",
       "      <td>1.00</td>\n",
       "      <td>0.67</td>\n",
       "    </tr>\n",
       "    <tr>\n",
       "      <td>9</td>\n",
       "      <td>Bran_Flakes</td>\n",
       "      <td>P</td>\n",
       "      <td>C</td>\n",
       "      <td>90</td>\n",
       "      <td>3</td>\n",
       "      <td>0</td>\n",
       "      <td>210</td>\n",
       "      <td>5.0</td>\n",
       "      <td>13.0</td>\n",
       "      <td>5</td>\n",
       "      <td>3</td>\n",
       "      <td>190</td>\n",
       "      <td>25</td>\n",
       "      <td>1.00</td>\n",
       "      <td>0.67</td>\n",
       "    </tr>\n",
       "  </tbody>\n",
       "</table>\n",
       "</div>"
      ],
      "text/plain": [
       "                   name manufacturer type  calories  protein  fat  sodium  \\\n",
       "0             100%_Bran            N    C        70        4    1     130   \n",
       "1     100%_Natural_Bran            Q    C       120        3    5      15   \n",
       "2              All-Bran            K    C        70        4    1     260   \n",
       "3  All-Bran_Extra_Fiber            K    C        50        4    0     140   \n",
       "4        Almond_Delight            R    C       110        2    2     200   \n",
       "5    Apple_Cin_Cheerios            G    C       110        2    2     180   \n",
       "6           Apple_Jacks            K    C       110        2    0     125   \n",
       "7               Basic_4            G    C       130        3    2     210   \n",
       "8             Bran_Chex            R    C        90        2    1     200   \n",
       "9           Bran_Flakes            P    C        90        3    0     210   \n",
       "\n",
       "   fiber  carbs  sugar  shelf  potassium  vitamins  weight  cups  \n",
       "0   10.0    5.0      6      3        280        25    1.00  0.33  \n",
       "1    2.0    8.0      8      3        135         0    1.00 -1.00  \n",
       "2    9.0    7.0      5      3        320        25    1.00  0.33  \n",
       "3   14.0    8.0      0      3        330        25    1.00  0.50  \n",
       "4    1.0   14.0      8      3         -1        25    1.00  0.75  \n",
       "5    1.5   10.5     10      1         70        25    1.00  0.75  \n",
       "6    1.0   11.0     14      2         30        25    1.00  1.00  \n",
       "7    2.0   18.0      8      3        100        25    1.33  0.75  \n",
       "8    4.0   15.0      6      1        125        25    1.00  0.67  \n",
       "9    5.0   13.0      5      3        190        25    1.00  0.67  "
      ]
     },
     "execution_count": 2,
     "metadata": {},
     "output_type": "execute_result"
    }
   ],
   "source": [
    "cereal = pd.read_csv('cereal.csv')\n",
    "print(cereal.shape)\n",
    "cereal.head(10)"
   ]
  },
  {
   "cell_type": "markdown",
   "metadata": {},
   "source": [
    "Clean data remove any data that lack of cups information (cups = -1)"
   ]
  },
  {
   "cell_type": "code",
   "execution_count": 5,
   "metadata": {},
   "outputs": [
    {
     "data": {
      "text/html": [
       "<div>\n",
       "<style scoped>\n",
       "    .dataframe tbody tr th:only-of-type {\n",
       "        vertical-align: middle;\n",
       "    }\n",
       "\n",
       "    .dataframe tbody tr th {\n",
       "        vertical-align: top;\n",
       "    }\n",
       "\n",
       "    .dataframe thead th {\n",
       "        text-align: right;\n",
       "    }\n",
       "</style>\n",
       "<table border=\"1\" class=\"dataframe\">\n",
       "  <thead>\n",
       "    <tr style=\"text-align: right;\">\n",
       "      <th></th>\n",
       "      <th>name</th>\n",
       "      <th>manufacturer</th>\n",
       "      <th>type</th>\n",
       "      <th>calories</th>\n",
       "      <th>protein</th>\n",
       "      <th>fat</th>\n",
       "      <th>sodium</th>\n",
       "      <th>fiber</th>\n",
       "      <th>carbs</th>\n",
       "      <th>sugar</th>\n",
       "      <th>shelf</th>\n",
       "      <th>potassium</th>\n",
       "      <th>vitamins</th>\n",
       "      <th>weight</th>\n",
       "      <th>cups</th>\n",
       "    </tr>\n",
       "  </thead>\n",
       "  <tbody>\n",
       "    <tr>\n",
       "      <td>0</td>\n",
       "      <td>100%_Bran</td>\n",
       "      <td>N</td>\n",
       "      <td>C</td>\n",
       "      <td>70</td>\n",
       "      <td>4</td>\n",
       "      <td>1</td>\n",
       "      <td>130</td>\n",
       "      <td>10.0</td>\n",
       "      <td>5.0</td>\n",
       "      <td>6</td>\n",
       "      <td>3</td>\n",
       "      <td>280</td>\n",
       "      <td>25</td>\n",
       "      <td>1.00</td>\n",
       "      <td>0.33</td>\n",
       "    </tr>\n",
       "    <tr>\n",
       "      <td>2</td>\n",
       "      <td>All-Bran</td>\n",
       "      <td>K</td>\n",
       "      <td>C</td>\n",
       "      <td>70</td>\n",
       "      <td>4</td>\n",
       "      <td>1</td>\n",
       "      <td>260</td>\n",
       "      <td>9.0</td>\n",
       "      <td>7.0</td>\n",
       "      <td>5</td>\n",
       "      <td>3</td>\n",
       "      <td>320</td>\n",
       "      <td>25</td>\n",
       "      <td>1.00</td>\n",
       "      <td>0.33</td>\n",
       "    </tr>\n",
       "    <tr>\n",
       "      <td>3</td>\n",
       "      <td>All-Bran_Extra_Fiber</td>\n",
       "      <td>K</td>\n",
       "      <td>C</td>\n",
       "      <td>50</td>\n",
       "      <td>4</td>\n",
       "      <td>0</td>\n",
       "      <td>140</td>\n",
       "      <td>14.0</td>\n",
       "      <td>8.0</td>\n",
       "      <td>0</td>\n",
       "      <td>3</td>\n",
       "      <td>330</td>\n",
       "      <td>25</td>\n",
       "      <td>1.00</td>\n",
       "      <td>0.50</td>\n",
       "    </tr>\n",
       "    <tr>\n",
       "      <td>4</td>\n",
       "      <td>Almond_Delight</td>\n",
       "      <td>R</td>\n",
       "      <td>C</td>\n",
       "      <td>110</td>\n",
       "      <td>2</td>\n",
       "      <td>2</td>\n",
       "      <td>200</td>\n",
       "      <td>1.0</td>\n",
       "      <td>14.0</td>\n",
       "      <td>8</td>\n",
       "      <td>3</td>\n",
       "      <td>-1</td>\n",
       "      <td>25</td>\n",
       "      <td>1.00</td>\n",
       "      <td>0.75</td>\n",
       "    </tr>\n",
       "    <tr>\n",
       "      <td>5</td>\n",
       "      <td>Apple_Cin_Cheerios</td>\n",
       "      <td>G</td>\n",
       "      <td>C</td>\n",
       "      <td>110</td>\n",
       "      <td>2</td>\n",
       "      <td>2</td>\n",
       "      <td>180</td>\n",
       "      <td>1.5</td>\n",
       "      <td>10.5</td>\n",
       "      <td>10</td>\n",
       "      <td>1</td>\n",
       "      <td>70</td>\n",
       "      <td>25</td>\n",
       "      <td>1.00</td>\n",
       "      <td>0.75</td>\n",
       "    </tr>\n",
       "    <tr>\n",
       "      <td>6</td>\n",
       "      <td>Apple_Jacks</td>\n",
       "      <td>K</td>\n",
       "      <td>C</td>\n",
       "      <td>110</td>\n",
       "      <td>2</td>\n",
       "      <td>0</td>\n",
       "      <td>125</td>\n",
       "      <td>1.0</td>\n",
       "      <td>11.0</td>\n",
       "      <td>14</td>\n",
       "      <td>2</td>\n",
       "      <td>30</td>\n",
       "      <td>25</td>\n",
       "      <td>1.00</td>\n",
       "      <td>1.00</td>\n",
       "    </tr>\n",
       "    <tr>\n",
       "      <td>7</td>\n",
       "      <td>Basic_4</td>\n",
       "      <td>G</td>\n",
       "      <td>C</td>\n",
       "      <td>130</td>\n",
       "      <td>3</td>\n",
       "      <td>2</td>\n",
       "      <td>210</td>\n",
       "      <td>2.0</td>\n",
       "      <td>18.0</td>\n",
       "      <td>8</td>\n",
       "      <td>3</td>\n",
       "      <td>100</td>\n",
       "      <td>25</td>\n",
       "      <td>1.33</td>\n",
       "      <td>0.75</td>\n",
       "    </tr>\n",
       "    <tr>\n",
       "      <td>8</td>\n",
       "      <td>Bran_Chex</td>\n",
       "      <td>R</td>\n",
       "      <td>C</td>\n",
       "      <td>90</td>\n",
       "      <td>2</td>\n",
       "      <td>1</td>\n",
       "      <td>200</td>\n",
       "      <td>4.0</td>\n",
       "      <td>15.0</td>\n",
       "      <td>6</td>\n",
       "      <td>1</td>\n",
       "      <td>125</td>\n",
       "      <td>25</td>\n",
       "      <td>1.00</td>\n",
       "      <td>0.67</td>\n",
       "    </tr>\n",
       "    <tr>\n",
       "      <td>9</td>\n",
       "      <td>Bran_Flakes</td>\n",
       "      <td>P</td>\n",
       "      <td>C</td>\n",
       "      <td>90</td>\n",
       "      <td>3</td>\n",
       "      <td>0</td>\n",
       "      <td>210</td>\n",
       "      <td>5.0</td>\n",
       "      <td>13.0</td>\n",
       "      <td>5</td>\n",
       "      <td>3</td>\n",
       "      <td>190</td>\n",
       "      <td>25</td>\n",
       "      <td>1.00</td>\n",
       "      <td>0.67</td>\n",
       "    </tr>\n",
       "    <tr>\n",
       "      <td>10</td>\n",
       "      <td>Cap'n'Crunch</td>\n",
       "      <td>Q</td>\n",
       "      <td>C</td>\n",
       "      <td>120</td>\n",
       "      <td>1</td>\n",
       "      <td>2</td>\n",
       "      <td>220</td>\n",
       "      <td>0.0</td>\n",
       "      <td>12.0</td>\n",
       "      <td>12</td>\n",
       "      <td>2</td>\n",
       "      <td>35</td>\n",
       "      <td>25</td>\n",
       "      <td>1.00</td>\n",
       "      <td>0.75</td>\n",
       "    </tr>\n",
       "  </tbody>\n",
       "</table>\n",
       "</div>"
      ],
      "text/plain": [
       "                    name manufacturer type  calories  protein  fat  sodium  \\\n",
       "0              100%_Bran            N    C        70        4    1     130   \n",
       "2               All-Bran            K    C        70        4    1     260   \n",
       "3   All-Bran_Extra_Fiber            K    C        50        4    0     140   \n",
       "4         Almond_Delight            R    C       110        2    2     200   \n",
       "5     Apple_Cin_Cheerios            G    C       110        2    2     180   \n",
       "6            Apple_Jacks            K    C       110        2    0     125   \n",
       "7                Basic_4            G    C       130        3    2     210   \n",
       "8              Bran_Chex            R    C        90        2    1     200   \n",
       "9            Bran_Flakes            P    C        90        3    0     210   \n",
       "10          Cap'n'Crunch            Q    C       120        1    2     220   \n",
       "\n",
       "    fiber  carbs  sugar  shelf  potassium  vitamins  weight  cups  \n",
       "0    10.0    5.0      6      3        280        25    1.00  0.33  \n",
       "2     9.0    7.0      5      3        320        25    1.00  0.33  \n",
       "3    14.0    8.0      0      3        330        25    1.00  0.50  \n",
       "4     1.0   14.0      8      3         -1        25    1.00  0.75  \n",
       "5     1.5   10.5     10      1         70        25    1.00  0.75  \n",
       "6     1.0   11.0     14      2         30        25    1.00  1.00  \n",
       "7     2.0   18.0      8      3        100        25    1.33  0.75  \n",
       "8     4.0   15.0      6      1        125        25    1.00  0.67  \n",
       "9     5.0   13.0      5      3        190        25    1.00  0.67  \n",
       "10    0.0   12.0     12      2         35        25    1.00  0.75  "
      ]
     },
     "execution_count": 5,
     "metadata": {},
     "output_type": "execute_result"
    }
   ],
   "source": [
    "rcereal = cereal[cereal.cups > 0]\n",
    "rcereal.head(10)"
   ]
  },
  {
   "cell_type": "markdown",
   "metadata": {},
   "source": [
    "Make the nutritional value comparable by the serving size. Divide the nutritional value by the number of cup per serving"
   ]
  },
  {
   "cell_type": "code",
   "execution_count": 6,
   "metadata": {},
   "outputs": [],
   "source": [
    "\n",
    "rcereal.iloc[:, 3:10] = rcereal.iloc[:, 3:10].apply(lambda x : x / rcereal['cups'])\n",
    "rcereal.iloc[:, 11:14] = rcereal.iloc[:, 11:14].apply(lambda x : x / rcereal['cups'])"
   ]
  },
  {
   "cell_type": "code",
   "execution_count": 24,
   "metadata": {},
   "outputs": [
    {
     "data": {
      "text/html": [
       "<div>\n",
       "<style scoped>\n",
       "    .dataframe tbody tr th:only-of-type {\n",
       "        vertical-align: middle;\n",
       "    }\n",
       "\n",
       "    .dataframe tbody tr th {\n",
       "        vertical-align: top;\n",
       "    }\n",
       "\n",
       "    .dataframe thead th {\n",
       "        text-align: right;\n",
       "    }\n",
       "</style>\n",
       "<table border=\"1\" class=\"dataframe\">\n",
       "  <thead>\n",
       "    <tr style=\"text-align: right;\">\n",
       "      <th></th>\n",
       "      <th>name</th>\n",
       "      <th>manufacturer</th>\n",
       "      <th>type</th>\n",
       "      <th>calories</th>\n",
       "      <th>protein</th>\n",
       "      <th>fat</th>\n",
       "      <th>sodium</th>\n",
       "      <th>fiber</th>\n",
       "      <th>carbs</th>\n",
       "      <th>sugar</th>\n",
       "      <th>shelf</th>\n",
       "      <th>potassium</th>\n",
       "      <th>vitamins</th>\n",
       "      <th>weight</th>\n",
       "      <th>cups</th>\n",
       "    </tr>\n",
       "  </thead>\n",
       "  <tbody>\n",
       "    <tr>\n",
       "      <td>0</td>\n",
       "      <td>100%_Bran</td>\n",
       "      <td>N</td>\n",
       "      <td>C</td>\n",
       "      <td>212.121212</td>\n",
       "      <td>12.121212</td>\n",
       "      <td>3.030303</td>\n",
       "      <td>393.939394</td>\n",
       "      <td>30.303030</td>\n",
       "      <td>15.151515</td>\n",
       "      <td>18.181818</td>\n",
       "      <td>3</td>\n",
       "      <td>848.484848</td>\n",
       "      <td>75.757576</td>\n",
       "      <td>3.030303</td>\n",
       "      <td>0.33</td>\n",
       "    </tr>\n",
       "    <tr>\n",
       "      <td>2</td>\n",
       "      <td>All-Bran</td>\n",
       "      <td>K</td>\n",
       "      <td>C</td>\n",
       "      <td>212.121212</td>\n",
       "      <td>12.121212</td>\n",
       "      <td>3.030303</td>\n",
       "      <td>787.878788</td>\n",
       "      <td>27.272727</td>\n",
       "      <td>21.212121</td>\n",
       "      <td>15.151515</td>\n",
       "      <td>3</td>\n",
       "      <td>969.696970</td>\n",
       "      <td>75.757576</td>\n",
       "      <td>3.030303</td>\n",
       "      <td>0.33</td>\n",
       "    </tr>\n",
       "    <tr>\n",
       "      <td>3</td>\n",
       "      <td>All-Bran_Extra_Fiber</td>\n",
       "      <td>K</td>\n",
       "      <td>C</td>\n",
       "      <td>100.000000</td>\n",
       "      <td>8.000000</td>\n",
       "      <td>0.000000</td>\n",
       "      <td>280.000000</td>\n",
       "      <td>28.000000</td>\n",
       "      <td>16.000000</td>\n",
       "      <td>0.000000</td>\n",
       "      <td>3</td>\n",
       "      <td>660.000000</td>\n",
       "      <td>50.000000</td>\n",
       "      <td>2.000000</td>\n",
       "      <td>0.50</td>\n",
       "    </tr>\n",
       "    <tr>\n",
       "      <td>4</td>\n",
       "      <td>Almond_Delight</td>\n",
       "      <td>R</td>\n",
       "      <td>C</td>\n",
       "      <td>146.666667</td>\n",
       "      <td>2.666667</td>\n",
       "      <td>2.666667</td>\n",
       "      <td>266.666667</td>\n",
       "      <td>1.333333</td>\n",
       "      <td>18.666667</td>\n",
       "      <td>10.666667</td>\n",
       "      <td>3</td>\n",
       "      <td>-1.333333</td>\n",
       "      <td>33.333333</td>\n",
       "      <td>1.333333</td>\n",
       "      <td>0.75</td>\n",
       "    </tr>\n",
       "    <tr>\n",
       "      <td>5</td>\n",
       "      <td>Apple_Cin_Cheerios</td>\n",
       "      <td>G</td>\n",
       "      <td>C</td>\n",
       "      <td>146.666667</td>\n",
       "      <td>2.666667</td>\n",
       "      <td>2.666667</td>\n",
       "      <td>240.000000</td>\n",
       "      <td>2.000000</td>\n",
       "      <td>14.000000</td>\n",
       "      <td>13.333333</td>\n",
       "      <td>1</td>\n",
       "      <td>93.333333</td>\n",
       "      <td>33.333333</td>\n",
       "      <td>1.333333</td>\n",
       "      <td>0.75</td>\n",
       "    </tr>\n",
       "    <tr>\n",
       "      <td>6</td>\n",
       "      <td>Apple_Jacks</td>\n",
       "      <td>K</td>\n",
       "      <td>C</td>\n",
       "      <td>110.000000</td>\n",
       "      <td>2.000000</td>\n",
       "      <td>0.000000</td>\n",
       "      <td>125.000000</td>\n",
       "      <td>1.000000</td>\n",
       "      <td>11.000000</td>\n",
       "      <td>14.000000</td>\n",
       "      <td>2</td>\n",
       "      <td>30.000000</td>\n",
       "      <td>25.000000</td>\n",
       "      <td>1.000000</td>\n",
       "      <td>1.00</td>\n",
       "    </tr>\n",
       "    <tr>\n",
       "      <td>7</td>\n",
       "      <td>Basic_4</td>\n",
       "      <td>G</td>\n",
       "      <td>C</td>\n",
       "      <td>173.333333</td>\n",
       "      <td>4.000000</td>\n",
       "      <td>2.666667</td>\n",
       "      <td>280.000000</td>\n",
       "      <td>2.666667</td>\n",
       "      <td>24.000000</td>\n",
       "      <td>10.666667</td>\n",
       "      <td>3</td>\n",
       "      <td>133.333333</td>\n",
       "      <td>33.333333</td>\n",
       "      <td>1.773333</td>\n",
       "      <td>0.75</td>\n",
       "    </tr>\n",
       "    <tr>\n",
       "      <td>8</td>\n",
       "      <td>Bran_Chex</td>\n",
       "      <td>R</td>\n",
       "      <td>C</td>\n",
       "      <td>134.328358</td>\n",
       "      <td>2.985075</td>\n",
       "      <td>1.492537</td>\n",
       "      <td>298.507463</td>\n",
       "      <td>5.970149</td>\n",
       "      <td>22.388060</td>\n",
       "      <td>8.955224</td>\n",
       "      <td>1</td>\n",
       "      <td>186.567164</td>\n",
       "      <td>37.313433</td>\n",
       "      <td>1.492537</td>\n",
       "      <td>0.67</td>\n",
       "    </tr>\n",
       "    <tr>\n",
       "      <td>9</td>\n",
       "      <td>Bran_Flakes</td>\n",
       "      <td>P</td>\n",
       "      <td>C</td>\n",
       "      <td>134.328358</td>\n",
       "      <td>4.477612</td>\n",
       "      <td>0.000000</td>\n",
       "      <td>313.432836</td>\n",
       "      <td>7.462687</td>\n",
       "      <td>19.402985</td>\n",
       "      <td>7.462687</td>\n",
       "      <td>3</td>\n",
       "      <td>283.582090</td>\n",
       "      <td>37.313433</td>\n",
       "      <td>1.492537</td>\n",
       "      <td>0.67</td>\n",
       "    </tr>\n",
       "    <tr>\n",
       "      <td>10</td>\n",
       "      <td>Cap'n'Crunch</td>\n",
       "      <td>Q</td>\n",
       "      <td>C</td>\n",
       "      <td>160.000000</td>\n",
       "      <td>1.333333</td>\n",
       "      <td>2.666667</td>\n",
       "      <td>293.333333</td>\n",
       "      <td>0.000000</td>\n",
       "      <td>16.000000</td>\n",
       "      <td>16.000000</td>\n",
       "      <td>2</td>\n",
       "      <td>46.666667</td>\n",
       "      <td>33.333333</td>\n",
       "      <td>1.333333</td>\n",
       "      <td>0.75</td>\n",
       "    </tr>\n",
       "  </tbody>\n",
       "</table>\n",
       "</div>"
      ],
      "text/plain": [
       "                    name manufacturer type    calories    protein       fat  \\\n",
       "0              100%_Bran            N    C  212.121212  12.121212  3.030303   \n",
       "2               All-Bran            K    C  212.121212  12.121212  3.030303   \n",
       "3   All-Bran_Extra_Fiber            K    C  100.000000   8.000000  0.000000   \n",
       "4         Almond_Delight            R    C  146.666667   2.666667  2.666667   \n",
       "5     Apple_Cin_Cheerios            G    C  146.666667   2.666667  2.666667   \n",
       "6            Apple_Jacks            K    C  110.000000   2.000000  0.000000   \n",
       "7                Basic_4            G    C  173.333333   4.000000  2.666667   \n",
       "8              Bran_Chex            R    C  134.328358   2.985075  1.492537   \n",
       "9            Bran_Flakes            P    C  134.328358   4.477612  0.000000   \n",
       "10          Cap'n'Crunch            Q    C  160.000000   1.333333  2.666667   \n",
       "\n",
       "        sodium      fiber      carbs      sugar  shelf   potassium   vitamins  \\\n",
       "0   393.939394  30.303030  15.151515  18.181818      3  848.484848  75.757576   \n",
       "2   787.878788  27.272727  21.212121  15.151515      3  969.696970  75.757576   \n",
       "3   280.000000  28.000000  16.000000   0.000000      3  660.000000  50.000000   \n",
       "4   266.666667   1.333333  18.666667  10.666667      3   -1.333333  33.333333   \n",
       "5   240.000000   2.000000  14.000000  13.333333      1   93.333333  33.333333   \n",
       "6   125.000000   1.000000  11.000000  14.000000      2   30.000000  25.000000   \n",
       "7   280.000000   2.666667  24.000000  10.666667      3  133.333333  33.333333   \n",
       "8   298.507463   5.970149  22.388060   8.955224      1  186.567164  37.313433   \n",
       "9   313.432836   7.462687  19.402985   7.462687      3  283.582090  37.313433   \n",
       "10  293.333333   0.000000  16.000000  16.000000      2   46.666667  33.333333   \n",
       "\n",
       "      weight  cups  \n",
       "0   3.030303  0.33  \n",
       "2   3.030303  0.33  \n",
       "3   2.000000  0.50  \n",
       "4   1.333333  0.75  \n",
       "5   1.333333  0.75  \n",
       "6   1.000000  1.00  \n",
       "7   1.773333  0.75  \n",
       "8   1.492537  0.67  \n",
       "9   1.492537  0.67  \n",
       "10  1.333333  0.75  "
      ]
     },
     "execution_count": 24,
     "metadata": {},
     "output_type": "execute_result"
    }
   ],
   "source": [
    "rcereal.head(10)"
   ]
  },
  {
   "cell_type": "markdown",
   "metadata": {},
   "source": [
    "Automatic subseting data by different catagories."
   ]
  },
  {
   "cell_type": "code",
   "execution_count": 22,
   "metadata": {},
   "outputs": [],
   "source": [
    "def SelectMfr(mfrName, data): # select different manufacturer\n",
    "    mfr = data[data['manufacturer'] == mfrName]\n",
    "    return mfr\n",
    "def SelectShelf(shelf, data): #Select different shelf place\n",
    "    shelfNum = data[data['shelf'] == shelf]\n",
    "    return shelfNum\n",
    "def SelectNrt(nrt, data): #Select different nuntrition \n",
    "    sNrt = data [['name', 'manufacturer', 'type', 'shelf', nrt]]\n",
    "    return sNrt"
   ]
  },
  {
   "cell_type": "code",
   "execution_count": 43,
   "metadata": {},
   "outputs": [
    {
     "data": {
      "text/html": [
       "<div>\n",
       "<style scoped>\n",
       "    .dataframe tbody tr th:only-of-type {\n",
       "        vertical-align: middle;\n",
       "    }\n",
       "\n",
       "    .dataframe tbody tr th {\n",
       "        vertical-align: top;\n",
       "    }\n",
       "\n",
       "    .dataframe thead th {\n",
       "        text-align: right;\n",
       "    }\n",
       "</style>\n",
       "<table border=\"1\" class=\"dataframe\">\n",
       "  <thead>\n",
       "    <tr style=\"text-align: right;\">\n",
       "      <th></th>\n",
       "      <th>name</th>\n",
       "      <th>manufacturer</th>\n",
       "      <th>type</th>\n",
       "      <th>calories</th>\n",
       "      <th>protein</th>\n",
       "      <th>fat</th>\n",
       "      <th>sodium</th>\n",
       "      <th>fiber</th>\n",
       "      <th>carbs</th>\n",
       "      <th>sugar</th>\n",
       "      <th>shelf</th>\n",
       "      <th>potassium</th>\n",
       "      <th>vitamins</th>\n",
       "      <th>weight</th>\n",
       "      <th>cups</th>\n",
       "    </tr>\n",
       "  </thead>\n",
       "  <tbody>\n",
       "    <tr>\n",
       "      <td>2</td>\n",
       "      <td>All-Bran</td>\n",
       "      <td>K</td>\n",
       "      <td>C</td>\n",
       "      <td>212.121212</td>\n",
       "      <td>12.121212</td>\n",
       "      <td>3.030303</td>\n",
       "      <td>787.878788</td>\n",
       "      <td>27.272727</td>\n",
       "      <td>21.212121</td>\n",
       "      <td>15.151515</td>\n",
       "      <td>3</td>\n",
       "      <td>969.696970</td>\n",
       "      <td>75.757576</td>\n",
       "      <td>3.030303</td>\n",
       "      <td>0.33</td>\n",
       "    </tr>\n",
       "    <tr>\n",
       "      <td>3</td>\n",
       "      <td>All-Bran_Extra_Fiber</td>\n",
       "      <td>K</td>\n",
       "      <td>C</td>\n",
       "      <td>100.000000</td>\n",
       "      <td>8.000000</td>\n",
       "      <td>0.000000</td>\n",
       "      <td>280.000000</td>\n",
       "      <td>28.000000</td>\n",
       "      <td>16.000000</td>\n",
       "      <td>0.000000</td>\n",
       "      <td>3</td>\n",
       "      <td>660.000000</td>\n",
       "      <td>50.000000</td>\n",
       "      <td>2.000000</td>\n",
       "      <td>0.50</td>\n",
       "    </tr>\n",
       "    <tr>\n",
       "      <td>19</td>\n",
       "      <td>Cracklin'_Oat_Bran</td>\n",
       "      <td>K</td>\n",
       "      <td>C</td>\n",
       "      <td>220.000000</td>\n",
       "      <td>6.000000</td>\n",
       "      <td>6.000000</td>\n",
       "      <td>280.000000</td>\n",
       "      <td>8.000000</td>\n",
       "      <td>20.000000</td>\n",
       "      <td>14.000000</td>\n",
       "      <td>3</td>\n",
       "      <td>320.000000</td>\n",
       "      <td>50.000000</td>\n",
       "      <td>2.000000</td>\n",
       "      <td>0.50</td>\n",
       "    </tr>\n",
       "    <tr>\n",
       "      <td>21</td>\n",
       "      <td>Crispix</td>\n",
       "      <td>K</td>\n",
       "      <td>C</td>\n",
       "      <td>110.000000</td>\n",
       "      <td>2.000000</td>\n",
       "      <td>0.000000</td>\n",
       "      <td>220.000000</td>\n",
       "      <td>1.000000</td>\n",
       "      <td>21.000000</td>\n",
       "      <td>3.000000</td>\n",
       "      <td>3</td>\n",
       "      <td>30.000000</td>\n",
       "      <td>25.000000</td>\n",
       "      <td>1.000000</td>\n",
       "      <td>1.00</td>\n",
       "    </tr>\n",
       "    <tr>\n",
       "      <td>28</td>\n",
       "      <td>Fruitful_Bran</td>\n",
       "      <td>K</td>\n",
       "      <td>C</td>\n",
       "      <td>179.104478</td>\n",
       "      <td>4.477612</td>\n",
       "      <td>0.000000</td>\n",
       "      <td>358.208955</td>\n",
       "      <td>7.462687</td>\n",
       "      <td>20.895522</td>\n",
       "      <td>17.910448</td>\n",
       "      <td>3</td>\n",
       "      <td>283.582090</td>\n",
       "      <td>37.313433</td>\n",
       "      <td>1.985075</td>\n",
       "      <td>0.67</td>\n",
       "    </tr>\n",
       "    <tr>\n",
       "      <td>39</td>\n",
       "      <td>Just_Right_Fruit_Nut</td>\n",
       "      <td>K</td>\n",
       "      <td>C</td>\n",
       "      <td>186.666667</td>\n",
       "      <td>4.000000</td>\n",
       "      <td>1.333333</td>\n",
       "      <td>226.666667</td>\n",
       "      <td>2.666667</td>\n",
       "      <td>26.666667</td>\n",
       "      <td>12.000000</td>\n",
       "      <td>3</td>\n",
       "      <td>126.666667</td>\n",
       "      <td>133.333333</td>\n",
       "      <td>1.733333</td>\n",
       "      <td>0.75</td>\n",
       "    </tr>\n",
       "    <tr>\n",
       "      <td>46</td>\n",
       "      <td>Mueslix_Crispy_Blend</td>\n",
       "      <td>K</td>\n",
       "      <td>C</td>\n",
       "      <td>238.805970</td>\n",
       "      <td>4.477612</td>\n",
       "      <td>2.985075</td>\n",
       "      <td>223.880597</td>\n",
       "      <td>4.477612</td>\n",
       "      <td>25.373134</td>\n",
       "      <td>19.402985</td>\n",
       "      <td>3</td>\n",
       "      <td>238.805970</td>\n",
       "      <td>37.313433</td>\n",
       "      <td>2.238806</td>\n",
       "      <td>0.67</td>\n",
       "    </tr>\n",
       "    <tr>\n",
       "      <td>49</td>\n",
       "      <td>Nutri-Grain_Almond</td>\n",
       "      <td>K</td>\n",
       "      <td>C</td>\n",
       "      <td>208.955224</td>\n",
       "      <td>4.477612</td>\n",
       "      <td>2.985075</td>\n",
       "      <td>328.358209</td>\n",
       "      <td>4.477612</td>\n",
       "      <td>31.343284</td>\n",
       "      <td>10.447761</td>\n",
       "      <td>3</td>\n",
       "      <td>194.029851</td>\n",
       "      <td>37.313433</td>\n",
       "      <td>1.985075</td>\n",
       "      <td>0.67</td>\n",
       "    </tr>\n",
       "    <tr>\n",
       "      <td>53</td>\n",
       "      <td>Product_19</td>\n",
       "      <td>K</td>\n",
       "      <td>C</td>\n",
       "      <td>100.000000</td>\n",
       "      <td>3.000000</td>\n",
       "      <td>0.000000</td>\n",
       "      <td>320.000000</td>\n",
       "      <td>1.000000</td>\n",
       "      <td>20.000000</td>\n",
       "      <td>3.000000</td>\n",
       "      <td>3</td>\n",
       "      <td>45.000000</td>\n",
       "      <td>100.000000</td>\n",
       "      <td>1.000000</td>\n",
       "      <td>1.00</td>\n",
       "    </tr>\n",
       "    <tr>\n",
       "      <td>60</td>\n",
       "      <td>Raisin_Squares</td>\n",
       "      <td>K</td>\n",
       "      <td>C</td>\n",
       "      <td>180.000000</td>\n",
       "      <td>4.000000</td>\n",
       "      <td>0.000000</td>\n",
       "      <td>0.000000</td>\n",
       "      <td>4.000000</td>\n",
       "      <td>30.000000</td>\n",
       "      <td>12.000000</td>\n",
       "      <td>3</td>\n",
       "      <td>220.000000</td>\n",
       "      <td>50.000000</td>\n",
       "      <td>2.000000</td>\n",
       "      <td>0.50</td>\n",
       "    </tr>\n",
       "  </tbody>\n",
       "</table>\n",
       "</div>"
      ],
      "text/plain": [
       "                    name manufacturer type    calories    protein       fat  \\\n",
       "2               All-Bran            K    C  212.121212  12.121212  3.030303   \n",
       "3   All-Bran_Extra_Fiber            K    C  100.000000   8.000000  0.000000   \n",
       "19    Cracklin'_Oat_Bran            K    C  220.000000   6.000000  6.000000   \n",
       "21               Crispix            K    C  110.000000   2.000000  0.000000   \n",
       "28         Fruitful_Bran            K    C  179.104478   4.477612  0.000000   \n",
       "39  Just_Right_Fruit_Nut            K    C  186.666667   4.000000  1.333333   \n",
       "46  Mueslix_Crispy_Blend            K    C  238.805970   4.477612  2.985075   \n",
       "49    Nutri-Grain_Almond            K    C  208.955224   4.477612  2.985075   \n",
       "53            Product_19            K    C  100.000000   3.000000  0.000000   \n",
       "60        Raisin_Squares            K    C  180.000000   4.000000  0.000000   \n",
       "\n",
       "        sodium      fiber      carbs      sugar  shelf   potassium  \\\n",
       "2   787.878788  27.272727  21.212121  15.151515      3  969.696970   \n",
       "3   280.000000  28.000000  16.000000   0.000000      3  660.000000   \n",
       "19  280.000000   8.000000  20.000000  14.000000      3  320.000000   \n",
       "21  220.000000   1.000000  21.000000   3.000000      3   30.000000   \n",
       "28  358.208955   7.462687  20.895522  17.910448      3  283.582090   \n",
       "39  226.666667   2.666667  26.666667  12.000000      3  126.666667   \n",
       "46  223.880597   4.477612  25.373134  19.402985      3  238.805970   \n",
       "49  328.358209   4.477612  31.343284  10.447761      3  194.029851   \n",
       "53  320.000000   1.000000  20.000000   3.000000      3   45.000000   \n",
       "60    0.000000   4.000000  30.000000  12.000000      3  220.000000   \n",
       "\n",
       "      vitamins    weight  cups  \n",
       "2    75.757576  3.030303  0.33  \n",
       "3    50.000000  2.000000  0.50  \n",
       "19   50.000000  2.000000  0.50  \n",
       "21   25.000000  1.000000  1.00  \n",
       "28   37.313433  1.985075  0.67  \n",
       "39  133.333333  1.733333  0.75  \n",
       "46   37.313433  2.238806  0.67  \n",
       "49   37.313433  1.985075  0.67  \n",
       "53  100.000000  1.000000  1.00  \n",
       "60   50.000000  2.000000  0.50  "
      ]
     },
     "execution_count": 43,
     "metadata": {},
     "output_type": "execute_result"
    }
   ],
   "source": [
    "mK = SelectMfr('K', rcereal)\n",
    "mK\n",
    "shelf = SelectShelf(3, mK)\n",
    "shelf # test: Extract manufacturer K and shelf 3 procduct"
   ]
  },
  {
   "cell_type": "code",
   "execution_count": 40,
   "metadata": {},
   "outputs": [
    {
     "data": {
      "text/html": [
       "<div>\n",
       "<style scoped>\n",
       "    .dataframe tbody tr th:only-of-type {\n",
       "        vertical-align: middle;\n",
       "    }\n",
       "\n",
       "    .dataframe tbody tr th {\n",
       "        vertical-align: top;\n",
       "    }\n",
       "\n",
       "    .dataframe thead th {\n",
       "        text-align: right;\n",
       "    }\n",
       "</style>\n",
       "<table border=\"1\" class=\"dataframe\">\n",
       "  <thead>\n",
       "    <tr style=\"text-align: right;\">\n",
       "      <th></th>\n",
       "      <th>name</th>\n",
       "      <th>manufacturer</th>\n",
       "      <th>type</th>\n",
       "      <th>shelf</th>\n",
       "      <th>fat</th>\n",
       "    </tr>\n",
       "  </thead>\n",
       "  <tbody>\n",
       "    <tr>\n",
       "      <td>0</td>\n",
       "      <td>100%_Bran</td>\n",
       "      <td>N</td>\n",
       "      <td>C</td>\n",
       "      <td>3</td>\n",
       "      <td>3.030303</td>\n",
       "    </tr>\n",
       "    <tr>\n",
       "      <td>2</td>\n",
       "      <td>All-Bran</td>\n",
       "      <td>K</td>\n",
       "      <td>C</td>\n",
       "      <td>3</td>\n",
       "      <td>3.030303</td>\n",
       "    </tr>\n",
       "    <tr>\n",
       "      <td>3</td>\n",
       "      <td>All-Bran_Extra_Fiber</td>\n",
       "      <td>K</td>\n",
       "      <td>C</td>\n",
       "      <td>3</td>\n",
       "      <td>0.000000</td>\n",
       "    </tr>\n",
       "    <tr>\n",
       "      <td>4</td>\n",
       "      <td>Almond_Delight</td>\n",
       "      <td>R</td>\n",
       "      <td>C</td>\n",
       "      <td>3</td>\n",
       "      <td>2.666667</td>\n",
       "    </tr>\n",
       "    <tr>\n",
       "      <td>5</td>\n",
       "      <td>Apple_Cin_Cheerios</td>\n",
       "      <td>G</td>\n",
       "      <td>C</td>\n",
       "      <td>1</td>\n",
       "      <td>2.666667</td>\n",
       "    </tr>\n",
       "    <tr>\n",
       "      <td>...</td>\n",
       "      <td>...</td>\n",
       "      <td>...</td>\n",
       "      <td>...</td>\n",
       "      <td>...</td>\n",
       "      <td>...</td>\n",
       "    </tr>\n",
       "    <tr>\n",
       "      <td>72</td>\n",
       "      <td>Triples</td>\n",
       "      <td>G</td>\n",
       "      <td>C</td>\n",
       "      <td>3</td>\n",
       "      <td>1.333333</td>\n",
       "    </tr>\n",
       "    <tr>\n",
       "      <td>73</td>\n",
       "      <td>Trix</td>\n",
       "      <td>G</td>\n",
       "      <td>C</td>\n",
       "      <td>2</td>\n",
       "      <td>1.000000</td>\n",
       "    </tr>\n",
       "    <tr>\n",
       "      <td>74</td>\n",
       "      <td>Wheat_Chex</td>\n",
       "      <td>R</td>\n",
       "      <td>C</td>\n",
       "      <td>1</td>\n",
       "      <td>1.492537</td>\n",
       "    </tr>\n",
       "    <tr>\n",
       "      <td>75</td>\n",
       "      <td>Wheaties</td>\n",
       "      <td>G</td>\n",
       "      <td>C</td>\n",
       "      <td>1</td>\n",
       "      <td>1.000000</td>\n",
       "    </tr>\n",
       "    <tr>\n",
       "      <td>76</td>\n",
       "      <td>Wheaties_Honey_Gold</td>\n",
       "      <td>G</td>\n",
       "      <td>C</td>\n",
       "      <td>1</td>\n",
       "      <td>1.333333</td>\n",
       "    </tr>\n",
       "  </tbody>\n",
       "</table>\n",
       "<p>68 rows × 5 columns</p>\n",
       "</div>"
      ],
      "text/plain": [
       "                    name manufacturer type  shelf       fat\n",
       "0              100%_Bran            N    C      3  3.030303\n",
       "2               All-Bran            K    C      3  3.030303\n",
       "3   All-Bran_Extra_Fiber            K    C      3  0.000000\n",
       "4         Almond_Delight            R    C      3  2.666667\n",
       "5     Apple_Cin_Cheerios            G    C      1  2.666667\n",
       "..                   ...          ...  ...    ...       ...\n",
       "72               Triples            G    C      3  1.333333\n",
       "73                  Trix            G    C      2  1.000000\n",
       "74            Wheat_Chex            R    C      1  1.492537\n",
       "75              Wheaties            G    C      1  1.000000\n",
       "76   Wheaties_Honey_Gold            G    C      1  1.333333\n",
       "\n",
       "[68 rows x 5 columns]"
      ]
     },
     "execution_count": 40,
     "metadata": {},
     "output_type": "execute_result"
    }
   ],
   "source": [
    "fat = SelectNrt('fat', rcereal)\n",
    "fat #test: Extract only fat data form the rcereal data"
   ]
  },
  {
   "cell_type": "code",
   "execution_count": 27,
   "metadata": {},
   "outputs": [],
   "source": [
    "import plotly.express as px"
   ]
  },
  {
   "cell_type": "code",
   "execution_count": 29,
   "metadata": {},
   "outputs": [
    {
     "data": {
      "application/vnd.plotly.v1+json": {
       "config": {
        "plotlyServerURL": "https://plot.ly"
       },
       "data": [
        {
         "dimensions": [
          {
           "axis": {
            "matches": true
           },
           "label": "protein",
           "values": [
            12.121212121212121,
            3,
            4.477611940298507,
            4.477611940298507
           ]
          },
          {
           "axis": {
            "matches": true
           },
           "label": "fat",
           "values": [
            3.0303030303030303,
            0,
            0,
            0
           ]
          },
          {
           "axis": {
            "matches": true
           },
           "label": "sodium",
           "values": [
            393.93939393939394,
            80,
            0,
            0
           ]
          },
          {
           "axis": {
            "matches": true
           },
           "label": "fiber",
           "values": [
            30.3030303030303,
            1,
            5.970149253731343,
            4.477611940298507
           ]
          },
          {
           "axis": {
            "matches": true
           },
           "label": "carbs",
           "values": [
            15.15151515151515,
            21,
            28.35820895522388,
            29.850746268656714
           ]
          },
          {
           "axis": {
            "matches": true
           },
           "label": "sugar",
           "values": [
            18.18181818181818,
            0,
            0,
            0
           ]
          },
          {
           "axis": {
            "matches": true
           },
           "label": "potassium",
           "values": [
            848.4848484848485,
            -1,
            208.955223880597,
            179.1044776119403
           ]
          },
          {
           "axis": {
            "matches": true
           },
           "label": "vitamins",
           "values": [
            75.75757575757575,
            0,
            0,
            0
           ]
          }
         ],
         "hoverlabel": {
          "namelength": 0
         },
         "hovertemplate": "manufacturer=N<br>%{xaxis.title.text}=%{x}<br>%{yaxis.title.text}=%{y}",
         "legendgroup": "manufacturer=N",
         "marker": {
          "color": "#636efa",
          "symbol": "circle"
         },
         "name": "manufacturer=N",
         "showlegend": true,
         "type": "splom"
        },
        {
         "dimensions": [
          {
           "axis": {
            "matches": true
           },
           "label": "protein",
           "values": [
            12.121212121212121,
            8,
            2,
            2,
            1,
            6,
            2,
            2,
            1.3333333333333333,
            3.75,
            4.477611940298507,
            4,
            4.477611940298507,
            2.9850746268656714,
            4.477611940298507,
            3,
            4,
            4,
            2,
            2.6666666666666665,
            6
           ]
          },
          {
           "axis": {
            "matches": true
           },
           "label": "fat",
           "values": [
            3.0303030303030303,
            0,
            0,
            0,
            0,
            6,
            0,
            1,
            0,
            0,
            0,
            1.3333333333333333,
            2.9850746268656714,
            1.4925373134328357,
            2.9850746268656714,
            0,
            1.3333333333333333,
            0,
            0,
            1.3333333333333333,
            0
           ]
          },
          {
           "axis": {
            "matches": true
           },
           "label": "sodium",
           "values": [
            787.8787878787879,
            280,
            125,
            290,
            90,
            280,
            220,
            125,
            266.6666666666667,
            0,
            358.2089552238806,
            226.66666666666666,
            223.88059701492537,
            283.5820895522388,
            328.35820895522386,
            320,
            280,
            0,
            290,
            93.33333333333333,
            230
           ]
          },
          {
           "axis": {
            "matches": true
           },
           "label": "fiber",
           "values": [
            27.27272727272727,
            28,
            1,
            1,
            1,
            8,
            1,
            1,
            1.3333333333333333,
            3.75,
            7.462686567164178,
            2.6666666666666665,
            4.477611940298507,
            0,
            4.477611940298507,
            1,
            6.666666666666667,
            4,
            0,
            1.3333333333333333,
            1
           ]
          },
          {
           "axis": {
            "matches": true
           },
           "label": "carbs",
           "values": [
            21.21212121212121,
            16,
            11,
            21,
            13,
            20,
            21,
            11,
            18.666666666666668,
            17.5,
            20.8955223880597,
            26.666666666666668,
            25.37313432835821,
            22.388059701492537,
            31.34328358208955,
            20,
            18.666666666666668,
            30,
            22,
            12,
            16
           ]
          },
          {
           "axis": {
            "matches": true
           },
           "label": "sugar",
           "values": [
            15.15151515151515,
            0,
            14,
            2,
            12,
            14,
            3,
            13,
            14.666666666666666,
            8.75,
            17.91044776119403,
            12,
            19.402985074626866,
            13.432835820895521,
            10.44776119402985,
            3,
            16,
            12,
            3,
            20,
            3
           ]
          },
          {
           "axis": {
            "matches": true
           },
           "label": "potassium",
           "values": [
            969.6969696969696,
            660,
            30,
            35,
            20,
            320,
            30,
            30,
            33.333333333333336,
            125,
            283.5820895522388,
            126.66666666666667,
            238.8059701492537,
            59.70149253731343,
            194.02985074626864,
            45,
            320,
            220,
            35,
            53.333333333333336,
            55
           ]
          },
          {
           "axis": {
            "matches": true
           },
           "label": "vitamins",
           "values": [
            75.75757575757575,
            50,
            25,
            25,
            25,
            50,
            25,
            25,
            33.333333333333336,
            31.25,
            37.31343283582089,
            133.33333333333334,
            37.31343283582089,
            37.31343283582089,
            37.31343283582089,
            100,
            33.333333333333336,
            50,
            25,
            33.333333333333336,
            25
           ]
          }
         ],
         "hoverlabel": {
          "namelength": 0
         },
         "hovertemplate": "manufacturer=K<br>%{xaxis.title.text}=%{x}<br>%{yaxis.title.text}=%{y}",
         "legendgroup": "manufacturer=K",
         "marker": {
          "color": "#EF553B",
          "symbol": "circle"
         },
         "name": "manufacturer=K",
         "showlegend": true,
         "type": "splom"
        },
        {
         "dimensions": [
          {
           "axis": {
            "matches": true
           },
           "label": "protein",
           "values": [
            2.6666666666666665,
            2.9850746268656714,
            2,
            2.6666666666666665,
            0.8849557522123894,
            4.477611940298507
           ]
          },
          {
           "axis": {
            "matches": true
           },
           "label": "fat",
           "values": [
            2.6666666666666665,
            1.4925373134328357,
            0,
            0,
            0,
            1.4925373134328357
           ]
          },
          {
           "axis": {
            "matches": true
           },
           "label": "sodium",
           "values": [
            266.6666666666667,
            298.5074626865671,
            280,
            253.33333333333334,
            212.38938053097348,
            343.2835820895522
           ]
          },
          {
           "axis": {
            "matches": true
           },
           "label": "fiber",
           "values": [
            1.3333333333333333,
            5.970149253731343,
            0,
            1.3333333333333333,
            0,
            4.477611940298507
           ]
          },
          {
           "axis": {
            "matches": true
           },
           "label": "carbs",
           "values": [
            18.666666666666668,
            22.388059701492537,
            22,
            24,
            20.353982300884958,
            25.37313432835821
           ]
          },
          {
           "axis": {
            "matches": true
           },
           "label": "sugar",
           "values": [
            10.666666666666666,
            8.955223880597014,
            3,
            6.666666666666667,
            1.7699115044247788,
            4.477611940298507
           ]
          },
          {
           "axis": {
            "matches": true
           },
           "label": "potassium",
           "values": [
            -1.3333333333333333,
            186.56716417910448,
            25,
            106.66666666666667,
            26.548672566371685,
            171.6417910447761
           ]
          },
          {
           "axis": {
            "matches": true
           },
           "label": "vitamins",
           "values": [
            33.333333333333336,
            37.31343283582089,
            25,
            33.333333333333336,
            22.123893805309738,
            37.31343283582089
           ]
          }
         ],
         "hoverlabel": {
          "namelength": 0
         },
         "hovertemplate": "manufacturer=R<br>%{xaxis.title.text}=%{x}<br>%{yaxis.title.text}=%{y}",
         "legendgroup": "manufacturer=R",
         "marker": {
          "color": "#00cc96",
          "symbol": "circle"
         },
         "name": "manufacturer=R",
         "showlegend": true,
         "type": "splom"
        },
        {
         "dimensions": [
          {
           "axis": {
            "matches": true
           },
           "label": "protein",
           "values": [
            2.6666666666666665,
            4,
            4.8,
            1.3333333333333333,
            6,
            1,
            1,
            2.6666666666666665,
            1.3333333333333333,
            4,
            1.3333333333333333,
            2,
            2,
            6,
            6,
            2,
            3,
            3,
            2.6666666666666665,
            1,
            3,
            2.6666666666666665
           ]
          },
          {
           "axis": {
            "matches": true
           },
           "label": "fat",
           "values": [
            2.6666666666666665,
            2.6666666666666665,
            1.6,
            4,
            4,
            1,
            1,
            1.3333333333333333,
            1.3333333333333333,
            1.3333333333333333,
            0.6666666666666666,
            1,
            1,
            4,
            4,
            1,
            1,
            1,
            1.3333333333333333,
            1,
            1,
            1.3333333333333333
           ]
          },
          {
           "axis": {
            "matches": true
           },
           "label": "sodium",
           "values": [
            240,
            280,
            232,
            280,
            280,
            180,
            180,
            186.66666666666666,
            373.3333333333333,
            333.3333333333333,
            173.33333333333334,
            180,
            220,
            340,
            280,
            200,
            190,
            200,
            333.3333333333333,
            140,
            200,
            266.6666666666667
           ]
          },
          {
           "axis": {
            "matches": true
           },
           "label": "fiber",
           "values": [
            2,
            2.6666666666666665,
            1.6,
            0,
            4,
            0,
            0,
            2.6666666666666665,
            0,
            2,
            0,
            0,
            2,
            3,
            5,
            0,
            4,
            3,
            0,
            0,
            3,
            1.3333333333333333
           ]
          },
          {
           "axis": {
            "matches": true
           },
           "label": "carbs",
           "values": [
            14,
            24,
            13.6,
            17.333333333333332,
            26,
            12,
            12,
            14.666666666666666,
            20,
            15.333333333333334,
            14,
            12,
            15,
            27,
            21,
            21,
            15,
            16,
            28,
            13,
            17,
            21.333333333333332
           ]
          },
          {
           "axis": {
            "matches": true
           },
           "label": "sugar",
           "values": [
            13.333333333333334,
            10.666666666666666,
            0.8,
            12,
            14,
            13,
            13,
            13.333333333333334,
            12,
            13.333333333333334,
            2,
            12,
            6,
            20,
            16,
            3,
            14,
            3,
            4,
            12,
            3,
            10.666666666666666
           ]
          },
          {
           "axis": {
            "matches": true
           },
           "label": "potassium",
           "values": [
            93.33333333333333,
            133.33333333333334,
            84,
            60,
            210,
            55,
            65,
            160,
            60,
            120,
            26.666666666666668,
            55,
            90,
            240,
            280,
            35,
            230,
            110,
            80,
            25,
            110,
            80
           ]
          },
          {
           "axis": {
            "matches": true
           },
           "label": "vitamins",
           "values": [
            33.333333333333336,
            33.333333333333336,
            20,
            33.333333333333336,
            50,
            25,
            25,
            33.333333333333336,
            33.333333333333336,
            33.333333333333336,
            16.666666666666668,
            25,
            25,
            50,
            50,
            100,
            100,
            100,
            33.333333333333336,
            25,
            25,
            33.333333333333336
           ]
          }
         ],
         "hoverlabel": {
          "namelength": 0
         },
         "hovertemplate": "manufacturer=G<br>%{xaxis.title.text}=%{x}<br>%{yaxis.title.text}=%{y}",
         "legendgroup": "manufacturer=G",
         "marker": {
          "color": "#ab63fa",
          "symbol": "circle"
         },
         "name": "manufacturer=G",
         "showlegend": true,
         "type": "splom"
        },
        {
         "dimensions": [
          {
           "axis": {
            "matches": true
           },
           "label": "protein",
           "values": [
            4.477611940298507,
            4.477611940298507,
            1.3333333333333333,
            2.272727272727273,
            3.409090909090909,
            12,
            9.09090909090909,
            0.7518796992481203,
            4.477611940298507
           ]
          },
          {
           "axis": {
            "matches": true
           },
           "label": "fat",
           "values": [
            0,
            2.9850746268656714,
            1.3333333333333333,
            0,
            1.1363636363636365,
            0,
            9.09090909090909,
            0,
            1.4925373134328357
           ]
          },
          {
           "axis": {
            "matches": true
           },
           "label": "sodium",
           "values": [
            313.4328358208955,
            238.8059701492537,
            180,
            51.13636363636363,
            159.0909090909091,
            680,
            227.27272727272725,
            135.33834586466165,
            298.5074626865671
           ]
          },
          {
           "axis": {
            "matches": true
           },
           "label": "fiber",
           "values": [
            7.462686567164178,
            7.462686567164178,
            0,
            0,
            3.409090909090909,
            12,
            9.09090909090909,
            0,
            8.955223880597014
           ]
          },
          {
           "axis": {
            "matches": true
           },
           "label": "carbs",
           "values": [
            19.402985074626866,
            17.91044776119403,
            17.333333333333332,
            12.5,
            17.045454545454547,
            68,
            39.39393939393939,
            10.526315789473683,
            16.417910447761194
           ]
          },
          {
           "axis": {
            "matches": true
           },
           "label": "sugar",
           "values": [
            7.462686567164178,
            14.925373134328357,
            16,
            17.045454545454547,
            5.681818181818182,
            12,
            12.121212121212121,
            8.270676691729323,
            20.8955223880597
           ]
          },
          {
           "axis": {
            "matches": true
           },
           "label": "potassium",
           "values": [
            283.5820895522388,
            298.5074626865671,
            33.333333333333336,
            45.45454545454545,
            96.5909090909091,
            360,
            303.030303030303,
            26.31578947368421,
            388.0597014925373
           ]
          },
          {
           "axis": {
            "matches": true
           },
           "label": "vitamins",
           "values": [
            37.31343283582089,
            37.31343283582089,
            33.333333333333336,
            28.40909090909091,
            28.40909090909091,
            100,
            75.75757575757575,
            18.796992481203006,
            37.31343283582089
           ]
          }
         ],
         "hoverlabel": {
          "namelength": 0
         },
         "hovertemplate": "manufacturer=P<br>%{xaxis.title.text}=%{x}<br>%{yaxis.title.text}=%{y}",
         "legendgroup": "manufacturer=P",
         "marker": {
          "color": "#FFA15A",
          "symbol": "circle"
         },
         "name": "manufacturer=P",
         "showlegend": true,
         "type": "splom"
        },
        {
         "dimensions": [
          {
           "axis": {
            "matches": true
           },
           "label": "protein",
           "values": [
            1.3333333333333333,
            1,
            5.970149253731343,
            1,
            8,
            7.462686567164178
           ]
          },
          {
           "axis": {
            "matches": true
           },
           "label": "fat",
           "values": [
            2.6666666666666665,
            2,
            2.9850746268656714,
            0,
            2,
            2.9850746268656714
           ]
          },
          {
           "axis": {
            "matches": true
           },
           "label": "sodium",
           "values": [
            293.3333333333333,
            220,
            223.88059701492537,
            0,
            270,
            0
           ]
          },
          {
           "axis": {
            "matches": true
           },
           "label": "fiber",
           "values": [
            0,
            1,
            2.9850746268656714,
            0,
            4,
            4.029850746268656
           ]
          },
          {
           "axis": {
            "matches": true
           },
           "label": "carbs",
           "values": [
            16,
            12,
            17.91044776119403,
            13,
            28,
            -1.4925373134328357
           ]
          },
          {
           "axis": {
            "matches": true
           },
           "label": "sugar",
           "values": [
            16,
            11,
            8.955223880597014,
            0,
            12,
            -1.4925373134328357
           ]
          },
          {
           "axis": {
            "matches": true
           },
           "label": "potassium",
           "values": [
            46.666666666666664,
            45,
            141.7910447761194,
            15,
            220,
            164.17910447761193
           ]
          },
          {
           "axis": {
            "matches": true
           },
           "label": "vitamins",
           "values": [
            33.333333333333336,
            25,
            37.31343283582089,
            0,
            50,
            0
           ]
          }
         ],
         "hoverlabel": {
          "namelength": 0
         },
         "hovertemplate": "manufacturer=Q<br>%{xaxis.title.text}=%{x}<br>%{yaxis.title.text}=%{y}",
         "legendgroup": "manufacturer=Q",
         "marker": {
          "color": "#19d3f3",
          "symbol": "circle"
         },
         "name": "manufacturer=Q",
         "showlegend": true,
         "type": "splom"
        }
       ],
       "layout": {
        "dragmode": "select",
        "height": 600,
        "legend": {
         "tracegroupgap": 0
        },
        "margin": {
         "t": 60
        },
        "template": {
         "data": {
          "bar": [
           {
            "error_x": {
             "color": "#2a3f5f"
            },
            "error_y": {
             "color": "#2a3f5f"
            },
            "marker": {
             "line": {
              "color": "#E5ECF6",
              "width": 0.5
             }
            },
            "type": "bar"
           }
          ],
          "barpolar": [
           {
            "marker": {
             "line": {
              "color": "#E5ECF6",
              "width": 0.5
             }
            },
            "type": "barpolar"
           }
          ],
          "carpet": [
           {
            "aaxis": {
             "endlinecolor": "#2a3f5f",
             "gridcolor": "white",
             "linecolor": "white",
             "minorgridcolor": "white",
             "startlinecolor": "#2a3f5f"
            },
            "baxis": {
             "endlinecolor": "#2a3f5f",
             "gridcolor": "white",
             "linecolor": "white",
             "minorgridcolor": "white",
             "startlinecolor": "#2a3f5f"
            },
            "type": "carpet"
           }
          ],
          "choropleth": [
           {
            "colorbar": {
             "outlinewidth": 0,
             "ticks": ""
            },
            "type": "choropleth"
           }
          ],
          "contour": [
           {
            "colorbar": {
             "outlinewidth": 0,
             "ticks": ""
            },
            "colorscale": [
             [
              0,
              "#0d0887"
             ],
             [
              0.1111111111111111,
              "#46039f"
             ],
             [
              0.2222222222222222,
              "#7201a8"
             ],
             [
              0.3333333333333333,
              "#9c179e"
             ],
             [
              0.4444444444444444,
              "#bd3786"
             ],
             [
              0.5555555555555556,
              "#d8576b"
             ],
             [
              0.6666666666666666,
              "#ed7953"
             ],
             [
              0.7777777777777778,
              "#fb9f3a"
             ],
             [
              0.8888888888888888,
              "#fdca26"
             ],
             [
              1,
              "#f0f921"
             ]
            ],
            "type": "contour"
           }
          ],
          "contourcarpet": [
           {
            "colorbar": {
             "outlinewidth": 0,
             "ticks": ""
            },
            "type": "contourcarpet"
           }
          ],
          "heatmap": [
           {
            "colorbar": {
             "outlinewidth": 0,
             "ticks": ""
            },
            "colorscale": [
             [
              0,
              "#0d0887"
             ],
             [
              0.1111111111111111,
              "#46039f"
             ],
             [
              0.2222222222222222,
              "#7201a8"
             ],
             [
              0.3333333333333333,
              "#9c179e"
             ],
             [
              0.4444444444444444,
              "#bd3786"
             ],
             [
              0.5555555555555556,
              "#d8576b"
             ],
             [
              0.6666666666666666,
              "#ed7953"
             ],
             [
              0.7777777777777778,
              "#fb9f3a"
             ],
             [
              0.8888888888888888,
              "#fdca26"
             ],
             [
              1,
              "#f0f921"
             ]
            ],
            "type": "heatmap"
           }
          ],
          "heatmapgl": [
           {
            "colorbar": {
             "outlinewidth": 0,
             "ticks": ""
            },
            "colorscale": [
             [
              0,
              "#0d0887"
             ],
             [
              0.1111111111111111,
              "#46039f"
             ],
             [
              0.2222222222222222,
              "#7201a8"
             ],
             [
              0.3333333333333333,
              "#9c179e"
             ],
             [
              0.4444444444444444,
              "#bd3786"
             ],
             [
              0.5555555555555556,
              "#d8576b"
             ],
             [
              0.6666666666666666,
              "#ed7953"
             ],
             [
              0.7777777777777778,
              "#fb9f3a"
             ],
             [
              0.8888888888888888,
              "#fdca26"
             ],
             [
              1,
              "#f0f921"
             ]
            ],
            "type": "heatmapgl"
           }
          ],
          "histogram": [
           {
            "marker": {
             "colorbar": {
              "outlinewidth": 0,
              "ticks": ""
             }
            },
            "type": "histogram"
           }
          ],
          "histogram2d": [
           {
            "colorbar": {
             "outlinewidth": 0,
             "ticks": ""
            },
            "colorscale": [
             [
              0,
              "#0d0887"
             ],
             [
              0.1111111111111111,
              "#46039f"
             ],
             [
              0.2222222222222222,
              "#7201a8"
             ],
             [
              0.3333333333333333,
              "#9c179e"
             ],
             [
              0.4444444444444444,
              "#bd3786"
             ],
             [
              0.5555555555555556,
              "#d8576b"
             ],
             [
              0.6666666666666666,
              "#ed7953"
             ],
             [
              0.7777777777777778,
              "#fb9f3a"
             ],
             [
              0.8888888888888888,
              "#fdca26"
             ],
             [
              1,
              "#f0f921"
             ]
            ],
            "type": "histogram2d"
           }
          ],
          "histogram2dcontour": [
           {
            "colorbar": {
             "outlinewidth": 0,
             "ticks": ""
            },
            "colorscale": [
             [
              0,
              "#0d0887"
             ],
             [
              0.1111111111111111,
              "#46039f"
             ],
             [
              0.2222222222222222,
              "#7201a8"
             ],
             [
              0.3333333333333333,
              "#9c179e"
             ],
             [
              0.4444444444444444,
              "#bd3786"
             ],
             [
              0.5555555555555556,
              "#d8576b"
             ],
             [
              0.6666666666666666,
              "#ed7953"
             ],
             [
              0.7777777777777778,
              "#fb9f3a"
             ],
             [
              0.8888888888888888,
              "#fdca26"
             ],
             [
              1,
              "#f0f921"
             ]
            ],
            "type": "histogram2dcontour"
           }
          ],
          "mesh3d": [
           {
            "colorbar": {
             "outlinewidth": 0,
             "ticks": ""
            },
            "type": "mesh3d"
           }
          ],
          "parcoords": [
           {
            "line": {
             "colorbar": {
              "outlinewidth": 0,
              "ticks": ""
             }
            },
            "type": "parcoords"
           }
          ],
          "scatter": [
           {
            "marker": {
             "colorbar": {
              "outlinewidth": 0,
              "ticks": ""
             }
            },
            "type": "scatter"
           }
          ],
          "scatter3d": [
           {
            "line": {
             "colorbar": {
              "outlinewidth": 0,
              "ticks": ""
             }
            },
            "marker": {
             "colorbar": {
              "outlinewidth": 0,
              "ticks": ""
             }
            },
            "type": "scatter3d"
           }
          ],
          "scattercarpet": [
           {
            "marker": {
             "colorbar": {
              "outlinewidth": 0,
              "ticks": ""
             }
            },
            "type": "scattercarpet"
           }
          ],
          "scattergeo": [
           {
            "marker": {
             "colorbar": {
              "outlinewidth": 0,
              "ticks": ""
             }
            },
            "type": "scattergeo"
           }
          ],
          "scattergl": [
           {
            "marker": {
             "colorbar": {
              "outlinewidth": 0,
              "ticks": ""
             }
            },
            "type": "scattergl"
           }
          ],
          "scattermapbox": [
           {
            "marker": {
             "colorbar": {
              "outlinewidth": 0,
              "ticks": ""
             }
            },
            "type": "scattermapbox"
           }
          ],
          "scatterpolar": [
           {
            "marker": {
             "colorbar": {
              "outlinewidth": 0,
              "ticks": ""
             }
            },
            "type": "scatterpolar"
           }
          ],
          "scatterpolargl": [
           {
            "marker": {
             "colorbar": {
              "outlinewidth": 0,
              "ticks": ""
             }
            },
            "type": "scatterpolargl"
           }
          ],
          "scatterternary": [
           {
            "marker": {
             "colorbar": {
              "outlinewidth": 0,
              "ticks": ""
             }
            },
            "type": "scatterternary"
           }
          ],
          "surface": [
           {
            "colorbar": {
             "outlinewidth": 0,
             "ticks": ""
            },
            "colorscale": [
             [
              0,
              "#0d0887"
             ],
             [
              0.1111111111111111,
              "#46039f"
             ],
             [
              0.2222222222222222,
              "#7201a8"
             ],
             [
              0.3333333333333333,
              "#9c179e"
             ],
             [
              0.4444444444444444,
              "#bd3786"
             ],
             [
              0.5555555555555556,
              "#d8576b"
             ],
             [
              0.6666666666666666,
              "#ed7953"
             ],
             [
              0.7777777777777778,
              "#fb9f3a"
             ],
             [
              0.8888888888888888,
              "#fdca26"
             ],
             [
              1,
              "#f0f921"
             ]
            ],
            "type": "surface"
           }
          ],
          "table": [
           {
            "cells": {
             "fill": {
              "color": "#EBF0F8"
             },
             "line": {
              "color": "white"
             }
            },
            "header": {
             "fill": {
              "color": "#C8D4E3"
             },
             "line": {
              "color": "white"
             }
            },
            "type": "table"
           }
          ]
         },
         "layout": {
          "annotationdefaults": {
           "arrowcolor": "#2a3f5f",
           "arrowhead": 0,
           "arrowwidth": 1
          },
          "colorscale": {
           "diverging": [
            [
             0,
             "#8e0152"
            ],
            [
             0.1,
             "#c51b7d"
            ],
            [
             0.2,
             "#de77ae"
            ],
            [
             0.3,
             "#f1b6da"
            ],
            [
             0.4,
             "#fde0ef"
            ],
            [
             0.5,
             "#f7f7f7"
            ],
            [
             0.6,
             "#e6f5d0"
            ],
            [
             0.7,
             "#b8e186"
            ],
            [
             0.8,
             "#7fbc41"
            ],
            [
             0.9,
             "#4d9221"
            ],
            [
             1,
             "#276419"
            ]
           ],
           "sequential": [
            [
             0,
             "#0d0887"
            ],
            [
             0.1111111111111111,
             "#46039f"
            ],
            [
             0.2222222222222222,
             "#7201a8"
            ],
            [
             0.3333333333333333,
             "#9c179e"
            ],
            [
             0.4444444444444444,
             "#bd3786"
            ],
            [
             0.5555555555555556,
             "#d8576b"
            ],
            [
             0.6666666666666666,
             "#ed7953"
            ],
            [
             0.7777777777777778,
             "#fb9f3a"
            ],
            [
             0.8888888888888888,
             "#fdca26"
            ],
            [
             1,
             "#f0f921"
            ]
           ],
           "sequentialminus": [
            [
             0,
             "#0d0887"
            ],
            [
             0.1111111111111111,
             "#46039f"
            ],
            [
             0.2222222222222222,
             "#7201a8"
            ],
            [
             0.3333333333333333,
             "#9c179e"
            ],
            [
             0.4444444444444444,
             "#bd3786"
            ],
            [
             0.5555555555555556,
             "#d8576b"
            ],
            [
             0.6666666666666666,
             "#ed7953"
            ],
            [
             0.7777777777777778,
             "#fb9f3a"
            ],
            [
             0.8888888888888888,
             "#fdca26"
            ],
            [
             1,
             "#f0f921"
            ]
           ]
          },
          "colorway": [
           "#636efa",
           "#EF553B",
           "#00cc96",
           "#ab63fa",
           "#FFA15A",
           "#19d3f3",
           "#FF6692",
           "#B6E880",
           "#FF97FF",
           "#FECB52"
          ],
          "font": {
           "color": "#2a3f5f"
          },
          "geo": {
           "bgcolor": "white",
           "lakecolor": "white",
           "landcolor": "#E5ECF6",
           "showlakes": true,
           "showland": true,
           "subunitcolor": "white"
          },
          "hoverlabel": {
           "align": "left"
          },
          "hovermode": "closest",
          "mapbox": {
           "style": "light"
          },
          "paper_bgcolor": "white",
          "plot_bgcolor": "#E5ECF6",
          "polar": {
           "angularaxis": {
            "gridcolor": "white",
            "linecolor": "white",
            "ticks": ""
           },
           "bgcolor": "#E5ECF6",
           "radialaxis": {
            "gridcolor": "white",
            "linecolor": "white",
            "ticks": ""
           }
          },
          "scene": {
           "xaxis": {
            "backgroundcolor": "#E5ECF6",
            "gridcolor": "white",
            "gridwidth": 2,
            "linecolor": "white",
            "showbackground": true,
            "ticks": "",
            "zerolinecolor": "white"
           },
           "yaxis": {
            "backgroundcolor": "#E5ECF6",
            "gridcolor": "white",
            "gridwidth": 2,
            "linecolor": "white",
            "showbackground": true,
            "ticks": "",
            "zerolinecolor": "white"
           },
           "zaxis": {
            "backgroundcolor": "#E5ECF6",
            "gridcolor": "white",
            "gridwidth": 2,
            "linecolor": "white",
            "showbackground": true,
            "ticks": "",
            "zerolinecolor": "white"
           }
          },
          "shapedefaults": {
           "line": {
            "color": "#2a3f5f"
           }
          },
          "ternary": {
           "aaxis": {
            "gridcolor": "white",
            "linecolor": "white",
            "ticks": ""
           },
           "baxis": {
            "gridcolor": "white",
            "linecolor": "white",
            "ticks": ""
           },
           "bgcolor": "#E5ECF6",
           "caxis": {
            "gridcolor": "white",
            "linecolor": "white",
            "ticks": ""
           }
          },
          "title": {
           "x": 0.05
          },
          "xaxis": {
           "automargin": true,
           "gridcolor": "white",
           "linecolor": "white",
           "ticks": "",
           "zerolinecolor": "white",
           "zerolinewidth": 2
          },
          "yaxis": {
           "automargin": true,
           "gridcolor": "white",
           "linecolor": "white",
           "ticks": "",
           "zerolinecolor": "white",
           "zerolinewidth": 2
          }
         }
        }
       }
      },
      "text/html": [
       "<div>\n",
       "        \n",
       "        \n",
       "            <div id=\"9962b734-c79b-4613-a463-0dd13c061aec\" class=\"plotly-graph-div\" style=\"height:600px; width:100%;\"></div>\n",
       "            <script type=\"text/javascript\">\n",
       "                require([\"plotly\"], function(Plotly) {\n",
       "                    window.PLOTLYENV=window.PLOTLYENV || {};\n",
       "                    \n",
       "                if (document.getElementById(\"9962b734-c79b-4613-a463-0dd13c061aec\")) {\n",
       "                    Plotly.newPlot(\n",
       "                        '9962b734-c79b-4613-a463-0dd13c061aec',\n",
       "                        [{\"dimensions\": [{\"axis\": {\"matches\": true}, \"label\": \"protein\", \"values\": [12.121212121212121, 3.0, 4.477611940298507, 4.477611940298507]}, {\"axis\": {\"matches\": true}, \"label\": \"fat\", \"values\": [3.0303030303030303, 0.0, 0.0, 0.0]}, {\"axis\": {\"matches\": true}, \"label\": \"sodium\", \"values\": [393.93939393939394, 80.0, 0.0, 0.0]}, {\"axis\": {\"matches\": true}, \"label\": \"fiber\", \"values\": [30.3030303030303, 1.0, 5.970149253731343, 4.477611940298507]}, {\"axis\": {\"matches\": true}, \"label\": \"carbs\", \"values\": [15.15151515151515, 21.0, 28.35820895522388, 29.850746268656714]}, {\"axis\": {\"matches\": true}, \"label\": \"sugar\", \"values\": [18.18181818181818, 0.0, 0.0, 0.0]}, {\"axis\": {\"matches\": true}, \"label\": \"potassium\", \"values\": [848.4848484848485, -1.0, 208.955223880597, 179.1044776119403]}, {\"axis\": {\"matches\": true}, \"label\": \"vitamins\", \"values\": [75.75757575757575, 0.0, 0.0, 0.0]}], \"hoverlabel\": {\"namelength\": 0}, \"hovertemplate\": \"manufacturer=N<br>%{xaxis.title.text}=%{x}<br>%{yaxis.title.text}=%{y}\", \"legendgroup\": \"manufacturer=N\", \"marker\": {\"color\": \"#636efa\", \"symbol\": \"circle\"}, \"name\": \"manufacturer=N\", \"showlegend\": true, \"type\": \"splom\"}, {\"dimensions\": [{\"axis\": {\"matches\": true}, \"label\": \"protein\", \"values\": [12.121212121212121, 8.0, 2.0, 2.0, 1.0, 6.0, 2.0, 2.0, 1.3333333333333333, 3.75, 4.477611940298507, 4.0, 4.477611940298507, 2.9850746268656714, 4.477611940298507, 3.0, 4.0, 4.0, 2.0, 2.6666666666666665, 6.0]}, {\"axis\": {\"matches\": true}, \"label\": \"fat\", \"values\": [3.0303030303030303, 0.0, 0.0, 0.0, 0.0, 6.0, 0.0, 1.0, 0.0, 0.0, 0.0, 1.3333333333333333, 2.9850746268656714, 1.4925373134328357, 2.9850746268656714, 0.0, 1.3333333333333333, 0.0, 0.0, 1.3333333333333333, 0.0]}, {\"axis\": {\"matches\": true}, \"label\": \"sodium\", \"values\": [787.8787878787879, 280.0, 125.0, 290.0, 90.0, 280.0, 220.0, 125.0, 266.6666666666667, 0.0, 358.2089552238806, 226.66666666666666, 223.88059701492537, 283.5820895522388, 328.35820895522386, 320.0, 280.0, 0.0, 290.0, 93.33333333333333, 230.0]}, {\"axis\": {\"matches\": true}, \"label\": \"fiber\", \"values\": [27.27272727272727, 28.0, 1.0, 1.0, 1.0, 8.0, 1.0, 1.0, 1.3333333333333333, 3.75, 7.462686567164178, 2.6666666666666665, 4.477611940298507, 0.0, 4.477611940298507, 1.0, 6.666666666666667, 4.0, 0.0, 1.3333333333333333, 1.0]}, {\"axis\": {\"matches\": true}, \"label\": \"carbs\", \"values\": [21.21212121212121, 16.0, 11.0, 21.0, 13.0, 20.0, 21.0, 11.0, 18.666666666666668, 17.5, 20.8955223880597, 26.666666666666668, 25.37313432835821, 22.388059701492537, 31.34328358208955, 20.0, 18.666666666666668, 30.0, 22.0, 12.0, 16.0]}, {\"axis\": {\"matches\": true}, \"label\": \"sugar\", \"values\": [15.15151515151515, 0.0, 14.0, 2.0, 12.0, 14.0, 3.0, 13.0, 14.666666666666666, 8.75, 17.91044776119403, 12.0, 19.402985074626866, 13.432835820895521, 10.44776119402985, 3.0, 16.0, 12.0, 3.0, 20.0, 3.0]}, {\"axis\": {\"matches\": true}, \"label\": \"potassium\", \"values\": [969.6969696969696, 660.0, 30.0, 35.0, 20.0, 320.0, 30.0, 30.0, 33.333333333333336, 125.0, 283.5820895522388, 126.66666666666667, 238.8059701492537, 59.70149253731343, 194.02985074626864, 45.0, 320.0, 220.0, 35.0, 53.333333333333336, 55.0]}, {\"axis\": {\"matches\": true}, \"label\": \"vitamins\", \"values\": [75.75757575757575, 50.0, 25.0, 25.0, 25.0, 50.0, 25.0, 25.0, 33.333333333333336, 31.25, 37.31343283582089, 133.33333333333334, 37.31343283582089, 37.31343283582089, 37.31343283582089, 100.0, 33.333333333333336, 50.0, 25.0, 33.333333333333336, 25.0]}], \"hoverlabel\": {\"namelength\": 0}, \"hovertemplate\": \"manufacturer=K<br>%{xaxis.title.text}=%{x}<br>%{yaxis.title.text}=%{y}\", \"legendgroup\": \"manufacturer=K\", \"marker\": {\"color\": \"#EF553B\", \"symbol\": \"circle\"}, \"name\": \"manufacturer=K\", \"showlegend\": true, \"type\": \"splom\"}, {\"dimensions\": [{\"axis\": {\"matches\": true}, \"label\": \"protein\", \"values\": [2.6666666666666665, 2.9850746268656714, 2.0, 2.6666666666666665, 0.8849557522123894, 4.477611940298507]}, {\"axis\": {\"matches\": true}, \"label\": \"fat\", \"values\": [2.6666666666666665, 1.4925373134328357, 0.0, 0.0, 0.0, 1.4925373134328357]}, {\"axis\": {\"matches\": true}, \"label\": \"sodium\", \"values\": [266.6666666666667, 298.5074626865671, 280.0, 253.33333333333334, 212.38938053097348, 343.2835820895522]}, {\"axis\": {\"matches\": true}, \"label\": \"fiber\", \"values\": [1.3333333333333333, 5.970149253731343, 0.0, 1.3333333333333333, 0.0, 4.477611940298507]}, {\"axis\": {\"matches\": true}, \"label\": \"carbs\", \"values\": [18.666666666666668, 22.388059701492537, 22.0, 24.0, 20.353982300884958, 25.37313432835821]}, {\"axis\": {\"matches\": true}, \"label\": \"sugar\", \"values\": [10.666666666666666, 8.955223880597014, 3.0, 6.666666666666667, 1.7699115044247788, 4.477611940298507]}, {\"axis\": {\"matches\": true}, \"label\": \"potassium\", \"values\": [-1.3333333333333333, 186.56716417910448, 25.0, 106.66666666666667, 26.548672566371685, 171.6417910447761]}, {\"axis\": {\"matches\": true}, \"label\": \"vitamins\", \"values\": [33.333333333333336, 37.31343283582089, 25.0, 33.333333333333336, 22.123893805309738, 37.31343283582089]}], \"hoverlabel\": {\"namelength\": 0}, \"hovertemplate\": \"manufacturer=R<br>%{xaxis.title.text}=%{x}<br>%{yaxis.title.text}=%{y}\", \"legendgroup\": \"manufacturer=R\", \"marker\": {\"color\": \"#00cc96\", \"symbol\": \"circle\"}, \"name\": \"manufacturer=R\", \"showlegend\": true, \"type\": \"splom\"}, {\"dimensions\": [{\"axis\": {\"matches\": true}, \"label\": \"protein\", \"values\": [2.6666666666666665, 4.0, 4.8, 1.3333333333333333, 6.0, 1.0, 1.0, 2.6666666666666665, 1.3333333333333333, 4.0, 1.3333333333333333, 2.0, 2.0, 6.0, 6.0, 2.0, 3.0, 3.0, 2.6666666666666665, 1.0, 3.0, 2.6666666666666665]}, {\"axis\": {\"matches\": true}, \"label\": \"fat\", \"values\": [2.6666666666666665, 2.6666666666666665, 1.6, 4.0, 4.0, 1.0, 1.0, 1.3333333333333333, 1.3333333333333333, 1.3333333333333333, 0.6666666666666666, 1.0, 1.0, 4.0, 4.0, 1.0, 1.0, 1.0, 1.3333333333333333, 1.0, 1.0, 1.3333333333333333]}, {\"axis\": {\"matches\": true}, \"label\": \"sodium\", \"values\": [240.0, 280.0, 232.0, 280.0, 280.0, 180.0, 180.0, 186.66666666666666, 373.3333333333333, 333.3333333333333, 173.33333333333334, 180.0, 220.0, 340.0, 280.0, 200.0, 190.0, 200.0, 333.3333333333333, 140.0, 200.0, 266.6666666666667]}, {\"axis\": {\"matches\": true}, \"label\": \"fiber\", \"values\": [2.0, 2.6666666666666665, 1.6, 0.0, 4.0, 0.0, 0.0, 2.6666666666666665, 0.0, 2.0, 0.0, 0.0, 2.0, 3.0, 5.0, 0.0, 4.0, 3.0, 0.0, 0.0, 3.0, 1.3333333333333333]}, {\"axis\": {\"matches\": true}, \"label\": \"carbs\", \"values\": [14.0, 24.0, 13.6, 17.333333333333332, 26.0, 12.0, 12.0, 14.666666666666666, 20.0, 15.333333333333334, 14.0, 12.0, 15.0, 27.0, 21.0, 21.0, 15.0, 16.0, 28.0, 13.0, 17.0, 21.333333333333332]}, {\"axis\": {\"matches\": true}, \"label\": \"sugar\", \"values\": [13.333333333333334, 10.666666666666666, 0.8, 12.0, 14.0, 13.0, 13.0, 13.333333333333334, 12.0, 13.333333333333334, 2.0, 12.0, 6.0, 20.0, 16.0, 3.0, 14.0, 3.0, 4.0, 12.0, 3.0, 10.666666666666666]}, {\"axis\": {\"matches\": true}, \"label\": \"potassium\", \"values\": [93.33333333333333, 133.33333333333334, 84.0, 60.0, 210.0, 55.0, 65.0, 160.0, 60.0, 120.0, 26.666666666666668, 55.0, 90.0, 240.0, 280.0, 35.0, 230.0, 110.0, 80.0, 25.0, 110.0, 80.0]}, {\"axis\": {\"matches\": true}, \"label\": \"vitamins\", \"values\": [33.333333333333336, 33.333333333333336, 20.0, 33.333333333333336, 50.0, 25.0, 25.0, 33.333333333333336, 33.333333333333336, 33.333333333333336, 16.666666666666668, 25.0, 25.0, 50.0, 50.0, 100.0, 100.0, 100.0, 33.333333333333336, 25.0, 25.0, 33.333333333333336]}], \"hoverlabel\": {\"namelength\": 0}, \"hovertemplate\": \"manufacturer=G<br>%{xaxis.title.text}=%{x}<br>%{yaxis.title.text}=%{y}\", \"legendgroup\": \"manufacturer=G\", \"marker\": {\"color\": \"#ab63fa\", \"symbol\": \"circle\"}, \"name\": \"manufacturer=G\", \"showlegend\": true, \"type\": \"splom\"}, {\"dimensions\": [{\"axis\": {\"matches\": true}, \"label\": \"protein\", \"values\": [4.477611940298507, 4.477611940298507, 1.3333333333333333, 2.272727272727273, 3.409090909090909, 12.0, 9.09090909090909, 0.7518796992481203, 4.477611940298507]}, {\"axis\": {\"matches\": true}, \"label\": \"fat\", \"values\": [0.0, 2.9850746268656714, 1.3333333333333333, 0.0, 1.1363636363636365, 0.0, 9.09090909090909, 0.0, 1.4925373134328357]}, {\"axis\": {\"matches\": true}, \"label\": \"sodium\", \"values\": [313.4328358208955, 238.8059701492537, 180.0, 51.13636363636363, 159.0909090909091, 680.0, 227.27272727272725, 135.33834586466165, 298.5074626865671]}, {\"axis\": {\"matches\": true}, \"label\": \"fiber\", \"values\": [7.462686567164178, 7.462686567164178, 0.0, 0.0, 3.409090909090909, 12.0, 9.09090909090909, 0.0, 8.955223880597014]}, {\"axis\": {\"matches\": true}, \"label\": \"carbs\", \"values\": [19.402985074626866, 17.91044776119403, 17.333333333333332, 12.5, 17.045454545454547, 68.0, 39.39393939393939, 10.526315789473683, 16.417910447761194]}, {\"axis\": {\"matches\": true}, \"label\": \"sugar\", \"values\": [7.462686567164178, 14.925373134328357, 16.0, 17.045454545454547, 5.681818181818182, 12.0, 12.121212121212121, 8.270676691729323, 20.8955223880597]}, {\"axis\": {\"matches\": true}, \"label\": \"potassium\", \"values\": [283.5820895522388, 298.5074626865671, 33.333333333333336, 45.45454545454545, 96.5909090909091, 360.0, 303.030303030303, 26.31578947368421, 388.0597014925373]}, {\"axis\": {\"matches\": true}, \"label\": \"vitamins\", \"values\": [37.31343283582089, 37.31343283582089, 33.333333333333336, 28.40909090909091, 28.40909090909091, 100.0, 75.75757575757575, 18.796992481203006, 37.31343283582089]}], \"hoverlabel\": {\"namelength\": 0}, \"hovertemplate\": \"manufacturer=P<br>%{xaxis.title.text}=%{x}<br>%{yaxis.title.text}=%{y}\", \"legendgroup\": \"manufacturer=P\", \"marker\": {\"color\": \"#FFA15A\", \"symbol\": \"circle\"}, \"name\": \"manufacturer=P\", \"showlegend\": true, \"type\": \"splom\"}, {\"dimensions\": [{\"axis\": {\"matches\": true}, \"label\": \"protein\", \"values\": [1.3333333333333333, 1.0, 5.970149253731343, 1.0, 8.0, 7.462686567164178]}, {\"axis\": {\"matches\": true}, \"label\": \"fat\", \"values\": [2.6666666666666665, 2.0, 2.9850746268656714, 0.0, 2.0, 2.9850746268656714]}, {\"axis\": {\"matches\": true}, \"label\": \"sodium\", \"values\": [293.3333333333333, 220.0, 223.88059701492537, 0.0, 270.0, 0.0]}, {\"axis\": {\"matches\": true}, \"label\": \"fiber\", \"values\": [0.0, 1.0, 2.9850746268656714, 0.0, 4.0, 4.029850746268656]}, {\"axis\": {\"matches\": true}, \"label\": \"carbs\", \"values\": [16.0, 12.0, 17.91044776119403, 13.0, 28.0, -1.4925373134328357]}, {\"axis\": {\"matches\": true}, \"label\": \"sugar\", \"values\": [16.0, 11.0, 8.955223880597014, 0.0, 12.0, -1.4925373134328357]}, {\"axis\": {\"matches\": true}, \"label\": \"potassium\", \"values\": [46.666666666666664, 45.0, 141.7910447761194, 15.0, 220.0, 164.17910447761193]}, {\"axis\": {\"matches\": true}, \"label\": \"vitamins\", \"values\": [33.333333333333336, 25.0, 37.31343283582089, 0.0, 50.0, 0.0]}], \"hoverlabel\": {\"namelength\": 0}, \"hovertemplate\": \"manufacturer=Q<br>%{xaxis.title.text}=%{x}<br>%{yaxis.title.text}=%{y}\", \"legendgroup\": \"manufacturer=Q\", \"marker\": {\"color\": \"#19d3f3\", \"symbol\": \"circle\"}, \"name\": \"manufacturer=Q\", \"showlegend\": true, \"type\": \"splom\"}],\n",
       "                        {\"dragmode\": \"select\", \"height\": 600, \"legend\": {\"tracegroupgap\": 0}, \"margin\": {\"t\": 60}, \"template\": {\"data\": {\"bar\": [{\"error_x\": {\"color\": \"#2a3f5f\"}, \"error_y\": {\"color\": \"#2a3f5f\"}, \"marker\": {\"line\": {\"color\": \"#E5ECF6\", \"width\": 0.5}}, \"type\": \"bar\"}], \"barpolar\": [{\"marker\": {\"line\": {\"color\": \"#E5ECF6\", \"width\": 0.5}}, \"type\": \"barpolar\"}], \"carpet\": [{\"aaxis\": {\"endlinecolor\": \"#2a3f5f\", \"gridcolor\": \"white\", \"linecolor\": \"white\", \"minorgridcolor\": \"white\", \"startlinecolor\": \"#2a3f5f\"}, \"baxis\": {\"endlinecolor\": \"#2a3f5f\", \"gridcolor\": \"white\", \"linecolor\": \"white\", \"minorgridcolor\": \"white\", \"startlinecolor\": \"#2a3f5f\"}, \"type\": \"carpet\"}], \"choropleth\": [{\"colorbar\": {\"outlinewidth\": 0, \"ticks\": \"\"}, \"type\": \"choropleth\"}], \"contour\": [{\"colorbar\": {\"outlinewidth\": 0, \"ticks\": \"\"}, \"colorscale\": [[0.0, \"#0d0887\"], [0.1111111111111111, \"#46039f\"], [0.2222222222222222, \"#7201a8\"], [0.3333333333333333, \"#9c179e\"], [0.4444444444444444, \"#bd3786\"], [0.5555555555555556, \"#d8576b\"], [0.6666666666666666, \"#ed7953\"], [0.7777777777777778, \"#fb9f3a\"], [0.8888888888888888, \"#fdca26\"], [1.0, \"#f0f921\"]], \"type\": \"contour\"}], \"contourcarpet\": [{\"colorbar\": {\"outlinewidth\": 0, \"ticks\": \"\"}, \"type\": \"contourcarpet\"}], \"heatmap\": [{\"colorbar\": {\"outlinewidth\": 0, \"ticks\": \"\"}, \"colorscale\": [[0.0, \"#0d0887\"], [0.1111111111111111, \"#46039f\"], [0.2222222222222222, \"#7201a8\"], [0.3333333333333333, \"#9c179e\"], [0.4444444444444444, \"#bd3786\"], [0.5555555555555556, \"#d8576b\"], [0.6666666666666666, \"#ed7953\"], [0.7777777777777778, \"#fb9f3a\"], [0.8888888888888888, \"#fdca26\"], [1.0, \"#f0f921\"]], \"type\": \"heatmap\"}], \"heatmapgl\": [{\"colorbar\": {\"outlinewidth\": 0, \"ticks\": \"\"}, \"colorscale\": [[0.0, \"#0d0887\"], [0.1111111111111111, \"#46039f\"], [0.2222222222222222, \"#7201a8\"], [0.3333333333333333, \"#9c179e\"], [0.4444444444444444, \"#bd3786\"], [0.5555555555555556, \"#d8576b\"], [0.6666666666666666, \"#ed7953\"], [0.7777777777777778, \"#fb9f3a\"], [0.8888888888888888, \"#fdca26\"], [1.0, \"#f0f921\"]], \"type\": \"heatmapgl\"}], \"histogram\": [{\"marker\": {\"colorbar\": {\"outlinewidth\": 0, \"ticks\": \"\"}}, \"type\": \"histogram\"}], \"histogram2d\": [{\"colorbar\": {\"outlinewidth\": 0, \"ticks\": \"\"}, \"colorscale\": [[0.0, \"#0d0887\"], [0.1111111111111111, \"#46039f\"], [0.2222222222222222, \"#7201a8\"], [0.3333333333333333, \"#9c179e\"], [0.4444444444444444, \"#bd3786\"], [0.5555555555555556, \"#d8576b\"], [0.6666666666666666, \"#ed7953\"], [0.7777777777777778, \"#fb9f3a\"], [0.8888888888888888, \"#fdca26\"], [1.0, \"#f0f921\"]], \"type\": \"histogram2d\"}], \"histogram2dcontour\": [{\"colorbar\": {\"outlinewidth\": 0, \"ticks\": \"\"}, \"colorscale\": [[0.0, \"#0d0887\"], [0.1111111111111111, \"#46039f\"], [0.2222222222222222, \"#7201a8\"], [0.3333333333333333, \"#9c179e\"], [0.4444444444444444, \"#bd3786\"], [0.5555555555555556, \"#d8576b\"], [0.6666666666666666, \"#ed7953\"], [0.7777777777777778, \"#fb9f3a\"], [0.8888888888888888, \"#fdca26\"], [1.0, \"#f0f921\"]], \"type\": \"histogram2dcontour\"}], \"mesh3d\": [{\"colorbar\": {\"outlinewidth\": 0, \"ticks\": \"\"}, \"type\": \"mesh3d\"}], \"parcoords\": [{\"line\": {\"colorbar\": {\"outlinewidth\": 0, \"ticks\": \"\"}}, \"type\": \"parcoords\"}], \"scatter\": [{\"marker\": {\"colorbar\": {\"outlinewidth\": 0, \"ticks\": \"\"}}, \"type\": \"scatter\"}], \"scatter3d\": [{\"line\": {\"colorbar\": {\"outlinewidth\": 0, \"ticks\": \"\"}}, \"marker\": {\"colorbar\": {\"outlinewidth\": 0, \"ticks\": \"\"}}, \"type\": \"scatter3d\"}], \"scattercarpet\": [{\"marker\": {\"colorbar\": {\"outlinewidth\": 0, \"ticks\": \"\"}}, \"type\": \"scattercarpet\"}], \"scattergeo\": [{\"marker\": {\"colorbar\": {\"outlinewidth\": 0, \"ticks\": \"\"}}, \"type\": \"scattergeo\"}], \"scattergl\": [{\"marker\": {\"colorbar\": {\"outlinewidth\": 0, \"ticks\": \"\"}}, \"type\": \"scattergl\"}], \"scattermapbox\": [{\"marker\": {\"colorbar\": {\"outlinewidth\": 0, \"ticks\": \"\"}}, \"type\": \"scattermapbox\"}], \"scatterpolar\": [{\"marker\": {\"colorbar\": {\"outlinewidth\": 0, \"ticks\": \"\"}}, \"type\": \"scatterpolar\"}], \"scatterpolargl\": [{\"marker\": {\"colorbar\": {\"outlinewidth\": 0, \"ticks\": \"\"}}, \"type\": \"scatterpolargl\"}], \"scatterternary\": [{\"marker\": {\"colorbar\": {\"outlinewidth\": 0, \"ticks\": \"\"}}, \"type\": \"scatterternary\"}], \"surface\": [{\"colorbar\": {\"outlinewidth\": 0, \"ticks\": \"\"}, \"colorscale\": [[0.0, \"#0d0887\"], [0.1111111111111111, \"#46039f\"], [0.2222222222222222, \"#7201a8\"], [0.3333333333333333, \"#9c179e\"], [0.4444444444444444, \"#bd3786\"], [0.5555555555555556, \"#d8576b\"], [0.6666666666666666, \"#ed7953\"], [0.7777777777777778, \"#fb9f3a\"], [0.8888888888888888, \"#fdca26\"], [1.0, \"#f0f921\"]], \"type\": \"surface\"}], \"table\": [{\"cells\": {\"fill\": {\"color\": \"#EBF0F8\"}, \"line\": {\"color\": \"white\"}}, \"header\": {\"fill\": {\"color\": \"#C8D4E3\"}, \"line\": {\"color\": \"white\"}}, \"type\": \"table\"}]}, \"layout\": {\"annotationdefaults\": {\"arrowcolor\": \"#2a3f5f\", \"arrowhead\": 0, \"arrowwidth\": 1}, \"colorscale\": {\"diverging\": [[0, \"#8e0152\"], [0.1, \"#c51b7d\"], [0.2, \"#de77ae\"], [0.3, \"#f1b6da\"], [0.4, \"#fde0ef\"], [0.5, \"#f7f7f7\"], [0.6, \"#e6f5d0\"], [0.7, \"#b8e186\"], [0.8, \"#7fbc41\"], [0.9, \"#4d9221\"], [1, \"#276419\"]], \"sequential\": [[0.0, \"#0d0887\"], [0.1111111111111111, \"#46039f\"], [0.2222222222222222, \"#7201a8\"], [0.3333333333333333, \"#9c179e\"], [0.4444444444444444, \"#bd3786\"], [0.5555555555555556, \"#d8576b\"], [0.6666666666666666, \"#ed7953\"], [0.7777777777777778, \"#fb9f3a\"], [0.8888888888888888, \"#fdca26\"], [1.0, \"#f0f921\"]], \"sequentialminus\": [[0.0, \"#0d0887\"], [0.1111111111111111, \"#46039f\"], [0.2222222222222222, \"#7201a8\"], [0.3333333333333333, \"#9c179e\"], [0.4444444444444444, \"#bd3786\"], [0.5555555555555556, \"#d8576b\"], [0.6666666666666666, \"#ed7953\"], [0.7777777777777778, \"#fb9f3a\"], [0.8888888888888888, \"#fdca26\"], [1.0, \"#f0f921\"]]}, \"colorway\": [\"#636efa\", \"#EF553B\", \"#00cc96\", \"#ab63fa\", \"#FFA15A\", \"#19d3f3\", \"#FF6692\", \"#B6E880\", \"#FF97FF\", \"#FECB52\"], \"font\": {\"color\": \"#2a3f5f\"}, \"geo\": {\"bgcolor\": \"white\", \"lakecolor\": \"white\", \"landcolor\": \"#E5ECF6\", \"showlakes\": true, \"showland\": true, \"subunitcolor\": \"white\"}, \"hoverlabel\": {\"align\": \"left\"}, \"hovermode\": \"closest\", \"mapbox\": {\"style\": \"light\"}, \"paper_bgcolor\": \"white\", \"plot_bgcolor\": \"#E5ECF6\", \"polar\": {\"angularaxis\": {\"gridcolor\": \"white\", \"linecolor\": \"white\", \"ticks\": \"\"}, \"bgcolor\": \"#E5ECF6\", \"radialaxis\": {\"gridcolor\": \"white\", \"linecolor\": \"white\", \"ticks\": \"\"}}, \"scene\": {\"xaxis\": {\"backgroundcolor\": \"#E5ECF6\", \"gridcolor\": \"white\", \"gridwidth\": 2, \"linecolor\": \"white\", \"showbackground\": true, \"ticks\": \"\", \"zerolinecolor\": \"white\"}, \"yaxis\": {\"backgroundcolor\": \"#E5ECF6\", \"gridcolor\": \"white\", \"gridwidth\": 2, \"linecolor\": \"white\", \"showbackground\": true, \"ticks\": \"\", \"zerolinecolor\": \"white\"}, \"zaxis\": {\"backgroundcolor\": \"#E5ECF6\", \"gridcolor\": \"white\", \"gridwidth\": 2, \"linecolor\": \"white\", \"showbackground\": true, \"ticks\": \"\", \"zerolinecolor\": \"white\"}}, \"shapedefaults\": {\"line\": {\"color\": \"#2a3f5f\"}}, \"ternary\": {\"aaxis\": {\"gridcolor\": \"white\", \"linecolor\": \"white\", \"ticks\": \"\"}, \"baxis\": {\"gridcolor\": \"white\", \"linecolor\": \"white\", \"ticks\": \"\"}, \"bgcolor\": \"#E5ECF6\", \"caxis\": {\"gridcolor\": \"white\", \"linecolor\": \"white\", \"ticks\": \"\"}}, \"title\": {\"x\": 0.05}, \"xaxis\": {\"automargin\": true, \"gridcolor\": \"white\", \"linecolor\": \"white\", \"ticks\": \"\", \"zerolinecolor\": \"white\", \"zerolinewidth\": 2}, \"yaxis\": {\"automargin\": true, \"gridcolor\": \"white\", \"linecolor\": \"white\", \"ticks\": \"\", \"zerolinecolor\": \"white\", \"zerolinewidth\": 2}}}},\n",
       "                        {\"responsive\": true}\n",
       "                    ).then(function(){\n",
       "                            \n",
       "var gd = document.getElementById('9962b734-c79b-4613-a463-0dd13c061aec');\n",
       "var x = new MutationObserver(function (mutations, observer) {{\n",
       "        var display = window.getComputedStyle(gd).display;\n",
       "        if (!display || display === 'none') {{\n",
       "            console.log([gd, 'removed!']);\n",
       "            Plotly.purge(gd);\n",
       "            observer.disconnect();\n",
       "        }}\n",
       "}});\n",
       "\n",
       "// Listen for the removal of the full notebook cells\n",
       "var notebookContainer = gd.closest('#notebook-container');\n",
       "if (notebookContainer) {{\n",
       "    x.observe(notebookContainer, {childList: true});\n",
       "}}\n",
       "\n",
       "// Listen for the clearing of the current output cell\n",
       "var outputEl = gd.closest('.output');\n",
       "if (outputEl) {{\n",
       "    x.observe(outputEl, {childList: true});\n",
       "}}\n",
       "\n",
       "                        })\n",
       "                };\n",
       "                });\n",
       "            </script>\n",
       "        </div>"
      ]
     },
     "metadata": {},
     "output_type": "display_data"
    }
   ],
   "source": [
    "fig = px.scatter_matrix(rcereal, dimensions=['protein', 'fat','sodium', 'fiber', 'carbs', 'sugar', 'potassium','vitamins'], color = 'manufacturer')\n",
    "fig.show()"
   ]
  },
  {
   "cell_type": "code",
   "execution_count": 30,
   "metadata": {},
   "outputs": [
    {
     "data": {
      "application/vnd.plotly.v1+json": {
       "config": {
        "plotlyServerURL": "https://plot.ly"
       },
       "data": [
        {
         "dimensions": [
          {
           "axis": {
            "matches": true
           },
           "label": "protein",
           "values": [
            12.121212121212121,
            12.121212121212121,
            8,
            2.6666666666666665,
            2.6666666666666665,
            2,
            4,
            2.9850746268656714,
            4.477611940298507,
            1.3333333333333333,
            4.8,
            1.3333333333333333,
            6,
            1,
            2,
            2,
            1,
            1,
            6,
            3,
            2,
            2.6666666666666665,
            2.6666666666666665,
            2,
            1.3333333333333333,
            3.75,
            4.477611940298507,
            4.477611940298507,
            1.3333333333333333,
            2.272727272727273,
            1.3333333333333333,
            3.409090909090909,
            12,
            9.09090909090909,
            1,
            4,
            0.7518796992481203,
            4,
            1.3333333333333333,
            5.970149253731343,
            2,
            4.477611940298507,
            2,
            2.9850746268656714,
            4.477611940298507,
            6,
            4.477611940298507,
            3,
            1,
            8,
            7.462686567164178,
            4,
            6,
            4,
            0.8849557522123894,
            2,
            4.477611940298507,
            4.477611940298507,
            2.6666666666666665,
            6,
            2,
            3,
            3,
            2.6666666666666665,
            1,
            4.477611940298507,
            3,
            2.6666666666666665
           ]
          },
          {
           "axis": {
            "matches": true
           },
           "label": "fat",
           "values": [
            3.0303030303030303,
            3.0303030303030303,
            0,
            2.6666666666666665,
            2.6666666666666665,
            0,
            2.6666666666666665,
            1.4925373134328357,
            0,
            2.6666666666666665,
            1.6,
            4,
            4,
            1,
            0,
            0,
            0,
            1,
            6,
            0,
            0,
            1.3333333333333333,
            0,
            1,
            0,
            0,
            2.9850746268656714,
            0,
            1.3333333333333333,
            0,
            1.3333333333333333,
            1.1363636363636365,
            0,
            9.09090909090909,
            2,
            1.3333333333333333,
            0,
            1.3333333333333333,
            0.6666666666666666,
            2.9850746268656714,
            1,
            2.9850746268656714,
            1,
            1.4925373134328357,
            2.9850746268656714,
            4,
            1.4925373134328357,
            0,
            0,
            2,
            2.9850746268656714,
            1.3333333333333333,
            4,
            0,
            0,
            0,
            0,
            0,
            1.3333333333333333,
            0,
            1,
            1,
            1,
            1.3333333333333333,
            1,
            1.4925373134328357,
            1,
            1.3333333333333333
           ]
          },
          {
           "axis": {
            "matches": true
           },
           "label": "sodium",
           "values": [
            393.93939393939394,
            787.8787878787879,
            280,
            266.6666666666667,
            240,
            125,
            280,
            298.5074626865671,
            313.4328358208955,
            293.3333333333333,
            232,
            280,
            280,
            180,
            280,
            290,
            90,
            180,
            280,
            80,
            220,
            186.66666666666666,
            253.33333333333334,
            125,
            266.6666666666667,
            0,
            238.8059701492537,
            358.2089552238806,
            180,
            51.13636363636363,
            373.3333333333333,
            159.0909090909091,
            680,
            227.27272727272725,
            220,
            333.3333333333333,
            135.33834586466165,
            226.66666666666666,
            173.33333333333334,
            223.88059701492537,
            180,
            223.88059701492537,
            220,
            283.5820895522388,
            328.35820895522386,
            340,
            298.5074626865671,
            320,
            0,
            270,
            0,
            280,
            280,
            0,
            212.38938053097348,
            290,
            0,
            0,
            93.33333333333333,
            230,
            200,
            190,
            200,
            333.3333333333333,
            140,
            343.2835820895522,
            200,
            266.6666666666667
           ]
          },
          {
           "axis": {
            "matches": true
           },
           "label": "fiber",
           "values": [
            30.3030303030303,
            27.27272727272727,
            28,
            1.3333333333333333,
            2,
            1,
            2.6666666666666665,
            5.970149253731343,
            7.462686567164178,
            0,
            1.6,
            0,
            4,
            0,
            0,
            1,
            1,
            0,
            8,
            1,
            1,
            2.6666666666666665,
            1.3333333333333333,
            1,
            1.3333333333333333,
            3.75,
            7.462686567164178,
            7.462686567164178,
            0,
            0,
            0,
            3.409090909090909,
            12,
            9.09090909090909,
            1,
            2,
            0,
            2.6666666666666665,
            0,
            2.9850746268656714,
            0,
            4.477611940298507,
            2,
            0,
            4.477611940298507,
            3,
            8.955223880597014,
            1,
            0,
            4,
            4.029850746268656,
            6.666666666666667,
            5,
            4,
            0,
            0,
            5.970149253731343,
            4.477611940298507,
            1.3333333333333333,
            1,
            0,
            4,
            3,
            0,
            0,
            4.477611940298507,
            3,
            1.3333333333333333
           ]
          },
          {
           "axis": {
            "matches": true
           },
           "label": "carbs",
           "values": [
            15.15151515151515,
            21.21212121212121,
            16,
            18.666666666666668,
            14,
            11,
            24,
            22.388059701492537,
            19.402985074626866,
            16,
            13.6,
            17.333333333333332,
            26,
            12,
            22,
            21,
            13,
            12,
            20,
            21,
            21,
            14.666666666666666,
            24,
            11,
            18.666666666666668,
            17.5,
            17.91044776119403,
            20.8955223880597,
            17.333333333333332,
            12.5,
            20,
            17.045454545454547,
            68,
            39.39393939393939,
            12,
            15.333333333333334,
            10.526315789473683,
            26.666666666666668,
            14,
            17.91044776119403,
            12,
            25.37313432835821,
            15,
            22.388059701492537,
            31.34328358208955,
            27,
            16.417910447761194,
            20,
            13,
            28,
            -1.4925373134328357,
            18.666666666666668,
            21,
            30,
            20.353982300884958,
            22,
            28.35820895522388,
            29.850746268656714,
            12,
            16,
            21,
            15,
            16,
            28,
            13,
            25.37313432835821,
            17,
            21.333333333333332
           ]
          },
          {
           "axis": {
            "matches": true
           },
           "label": "sugar",
           "values": [
            18.18181818181818,
            15.15151515151515,
            0,
            10.666666666666666,
            13.333333333333334,
            14,
            10.666666666666666,
            8.955223880597014,
            7.462686567164178,
            16,
            0.8,
            12,
            14,
            13,
            3,
            2,
            12,
            13,
            14,
            0,
            3,
            13.333333333333334,
            6.666666666666667,
            13,
            14.666666666666666,
            8.75,
            14.925373134328357,
            17.91044776119403,
            16,
            17.045454545454547,
            12,
            5.681818181818182,
            12,
            12.121212121212121,
            11,
            13.333333333333334,
            8.270676691729323,
            12,
            2,
            8.955223880597014,
            12,
            19.402985074626866,
            6,
            13.432835820895521,
            10.44776119402985,
            20,
            20.8955223880597,
            3,
            0,
            12,
            -1.4925373134328357,
            16,
            16,
            12,
            1.7699115044247788,
            3,
            0,
            0,
            20,
            3,
            3,
            14,
            3,
            4,
            12,
            4.477611940298507,
            3,
            10.666666666666666
           ]
          },
          {
           "axis": {
            "matches": true
           },
           "label": "potassium",
           "values": [
            848.4848484848485,
            969.6969696969696,
            660,
            -1.3333333333333333,
            93.33333333333333,
            30,
            133.33333333333334,
            186.56716417910448,
            283.5820895522388,
            46.666666666666664,
            84,
            60,
            210,
            55,
            25,
            35,
            20,
            65,
            320,
            -1,
            30,
            160,
            106.66666666666667,
            30,
            33.333333333333336,
            125,
            298.5074626865671,
            283.5820895522388,
            33.333333333333336,
            45.45454545454545,
            60,
            96.5909090909091,
            360,
            303.030303030303,
            45,
            120,
            26.31578947368421,
            126.66666666666667,
            26.666666666666668,
            141.7910447761194,
            55,
            238.8059701492537,
            90,
            59.70149253731343,
            194.02985074626864,
            240,
            388.0597014925373,
            45,
            15,
            220,
            164.17910447761193,
            320,
            280,
            220,
            26.548672566371685,
            35,
            208.955223880597,
            179.1044776119403,
            53.333333333333336,
            55,
            35,
            230,
            110,
            80,
            25,
            171.6417910447761,
            110,
            80
           ]
          },
          {
           "axis": {
            "matches": true
           },
           "label": "vitamins",
           "values": [
            75.75757575757575,
            75.75757575757575,
            50,
            33.333333333333336,
            33.333333333333336,
            25,
            33.333333333333336,
            37.31343283582089,
            37.31343283582089,
            33.333333333333336,
            20,
            33.333333333333336,
            50,
            25,
            25,
            25,
            25,
            25,
            50,
            0,
            25,
            33.333333333333336,
            33.333333333333336,
            25,
            33.333333333333336,
            31.25,
            37.31343283582089,
            37.31343283582089,
            33.333333333333336,
            28.40909090909091,
            33.333333333333336,
            28.40909090909091,
            100,
            75.75757575757575,
            25,
            33.333333333333336,
            18.796992481203006,
            133.33333333333334,
            16.666666666666668,
            37.31343283582089,
            25,
            37.31343283582089,
            25,
            37.31343283582089,
            37.31343283582089,
            50,
            37.31343283582089,
            100,
            0,
            50,
            0,
            33.333333333333336,
            50,
            50,
            22.123893805309738,
            25,
            0,
            0,
            33.333333333333336,
            25,
            100,
            100,
            100,
            33.333333333333336,
            25,
            37.31343283582089,
            25,
            33.333333333333336
           ]
          }
         ],
         "hoverlabel": {
          "namelength": 0
         },
         "hovertemplate": "%{xaxis.title.text}=%{x}<br>%{yaxis.title.text}=%{y}<br>shelf=%{marker.color}",
         "legendgroup": "",
         "marker": {
          "color": [
           3,
           3,
           3,
           3,
           1,
           2,
           3,
           1,
           3,
           2,
           1,
           2,
           3,
           2,
           1,
           1,
           2,
           2,
           3,
           2,
           3,
           3,
           3,
           2,
           1,
           2,
           3,
           3,
           2,
           1,
           2,
           3,
           3,
           3,
           2,
           1,
           1,
           3,
           2,
           2,
           2,
           3,
           1,
           2,
           3,
           3,
           3,
           3,
           3,
           3,
           1,
           2,
           3,
           3,
           1,
           1,
           1,
           1,
           2,
           1,
           3,
           3,
           3,
           3,
           2,
           1,
           1,
           1
          ],
          "coloraxis": "coloraxis",
          "symbol": "circle"
         },
         "name": "",
         "showlegend": false,
         "type": "splom"
        }
       ],
       "layout": {
        "coloraxis": {
         "colorbar": {
          "title": {
           "text": "shelf"
          }
         },
         "colorscale": [
          [
           0,
           "#0d0887"
          ],
          [
           0.1111111111111111,
           "#46039f"
          ],
          [
           0.2222222222222222,
           "#7201a8"
          ],
          [
           0.3333333333333333,
           "#9c179e"
          ],
          [
           0.4444444444444444,
           "#bd3786"
          ],
          [
           0.5555555555555556,
           "#d8576b"
          ],
          [
           0.6666666666666666,
           "#ed7953"
          ],
          [
           0.7777777777777778,
           "#fb9f3a"
          ],
          [
           0.8888888888888888,
           "#fdca26"
          ],
          [
           1,
           "#f0f921"
          ]
         ]
        },
        "dragmode": "select",
        "height": 600,
        "legend": {
         "tracegroupgap": 0
        },
        "margin": {
         "t": 60
        },
        "template": {
         "data": {
          "bar": [
           {
            "error_x": {
             "color": "#2a3f5f"
            },
            "error_y": {
             "color": "#2a3f5f"
            },
            "marker": {
             "line": {
              "color": "#E5ECF6",
              "width": 0.5
             }
            },
            "type": "bar"
           }
          ],
          "barpolar": [
           {
            "marker": {
             "line": {
              "color": "#E5ECF6",
              "width": 0.5
             }
            },
            "type": "barpolar"
           }
          ],
          "carpet": [
           {
            "aaxis": {
             "endlinecolor": "#2a3f5f",
             "gridcolor": "white",
             "linecolor": "white",
             "minorgridcolor": "white",
             "startlinecolor": "#2a3f5f"
            },
            "baxis": {
             "endlinecolor": "#2a3f5f",
             "gridcolor": "white",
             "linecolor": "white",
             "minorgridcolor": "white",
             "startlinecolor": "#2a3f5f"
            },
            "type": "carpet"
           }
          ],
          "choropleth": [
           {
            "colorbar": {
             "outlinewidth": 0,
             "ticks": ""
            },
            "type": "choropleth"
           }
          ],
          "contour": [
           {
            "colorbar": {
             "outlinewidth": 0,
             "ticks": ""
            },
            "colorscale": [
             [
              0,
              "#0d0887"
             ],
             [
              0.1111111111111111,
              "#46039f"
             ],
             [
              0.2222222222222222,
              "#7201a8"
             ],
             [
              0.3333333333333333,
              "#9c179e"
             ],
             [
              0.4444444444444444,
              "#bd3786"
             ],
             [
              0.5555555555555556,
              "#d8576b"
             ],
             [
              0.6666666666666666,
              "#ed7953"
             ],
             [
              0.7777777777777778,
              "#fb9f3a"
             ],
             [
              0.8888888888888888,
              "#fdca26"
             ],
             [
              1,
              "#f0f921"
             ]
            ],
            "type": "contour"
           }
          ],
          "contourcarpet": [
           {
            "colorbar": {
             "outlinewidth": 0,
             "ticks": ""
            },
            "type": "contourcarpet"
           }
          ],
          "heatmap": [
           {
            "colorbar": {
             "outlinewidth": 0,
             "ticks": ""
            },
            "colorscale": [
             [
              0,
              "#0d0887"
             ],
             [
              0.1111111111111111,
              "#46039f"
             ],
             [
              0.2222222222222222,
              "#7201a8"
             ],
             [
              0.3333333333333333,
              "#9c179e"
             ],
             [
              0.4444444444444444,
              "#bd3786"
             ],
             [
              0.5555555555555556,
              "#d8576b"
             ],
             [
              0.6666666666666666,
              "#ed7953"
             ],
             [
              0.7777777777777778,
              "#fb9f3a"
             ],
             [
              0.8888888888888888,
              "#fdca26"
             ],
             [
              1,
              "#f0f921"
             ]
            ],
            "type": "heatmap"
           }
          ],
          "heatmapgl": [
           {
            "colorbar": {
             "outlinewidth": 0,
             "ticks": ""
            },
            "colorscale": [
             [
              0,
              "#0d0887"
             ],
             [
              0.1111111111111111,
              "#46039f"
             ],
             [
              0.2222222222222222,
              "#7201a8"
             ],
             [
              0.3333333333333333,
              "#9c179e"
             ],
             [
              0.4444444444444444,
              "#bd3786"
             ],
             [
              0.5555555555555556,
              "#d8576b"
             ],
             [
              0.6666666666666666,
              "#ed7953"
             ],
             [
              0.7777777777777778,
              "#fb9f3a"
             ],
             [
              0.8888888888888888,
              "#fdca26"
             ],
             [
              1,
              "#f0f921"
             ]
            ],
            "type": "heatmapgl"
           }
          ],
          "histogram": [
           {
            "marker": {
             "colorbar": {
              "outlinewidth": 0,
              "ticks": ""
             }
            },
            "type": "histogram"
           }
          ],
          "histogram2d": [
           {
            "colorbar": {
             "outlinewidth": 0,
             "ticks": ""
            },
            "colorscale": [
             [
              0,
              "#0d0887"
             ],
             [
              0.1111111111111111,
              "#46039f"
             ],
             [
              0.2222222222222222,
              "#7201a8"
             ],
             [
              0.3333333333333333,
              "#9c179e"
             ],
             [
              0.4444444444444444,
              "#bd3786"
             ],
             [
              0.5555555555555556,
              "#d8576b"
             ],
             [
              0.6666666666666666,
              "#ed7953"
             ],
             [
              0.7777777777777778,
              "#fb9f3a"
             ],
             [
              0.8888888888888888,
              "#fdca26"
             ],
             [
              1,
              "#f0f921"
             ]
            ],
            "type": "histogram2d"
           }
          ],
          "histogram2dcontour": [
           {
            "colorbar": {
             "outlinewidth": 0,
             "ticks": ""
            },
            "colorscale": [
             [
              0,
              "#0d0887"
             ],
             [
              0.1111111111111111,
              "#46039f"
             ],
             [
              0.2222222222222222,
              "#7201a8"
             ],
             [
              0.3333333333333333,
              "#9c179e"
             ],
             [
              0.4444444444444444,
              "#bd3786"
             ],
             [
              0.5555555555555556,
              "#d8576b"
             ],
             [
              0.6666666666666666,
              "#ed7953"
             ],
             [
              0.7777777777777778,
              "#fb9f3a"
             ],
             [
              0.8888888888888888,
              "#fdca26"
             ],
             [
              1,
              "#f0f921"
             ]
            ],
            "type": "histogram2dcontour"
           }
          ],
          "mesh3d": [
           {
            "colorbar": {
             "outlinewidth": 0,
             "ticks": ""
            },
            "type": "mesh3d"
           }
          ],
          "parcoords": [
           {
            "line": {
             "colorbar": {
              "outlinewidth": 0,
              "ticks": ""
             }
            },
            "type": "parcoords"
           }
          ],
          "scatter": [
           {
            "marker": {
             "colorbar": {
              "outlinewidth": 0,
              "ticks": ""
             }
            },
            "type": "scatter"
           }
          ],
          "scatter3d": [
           {
            "line": {
             "colorbar": {
              "outlinewidth": 0,
              "ticks": ""
             }
            },
            "marker": {
             "colorbar": {
              "outlinewidth": 0,
              "ticks": ""
             }
            },
            "type": "scatter3d"
           }
          ],
          "scattercarpet": [
           {
            "marker": {
             "colorbar": {
              "outlinewidth": 0,
              "ticks": ""
             }
            },
            "type": "scattercarpet"
           }
          ],
          "scattergeo": [
           {
            "marker": {
             "colorbar": {
              "outlinewidth": 0,
              "ticks": ""
             }
            },
            "type": "scattergeo"
           }
          ],
          "scattergl": [
           {
            "marker": {
             "colorbar": {
              "outlinewidth": 0,
              "ticks": ""
             }
            },
            "type": "scattergl"
           }
          ],
          "scattermapbox": [
           {
            "marker": {
             "colorbar": {
              "outlinewidth": 0,
              "ticks": ""
             }
            },
            "type": "scattermapbox"
           }
          ],
          "scatterpolar": [
           {
            "marker": {
             "colorbar": {
              "outlinewidth": 0,
              "ticks": ""
             }
            },
            "type": "scatterpolar"
           }
          ],
          "scatterpolargl": [
           {
            "marker": {
             "colorbar": {
              "outlinewidth": 0,
              "ticks": ""
             }
            },
            "type": "scatterpolargl"
           }
          ],
          "scatterternary": [
           {
            "marker": {
             "colorbar": {
              "outlinewidth": 0,
              "ticks": ""
             }
            },
            "type": "scatterternary"
           }
          ],
          "surface": [
           {
            "colorbar": {
             "outlinewidth": 0,
             "ticks": ""
            },
            "colorscale": [
             [
              0,
              "#0d0887"
             ],
             [
              0.1111111111111111,
              "#46039f"
             ],
             [
              0.2222222222222222,
              "#7201a8"
             ],
             [
              0.3333333333333333,
              "#9c179e"
             ],
             [
              0.4444444444444444,
              "#bd3786"
             ],
             [
              0.5555555555555556,
              "#d8576b"
             ],
             [
              0.6666666666666666,
              "#ed7953"
             ],
             [
              0.7777777777777778,
              "#fb9f3a"
             ],
             [
              0.8888888888888888,
              "#fdca26"
             ],
             [
              1,
              "#f0f921"
             ]
            ],
            "type": "surface"
           }
          ],
          "table": [
           {
            "cells": {
             "fill": {
              "color": "#EBF0F8"
             },
             "line": {
              "color": "white"
             }
            },
            "header": {
             "fill": {
              "color": "#C8D4E3"
             },
             "line": {
              "color": "white"
             }
            },
            "type": "table"
           }
          ]
         },
         "layout": {
          "annotationdefaults": {
           "arrowcolor": "#2a3f5f",
           "arrowhead": 0,
           "arrowwidth": 1
          },
          "colorscale": {
           "diverging": [
            [
             0,
             "#8e0152"
            ],
            [
             0.1,
             "#c51b7d"
            ],
            [
             0.2,
             "#de77ae"
            ],
            [
             0.3,
             "#f1b6da"
            ],
            [
             0.4,
             "#fde0ef"
            ],
            [
             0.5,
             "#f7f7f7"
            ],
            [
             0.6,
             "#e6f5d0"
            ],
            [
             0.7,
             "#b8e186"
            ],
            [
             0.8,
             "#7fbc41"
            ],
            [
             0.9,
             "#4d9221"
            ],
            [
             1,
             "#276419"
            ]
           ],
           "sequential": [
            [
             0,
             "#0d0887"
            ],
            [
             0.1111111111111111,
             "#46039f"
            ],
            [
             0.2222222222222222,
             "#7201a8"
            ],
            [
             0.3333333333333333,
             "#9c179e"
            ],
            [
             0.4444444444444444,
             "#bd3786"
            ],
            [
             0.5555555555555556,
             "#d8576b"
            ],
            [
             0.6666666666666666,
             "#ed7953"
            ],
            [
             0.7777777777777778,
             "#fb9f3a"
            ],
            [
             0.8888888888888888,
             "#fdca26"
            ],
            [
             1,
             "#f0f921"
            ]
           ],
           "sequentialminus": [
            [
             0,
             "#0d0887"
            ],
            [
             0.1111111111111111,
             "#46039f"
            ],
            [
             0.2222222222222222,
             "#7201a8"
            ],
            [
             0.3333333333333333,
             "#9c179e"
            ],
            [
             0.4444444444444444,
             "#bd3786"
            ],
            [
             0.5555555555555556,
             "#d8576b"
            ],
            [
             0.6666666666666666,
             "#ed7953"
            ],
            [
             0.7777777777777778,
             "#fb9f3a"
            ],
            [
             0.8888888888888888,
             "#fdca26"
            ],
            [
             1,
             "#f0f921"
            ]
           ]
          },
          "colorway": [
           "#636efa",
           "#EF553B",
           "#00cc96",
           "#ab63fa",
           "#FFA15A",
           "#19d3f3",
           "#FF6692",
           "#B6E880",
           "#FF97FF",
           "#FECB52"
          ],
          "font": {
           "color": "#2a3f5f"
          },
          "geo": {
           "bgcolor": "white",
           "lakecolor": "white",
           "landcolor": "#E5ECF6",
           "showlakes": true,
           "showland": true,
           "subunitcolor": "white"
          },
          "hoverlabel": {
           "align": "left"
          },
          "hovermode": "closest",
          "mapbox": {
           "style": "light"
          },
          "paper_bgcolor": "white",
          "plot_bgcolor": "#E5ECF6",
          "polar": {
           "angularaxis": {
            "gridcolor": "white",
            "linecolor": "white",
            "ticks": ""
           },
           "bgcolor": "#E5ECF6",
           "radialaxis": {
            "gridcolor": "white",
            "linecolor": "white",
            "ticks": ""
           }
          },
          "scene": {
           "xaxis": {
            "backgroundcolor": "#E5ECF6",
            "gridcolor": "white",
            "gridwidth": 2,
            "linecolor": "white",
            "showbackground": true,
            "ticks": "",
            "zerolinecolor": "white"
           },
           "yaxis": {
            "backgroundcolor": "#E5ECF6",
            "gridcolor": "white",
            "gridwidth": 2,
            "linecolor": "white",
            "showbackground": true,
            "ticks": "",
            "zerolinecolor": "white"
           },
           "zaxis": {
            "backgroundcolor": "#E5ECF6",
            "gridcolor": "white",
            "gridwidth": 2,
            "linecolor": "white",
            "showbackground": true,
            "ticks": "",
            "zerolinecolor": "white"
           }
          },
          "shapedefaults": {
           "line": {
            "color": "#2a3f5f"
           }
          },
          "ternary": {
           "aaxis": {
            "gridcolor": "white",
            "linecolor": "white",
            "ticks": ""
           },
           "baxis": {
            "gridcolor": "white",
            "linecolor": "white",
            "ticks": ""
           },
           "bgcolor": "#E5ECF6",
           "caxis": {
            "gridcolor": "white",
            "linecolor": "white",
            "ticks": ""
           }
          },
          "title": {
           "x": 0.05
          },
          "xaxis": {
           "automargin": true,
           "gridcolor": "white",
           "linecolor": "white",
           "ticks": "",
           "zerolinecolor": "white",
           "zerolinewidth": 2
          },
          "yaxis": {
           "automargin": true,
           "gridcolor": "white",
           "linecolor": "white",
           "ticks": "",
           "zerolinecolor": "white",
           "zerolinewidth": 2
          }
         }
        }
       }
      },
      "text/html": [
       "<div>\n",
       "        \n",
       "        \n",
       "            <div id=\"ad68145c-44ae-4648-931d-f9ef7894cac6\" class=\"plotly-graph-div\" style=\"height:600px; width:100%;\"></div>\n",
       "            <script type=\"text/javascript\">\n",
       "                require([\"plotly\"], function(Plotly) {\n",
       "                    window.PLOTLYENV=window.PLOTLYENV || {};\n",
       "                    \n",
       "                if (document.getElementById(\"ad68145c-44ae-4648-931d-f9ef7894cac6\")) {\n",
       "                    Plotly.newPlot(\n",
       "                        'ad68145c-44ae-4648-931d-f9ef7894cac6',\n",
       "                        [{\"dimensions\": [{\"axis\": {\"matches\": true}, \"label\": \"protein\", \"values\": [12.121212121212121, 12.121212121212121, 8.0, 2.6666666666666665, 2.6666666666666665, 2.0, 4.0, 2.9850746268656714, 4.477611940298507, 1.3333333333333333, 4.8, 1.3333333333333333, 6.0, 1.0, 2.0, 2.0, 1.0, 1.0, 6.0, 3.0, 2.0, 2.6666666666666665, 2.6666666666666665, 2.0, 1.3333333333333333, 3.75, 4.477611940298507, 4.477611940298507, 1.3333333333333333, 2.272727272727273, 1.3333333333333333, 3.409090909090909, 12.0, 9.09090909090909, 1.0, 4.0, 0.7518796992481203, 4.0, 1.3333333333333333, 5.970149253731343, 2.0, 4.477611940298507, 2.0, 2.9850746268656714, 4.477611940298507, 6.0, 4.477611940298507, 3.0, 1.0, 8.0, 7.462686567164178, 4.0, 6.0, 4.0, 0.8849557522123894, 2.0, 4.477611940298507, 4.477611940298507, 2.6666666666666665, 6.0, 2.0, 3.0, 3.0, 2.6666666666666665, 1.0, 4.477611940298507, 3.0, 2.6666666666666665]}, {\"axis\": {\"matches\": true}, \"label\": \"fat\", \"values\": [3.0303030303030303, 3.0303030303030303, 0.0, 2.6666666666666665, 2.6666666666666665, 0.0, 2.6666666666666665, 1.4925373134328357, 0.0, 2.6666666666666665, 1.6, 4.0, 4.0, 1.0, 0.0, 0.0, 0.0, 1.0, 6.0, 0.0, 0.0, 1.3333333333333333, 0.0, 1.0, 0.0, 0.0, 2.9850746268656714, 0.0, 1.3333333333333333, 0.0, 1.3333333333333333, 1.1363636363636365, 0.0, 9.09090909090909, 2.0, 1.3333333333333333, 0.0, 1.3333333333333333, 0.6666666666666666, 2.9850746268656714, 1.0, 2.9850746268656714, 1.0, 1.4925373134328357, 2.9850746268656714, 4.0, 1.4925373134328357, 0.0, 0.0, 2.0, 2.9850746268656714, 1.3333333333333333, 4.0, 0.0, 0.0, 0.0, 0.0, 0.0, 1.3333333333333333, 0.0, 1.0, 1.0, 1.0, 1.3333333333333333, 1.0, 1.4925373134328357, 1.0, 1.3333333333333333]}, {\"axis\": {\"matches\": true}, \"label\": \"sodium\", \"values\": [393.93939393939394, 787.8787878787879, 280.0, 266.6666666666667, 240.0, 125.0, 280.0, 298.5074626865671, 313.4328358208955, 293.3333333333333, 232.0, 280.0, 280.0, 180.0, 280.0, 290.0, 90.0, 180.0, 280.0, 80.0, 220.0, 186.66666666666666, 253.33333333333334, 125.0, 266.6666666666667, 0.0, 238.8059701492537, 358.2089552238806, 180.0, 51.13636363636363, 373.3333333333333, 159.0909090909091, 680.0, 227.27272727272725, 220.0, 333.3333333333333, 135.33834586466165, 226.66666666666666, 173.33333333333334, 223.88059701492537, 180.0, 223.88059701492537, 220.0, 283.5820895522388, 328.35820895522386, 340.0, 298.5074626865671, 320.0, 0.0, 270.0, 0.0, 280.0, 280.0, 0.0, 212.38938053097348, 290.0, 0.0, 0.0, 93.33333333333333, 230.0, 200.0, 190.0, 200.0, 333.3333333333333, 140.0, 343.2835820895522, 200.0, 266.6666666666667]}, {\"axis\": {\"matches\": true}, \"label\": \"fiber\", \"values\": [30.3030303030303, 27.27272727272727, 28.0, 1.3333333333333333, 2.0, 1.0, 2.6666666666666665, 5.970149253731343, 7.462686567164178, 0.0, 1.6, 0.0, 4.0, 0.0, 0.0, 1.0, 1.0, 0.0, 8.0, 1.0, 1.0, 2.6666666666666665, 1.3333333333333333, 1.0, 1.3333333333333333, 3.75, 7.462686567164178, 7.462686567164178, 0.0, 0.0, 0.0, 3.409090909090909, 12.0, 9.09090909090909, 1.0, 2.0, 0.0, 2.6666666666666665, 0.0, 2.9850746268656714, 0.0, 4.477611940298507, 2.0, 0.0, 4.477611940298507, 3.0, 8.955223880597014, 1.0, 0.0, 4.0, 4.029850746268656, 6.666666666666667, 5.0, 4.0, 0.0, 0.0, 5.970149253731343, 4.477611940298507, 1.3333333333333333, 1.0, 0.0, 4.0, 3.0, 0.0, 0.0, 4.477611940298507, 3.0, 1.3333333333333333]}, {\"axis\": {\"matches\": true}, \"label\": \"carbs\", \"values\": [15.15151515151515, 21.21212121212121, 16.0, 18.666666666666668, 14.0, 11.0, 24.0, 22.388059701492537, 19.402985074626866, 16.0, 13.6, 17.333333333333332, 26.0, 12.0, 22.0, 21.0, 13.0, 12.0, 20.0, 21.0, 21.0, 14.666666666666666, 24.0, 11.0, 18.666666666666668, 17.5, 17.91044776119403, 20.8955223880597, 17.333333333333332, 12.5, 20.0, 17.045454545454547, 68.0, 39.39393939393939, 12.0, 15.333333333333334, 10.526315789473683, 26.666666666666668, 14.0, 17.91044776119403, 12.0, 25.37313432835821, 15.0, 22.388059701492537, 31.34328358208955, 27.0, 16.417910447761194, 20.0, 13.0, 28.0, -1.4925373134328357, 18.666666666666668, 21.0, 30.0, 20.353982300884958, 22.0, 28.35820895522388, 29.850746268656714, 12.0, 16.0, 21.0, 15.0, 16.0, 28.0, 13.0, 25.37313432835821, 17.0, 21.333333333333332]}, {\"axis\": {\"matches\": true}, \"label\": \"sugar\", \"values\": [18.18181818181818, 15.15151515151515, 0.0, 10.666666666666666, 13.333333333333334, 14.0, 10.666666666666666, 8.955223880597014, 7.462686567164178, 16.0, 0.8, 12.0, 14.0, 13.0, 3.0, 2.0, 12.0, 13.0, 14.0, 0.0, 3.0, 13.333333333333334, 6.666666666666667, 13.0, 14.666666666666666, 8.75, 14.925373134328357, 17.91044776119403, 16.0, 17.045454545454547, 12.0, 5.681818181818182, 12.0, 12.121212121212121, 11.0, 13.333333333333334, 8.270676691729323, 12.0, 2.0, 8.955223880597014, 12.0, 19.402985074626866, 6.0, 13.432835820895521, 10.44776119402985, 20.0, 20.8955223880597, 3.0, 0.0, 12.0, -1.4925373134328357, 16.0, 16.0, 12.0, 1.7699115044247788, 3.0, 0.0, 0.0, 20.0, 3.0, 3.0, 14.0, 3.0, 4.0, 12.0, 4.477611940298507, 3.0, 10.666666666666666]}, {\"axis\": {\"matches\": true}, \"label\": \"potassium\", \"values\": [848.4848484848485, 969.6969696969696, 660.0, -1.3333333333333333, 93.33333333333333, 30.0, 133.33333333333334, 186.56716417910448, 283.5820895522388, 46.666666666666664, 84.0, 60.0, 210.0, 55.0, 25.0, 35.0, 20.0, 65.0, 320.0, -1.0, 30.0, 160.0, 106.66666666666667, 30.0, 33.333333333333336, 125.0, 298.5074626865671, 283.5820895522388, 33.333333333333336, 45.45454545454545, 60.0, 96.5909090909091, 360.0, 303.030303030303, 45.0, 120.0, 26.31578947368421, 126.66666666666667, 26.666666666666668, 141.7910447761194, 55.0, 238.8059701492537, 90.0, 59.70149253731343, 194.02985074626864, 240.0, 388.0597014925373, 45.0, 15.0, 220.0, 164.17910447761193, 320.0, 280.0, 220.0, 26.548672566371685, 35.0, 208.955223880597, 179.1044776119403, 53.333333333333336, 55.0, 35.0, 230.0, 110.0, 80.0, 25.0, 171.6417910447761, 110.0, 80.0]}, {\"axis\": {\"matches\": true}, \"label\": \"vitamins\", \"values\": [75.75757575757575, 75.75757575757575, 50.0, 33.333333333333336, 33.333333333333336, 25.0, 33.333333333333336, 37.31343283582089, 37.31343283582089, 33.333333333333336, 20.0, 33.333333333333336, 50.0, 25.0, 25.0, 25.0, 25.0, 25.0, 50.0, 0.0, 25.0, 33.333333333333336, 33.333333333333336, 25.0, 33.333333333333336, 31.25, 37.31343283582089, 37.31343283582089, 33.333333333333336, 28.40909090909091, 33.333333333333336, 28.40909090909091, 100.0, 75.75757575757575, 25.0, 33.333333333333336, 18.796992481203006, 133.33333333333334, 16.666666666666668, 37.31343283582089, 25.0, 37.31343283582089, 25.0, 37.31343283582089, 37.31343283582089, 50.0, 37.31343283582089, 100.0, 0.0, 50.0, 0.0, 33.333333333333336, 50.0, 50.0, 22.123893805309738, 25.0, 0.0, 0.0, 33.333333333333336, 25.0, 100.0, 100.0, 100.0, 33.333333333333336, 25.0, 37.31343283582089, 25.0, 33.333333333333336]}], \"hoverlabel\": {\"namelength\": 0}, \"hovertemplate\": \"%{xaxis.title.text}=%{x}<br>%{yaxis.title.text}=%{y}<br>shelf=%{marker.color}\", \"legendgroup\": \"\", \"marker\": {\"color\": [3, 3, 3, 3, 1, 2, 3, 1, 3, 2, 1, 2, 3, 2, 1, 1, 2, 2, 3, 2, 3, 3, 3, 2, 1, 2, 3, 3, 2, 1, 2, 3, 3, 3, 2, 1, 1, 3, 2, 2, 2, 3, 1, 2, 3, 3, 3, 3, 3, 3, 1, 2, 3, 3, 1, 1, 1, 1, 2, 1, 3, 3, 3, 3, 2, 1, 1, 1], \"coloraxis\": \"coloraxis\", \"symbol\": \"circle\"}, \"name\": \"\", \"showlegend\": false, \"type\": \"splom\"}],\n",
       "                        {\"coloraxis\": {\"colorbar\": {\"title\": {\"text\": \"shelf\"}}, \"colorscale\": [[0.0, \"#0d0887\"], [0.1111111111111111, \"#46039f\"], [0.2222222222222222, \"#7201a8\"], [0.3333333333333333, \"#9c179e\"], [0.4444444444444444, \"#bd3786\"], [0.5555555555555556, \"#d8576b\"], [0.6666666666666666, \"#ed7953\"], [0.7777777777777778, \"#fb9f3a\"], [0.8888888888888888, \"#fdca26\"], [1.0, \"#f0f921\"]]}, \"dragmode\": \"select\", \"height\": 600, \"legend\": {\"tracegroupgap\": 0}, \"margin\": {\"t\": 60}, \"template\": {\"data\": {\"bar\": [{\"error_x\": {\"color\": \"#2a3f5f\"}, \"error_y\": {\"color\": \"#2a3f5f\"}, \"marker\": {\"line\": {\"color\": \"#E5ECF6\", \"width\": 0.5}}, \"type\": \"bar\"}], \"barpolar\": [{\"marker\": {\"line\": {\"color\": \"#E5ECF6\", \"width\": 0.5}}, \"type\": \"barpolar\"}], \"carpet\": [{\"aaxis\": {\"endlinecolor\": \"#2a3f5f\", \"gridcolor\": \"white\", \"linecolor\": \"white\", \"minorgridcolor\": \"white\", \"startlinecolor\": \"#2a3f5f\"}, \"baxis\": {\"endlinecolor\": \"#2a3f5f\", \"gridcolor\": \"white\", \"linecolor\": \"white\", \"minorgridcolor\": \"white\", \"startlinecolor\": \"#2a3f5f\"}, \"type\": \"carpet\"}], \"choropleth\": [{\"colorbar\": {\"outlinewidth\": 0, \"ticks\": \"\"}, \"type\": \"choropleth\"}], \"contour\": [{\"colorbar\": {\"outlinewidth\": 0, \"ticks\": \"\"}, \"colorscale\": [[0.0, \"#0d0887\"], [0.1111111111111111, \"#46039f\"], [0.2222222222222222, \"#7201a8\"], [0.3333333333333333, \"#9c179e\"], [0.4444444444444444, \"#bd3786\"], [0.5555555555555556, \"#d8576b\"], [0.6666666666666666, \"#ed7953\"], [0.7777777777777778, \"#fb9f3a\"], [0.8888888888888888, \"#fdca26\"], [1.0, \"#f0f921\"]], \"type\": \"contour\"}], \"contourcarpet\": [{\"colorbar\": {\"outlinewidth\": 0, \"ticks\": \"\"}, \"type\": \"contourcarpet\"}], \"heatmap\": [{\"colorbar\": {\"outlinewidth\": 0, \"ticks\": \"\"}, \"colorscale\": [[0.0, \"#0d0887\"], [0.1111111111111111, \"#46039f\"], [0.2222222222222222, \"#7201a8\"], [0.3333333333333333, \"#9c179e\"], [0.4444444444444444, \"#bd3786\"], [0.5555555555555556, \"#d8576b\"], [0.6666666666666666, \"#ed7953\"], [0.7777777777777778, \"#fb9f3a\"], [0.8888888888888888, \"#fdca26\"], [1.0, \"#f0f921\"]], \"type\": \"heatmap\"}], \"heatmapgl\": [{\"colorbar\": {\"outlinewidth\": 0, \"ticks\": \"\"}, \"colorscale\": [[0.0, \"#0d0887\"], [0.1111111111111111, \"#46039f\"], [0.2222222222222222, \"#7201a8\"], [0.3333333333333333, \"#9c179e\"], [0.4444444444444444, \"#bd3786\"], [0.5555555555555556, \"#d8576b\"], [0.6666666666666666, \"#ed7953\"], [0.7777777777777778, \"#fb9f3a\"], [0.8888888888888888, \"#fdca26\"], [1.0, \"#f0f921\"]], \"type\": \"heatmapgl\"}], \"histogram\": [{\"marker\": {\"colorbar\": {\"outlinewidth\": 0, \"ticks\": \"\"}}, \"type\": \"histogram\"}], \"histogram2d\": [{\"colorbar\": {\"outlinewidth\": 0, \"ticks\": \"\"}, \"colorscale\": [[0.0, \"#0d0887\"], [0.1111111111111111, \"#46039f\"], [0.2222222222222222, \"#7201a8\"], [0.3333333333333333, \"#9c179e\"], [0.4444444444444444, \"#bd3786\"], [0.5555555555555556, \"#d8576b\"], [0.6666666666666666, \"#ed7953\"], [0.7777777777777778, \"#fb9f3a\"], [0.8888888888888888, \"#fdca26\"], [1.0, \"#f0f921\"]], \"type\": \"histogram2d\"}], \"histogram2dcontour\": [{\"colorbar\": {\"outlinewidth\": 0, \"ticks\": \"\"}, \"colorscale\": [[0.0, \"#0d0887\"], [0.1111111111111111, \"#46039f\"], [0.2222222222222222, \"#7201a8\"], [0.3333333333333333, \"#9c179e\"], [0.4444444444444444, \"#bd3786\"], [0.5555555555555556, \"#d8576b\"], [0.6666666666666666, \"#ed7953\"], [0.7777777777777778, \"#fb9f3a\"], [0.8888888888888888, \"#fdca26\"], [1.0, \"#f0f921\"]], \"type\": \"histogram2dcontour\"}], \"mesh3d\": [{\"colorbar\": {\"outlinewidth\": 0, \"ticks\": \"\"}, \"type\": \"mesh3d\"}], \"parcoords\": [{\"line\": {\"colorbar\": {\"outlinewidth\": 0, \"ticks\": \"\"}}, \"type\": \"parcoords\"}], \"scatter\": [{\"marker\": {\"colorbar\": {\"outlinewidth\": 0, \"ticks\": \"\"}}, \"type\": \"scatter\"}], \"scatter3d\": [{\"line\": {\"colorbar\": {\"outlinewidth\": 0, \"ticks\": \"\"}}, \"marker\": {\"colorbar\": {\"outlinewidth\": 0, \"ticks\": \"\"}}, \"type\": \"scatter3d\"}], \"scattercarpet\": [{\"marker\": {\"colorbar\": {\"outlinewidth\": 0, \"ticks\": \"\"}}, \"type\": \"scattercarpet\"}], \"scattergeo\": [{\"marker\": {\"colorbar\": {\"outlinewidth\": 0, \"ticks\": \"\"}}, \"type\": \"scattergeo\"}], \"scattergl\": [{\"marker\": {\"colorbar\": {\"outlinewidth\": 0, \"ticks\": \"\"}}, \"type\": \"scattergl\"}], \"scattermapbox\": [{\"marker\": {\"colorbar\": {\"outlinewidth\": 0, \"ticks\": \"\"}}, \"type\": \"scattermapbox\"}], \"scatterpolar\": [{\"marker\": {\"colorbar\": {\"outlinewidth\": 0, \"ticks\": \"\"}}, \"type\": \"scatterpolar\"}], \"scatterpolargl\": [{\"marker\": {\"colorbar\": {\"outlinewidth\": 0, \"ticks\": \"\"}}, \"type\": \"scatterpolargl\"}], \"scatterternary\": [{\"marker\": {\"colorbar\": {\"outlinewidth\": 0, \"ticks\": \"\"}}, \"type\": \"scatterternary\"}], \"surface\": [{\"colorbar\": {\"outlinewidth\": 0, \"ticks\": \"\"}, \"colorscale\": [[0.0, \"#0d0887\"], [0.1111111111111111, \"#46039f\"], [0.2222222222222222, \"#7201a8\"], [0.3333333333333333, \"#9c179e\"], [0.4444444444444444, \"#bd3786\"], [0.5555555555555556, \"#d8576b\"], [0.6666666666666666, \"#ed7953\"], [0.7777777777777778, \"#fb9f3a\"], [0.8888888888888888, \"#fdca26\"], [1.0, \"#f0f921\"]], \"type\": \"surface\"}], \"table\": [{\"cells\": {\"fill\": {\"color\": \"#EBF0F8\"}, \"line\": {\"color\": \"white\"}}, \"header\": {\"fill\": {\"color\": \"#C8D4E3\"}, \"line\": {\"color\": \"white\"}}, \"type\": \"table\"}]}, \"layout\": {\"annotationdefaults\": {\"arrowcolor\": \"#2a3f5f\", \"arrowhead\": 0, \"arrowwidth\": 1}, \"colorscale\": {\"diverging\": [[0, \"#8e0152\"], [0.1, \"#c51b7d\"], [0.2, \"#de77ae\"], [0.3, \"#f1b6da\"], [0.4, \"#fde0ef\"], [0.5, \"#f7f7f7\"], [0.6, \"#e6f5d0\"], [0.7, \"#b8e186\"], [0.8, \"#7fbc41\"], [0.9, \"#4d9221\"], [1, \"#276419\"]], \"sequential\": [[0.0, \"#0d0887\"], [0.1111111111111111, \"#46039f\"], [0.2222222222222222, \"#7201a8\"], [0.3333333333333333, \"#9c179e\"], [0.4444444444444444, \"#bd3786\"], [0.5555555555555556, \"#d8576b\"], [0.6666666666666666, \"#ed7953\"], [0.7777777777777778, \"#fb9f3a\"], [0.8888888888888888, \"#fdca26\"], [1.0, \"#f0f921\"]], \"sequentialminus\": [[0.0, \"#0d0887\"], [0.1111111111111111, \"#46039f\"], [0.2222222222222222, \"#7201a8\"], [0.3333333333333333, \"#9c179e\"], [0.4444444444444444, \"#bd3786\"], [0.5555555555555556, \"#d8576b\"], [0.6666666666666666, \"#ed7953\"], [0.7777777777777778, \"#fb9f3a\"], [0.8888888888888888, \"#fdca26\"], [1.0, \"#f0f921\"]]}, \"colorway\": [\"#636efa\", \"#EF553B\", \"#00cc96\", \"#ab63fa\", \"#FFA15A\", \"#19d3f3\", \"#FF6692\", \"#B6E880\", \"#FF97FF\", \"#FECB52\"], \"font\": {\"color\": \"#2a3f5f\"}, \"geo\": {\"bgcolor\": \"white\", \"lakecolor\": \"white\", \"landcolor\": \"#E5ECF6\", \"showlakes\": true, \"showland\": true, \"subunitcolor\": \"white\"}, \"hoverlabel\": {\"align\": \"left\"}, \"hovermode\": \"closest\", \"mapbox\": {\"style\": \"light\"}, \"paper_bgcolor\": \"white\", \"plot_bgcolor\": \"#E5ECF6\", \"polar\": {\"angularaxis\": {\"gridcolor\": \"white\", \"linecolor\": \"white\", \"ticks\": \"\"}, \"bgcolor\": \"#E5ECF6\", \"radialaxis\": {\"gridcolor\": \"white\", \"linecolor\": \"white\", \"ticks\": \"\"}}, \"scene\": {\"xaxis\": {\"backgroundcolor\": \"#E5ECF6\", \"gridcolor\": \"white\", \"gridwidth\": 2, \"linecolor\": \"white\", \"showbackground\": true, \"ticks\": \"\", \"zerolinecolor\": \"white\"}, \"yaxis\": {\"backgroundcolor\": \"#E5ECF6\", \"gridcolor\": \"white\", \"gridwidth\": 2, \"linecolor\": \"white\", \"showbackground\": true, \"ticks\": \"\", \"zerolinecolor\": \"white\"}, \"zaxis\": {\"backgroundcolor\": \"#E5ECF6\", \"gridcolor\": \"white\", \"gridwidth\": 2, \"linecolor\": \"white\", \"showbackground\": true, \"ticks\": \"\", \"zerolinecolor\": \"white\"}}, \"shapedefaults\": {\"line\": {\"color\": \"#2a3f5f\"}}, \"ternary\": {\"aaxis\": {\"gridcolor\": \"white\", \"linecolor\": \"white\", \"ticks\": \"\"}, \"baxis\": {\"gridcolor\": \"white\", \"linecolor\": \"white\", \"ticks\": \"\"}, \"bgcolor\": \"#E5ECF6\", \"caxis\": {\"gridcolor\": \"white\", \"linecolor\": \"white\", \"ticks\": \"\"}}, \"title\": {\"x\": 0.05}, \"xaxis\": {\"automargin\": true, \"gridcolor\": \"white\", \"linecolor\": \"white\", \"ticks\": \"\", \"zerolinecolor\": \"white\", \"zerolinewidth\": 2}, \"yaxis\": {\"automargin\": true, \"gridcolor\": \"white\", \"linecolor\": \"white\", \"ticks\": \"\", \"zerolinecolor\": \"white\", \"zerolinewidth\": 2}}}},\n",
       "                        {\"responsive\": true}\n",
       "                    ).then(function(){\n",
       "                            \n",
       "var gd = document.getElementById('ad68145c-44ae-4648-931d-f9ef7894cac6');\n",
       "var x = new MutationObserver(function (mutations, observer) {{\n",
       "        var display = window.getComputedStyle(gd).display;\n",
       "        if (!display || display === 'none') {{\n",
       "            console.log([gd, 'removed!']);\n",
       "            Plotly.purge(gd);\n",
       "            observer.disconnect();\n",
       "        }}\n",
       "}});\n",
       "\n",
       "// Listen for the removal of the full notebook cells\n",
       "var notebookContainer = gd.closest('#notebook-container');\n",
       "if (notebookContainer) {{\n",
       "    x.observe(notebookContainer, {childList: true});\n",
       "}}\n",
       "\n",
       "// Listen for the clearing of the current output cell\n",
       "var outputEl = gd.closest('.output');\n",
       "if (outputEl) {{\n",
       "    x.observe(outputEl, {childList: true});\n",
       "}}\n",
       "\n",
       "                        })\n",
       "                };\n",
       "                });\n",
       "            </script>\n",
       "        </div>"
      ]
     },
     "metadata": {},
     "output_type": "display_data"
    }
   ],
   "source": [
    "fig = px.scatter_matrix(rcereal, dimensions=['protein', 'fat','sodium', 'fiber', 'carbs', 'sugar', 'potassium','vitamins'], color = 'shelf')\n",
    "fig.show()"
   ]
  },
  {
   "cell_type": "code",
   "execution_count": 39,
   "metadata": {},
   "outputs": [
    {
     "data": {
      "text/plain": [
       "<matplotlib.axes._subplots.AxesSubplot at 0x121bcf510>"
      ]
     },
     "execution_count": 39,
     "metadata": {},
     "output_type": "execute_result"
    },
    {
     "data": {
      "image/png": "[encoded data removed]",
      "text/plain": [
       "<Figure size 432x288 with 1 Axes>"
      ]
     },
     "metadata": {
      "needs_background": "light"
     },
     "output_type": "display_data"
    }
   ],
   "source": [
    "pro = SelectNrt('protein', rcereal)\n",
    "pro.boxplot(by='shelf') #comparaing the protein value for differen shelf place"
   ]
  },
  {
   "cell_type": "code",
   "execution_count": 41,
   "metadata": {},
   "outputs": [
    {
     "data": {
      "text/plain": [
       "<matplotlib.axes._subplots.AxesSubplot at 0x121ef9850>"
      ]
     },
     "execution_count": 41,
     "metadata": {},
     "output_type": "execute_result"
    },
    {
     "data": {
      "image/png": "[encoded data removed]",
      "text/plain": [
       "<Figure size 432x288 with 1 Axes>"
      ]
     },
     "metadata": {
      "needs_background": "light"
     },
     "output_type": "display_data"
    }
   ],
   "source": [
    "fat.boxplot(by = 'shelf') #comparaing the fat value for differen shelf place"
   ]
  },
  {
   "cell_type": "code",
   "execution_count": 42,
   "metadata": {
    "scrolled": false
   },
   "outputs": [
    {
     "data": {
      "text/plain": [
       "<matplotlib.axes._subplots.AxesSubplot at 0x122043b90>"
      ]
     },
     "execution_count": 42,
     "metadata": {},
     "output_type": "execute_result"
    },
    {
     "data": {
      "image/png": "[encoded data removed]",
      "text/plain": [
       "<Figure size 432x288 with 1 Axes>"
      ]
     },
     "metadata": {
      "needs_background": "light"
     },
     "output_type": "display_data"
    }
   ],
   "source": [
    "sug = SelectNrt('sugar', rcereal)\n",
    "sug.boxplot(by = 'shelf') #comparaing the sugar value for differen shelf place"
   ]
  },
  {
   "cell_type": "code",
   "execution_count": 51,
   "metadata": {},
   "outputs": [
    {
     "name": "stderr",
     "output_type": "stream",
     "text": [
      "/Library/Frameworks/Python.framework/Versions/3.7/lib/python3.7/site-packages/pandas/core/generic.py:5208: SettingWithCopyWarning:\n",
      "\n",
      "\n",
      "A value is trying to be set on a copy of a slice from a DataFrame.\n",
      "Try using .loc[row_indexer,col_indexer] = value instead\n",
      "\n",
      "See the caveats in the documentation: http://pandas.pydata.org/pandas-docs/stable/user_guide/indexing.html#returning-a-view-versus-a-copy\n",
      "\n"
     ]
    },
    {
     "data": {
      "text/html": [
       "<div>\n",
       "<style scoped>\n",
       "    .dataframe tbody tr th:only-of-type {\n",
       "        vertical-align: middle;\n",
       "    }\n",
       "\n",
       "    .dataframe tbody tr th {\n",
       "        vertical-align: top;\n",
       "    }\n",
       "\n",
       "    .dataframe thead th {\n",
       "        text-align: right;\n",
       "    }\n",
       "</style>\n",
       "<table border=\"1\" class=\"dataframe\">\n",
       "  <thead>\n",
       "    <tr style=\"text-align: right;\">\n",
       "      <th></th>\n",
       "      <th>name</th>\n",
       "      <th>manufacturer</th>\n",
       "      <th>type</th>\n",
       "      <th>calories</th>\n",
       "      <th>protein</th>\n",
       "      <th>fat</th>\n",
       "      <th>sodium</th>\n",
       "      <th>fiber</th>\n",
       "      <th>carbs</th>\n",
       "      <th>sugar</th>\n",
       "      <th>shelf</th>\n",
       "      <th>potassium</th>\n",
       "      <th>vitamins</th>\n",
       "      <th>weight</th>\n",
       "      <th>cups</th>\n",
       "    </tr>\n",
       "  </thead>\n",
       "  <tbody>\n",
       "    <tr>\n",
       "      <td>0</td>\n",
       "      <td>All-Bran</td>\n",
       "      <td>1</td>\n",
       "      <td>C</td>\n",
       "      <td>212.121212</td>\n",
       "      <td>12.121212</td>\n",
       "      <td>3.030303</td>\n",
       "      <td>787.878788</td>\n",
       "      <td>27.272727</td>\n",
       "      <td>21.212121</td>\n",
       "      <td>15.151515</td>\n",
       "      <td>3</td>\n",
       "      <td>969.696970</td>\n",
       "      <td>75.757576</td>\n",
       "      <td>3.030303</td>\n",
       "      <td>0.33</td>\n",
       "    </tr>\n",
       "    <tr>\n",
       "      <td>1</td>\n",
       "      <td>All-Bran_Extra_Fiber</td>\n",
       "      <td>1</td>\n",
       "      <td>C</td>\n",
       "      <td>100.000000</td>\n",
       "      <td>8.000000</td>\n",
       "      <td>0.000000</td>\n",
       "      <td>280.000000</td>\n",
       "      <td>28.000000</td>\n",
       "      <td>16.000000</td>\n",
       "      <td>0.000000</td>\n",
       "      <td>3</td>\n",
       "      <td>660.000000</td>\n",
       "      <td>50.000000</td>\n",
       "      <td>2.000000</td>\n",
       "      <td>0.50</td>\n",
       "    </tr>\n",
       "    <tr>\n",
       "      <td>2</td>\n",
       "      <td>Apple_Jacks</td>\n",
       "      <td>1</td>\n",
       "      <td>C</td>\n",
       "      <td>110.000000</td>\n",
       "      <td>2.000000</td>\n",
       "      <td>0.000000</td>\n",
       "      <td>125.000000</td>\n",
       "      <td>1.000000</td>\n",
       "      <td>11.000000</td>\n",
       "      <td>14.000000</td>\n",
       "      <td>2</td>\n",
       "      <td>30.000000</td>\n",
       "      <td>25.000000</td>\n",
       "      <td>1.000000</td>\n",
       "      <td>1.00</td>\n",
       "    </tr>\n",
       "    <tr>\n",
       "      <td>3</td>\n",
       "      <td>Corn_Flakes</td>\n",
       "      <td>1</td>\n",
       "      <td>C</td>\n",
       "      <td>100.000000</td>\n",
       "      <td>2.000000</td>\n",
       "      <td>0.000000</td>\n",
       "      <td>290.000000</td>\n",
       "      <td>1.000000</td>\n",
       "      <td>21.000000</td>\n",
       "      <td>2.000000</td>\n",
       "      <td>1</td>\n",
       "      <td>35.000000</td>\n",
       "      <td>25.000000</td>\n",
       "      <td>1.000000</td>\n",
       "      <td>1.00</td>\n",
       "    </tr>\n",
       "    <tr>\n",
       "      <td>4</td>\n",
       "      <td>Corn_Pops</td>\n",
       "      <td>1</td>\n",
       "      <td>C</td>\n",
       "      <td>110.000000</td>\n",
       "      <td>1.000000</td>\n",
       "      <td>0.000000</td>\n",
       "      <td>90.000000</td>\n",
       "      <td>1.000000</td>\n",
       "      <td>13.000000</td>\n",
       "      <td>12.000000</td>\n",
       "      <td>2</td>\n",
       "      <td>20.000000</td>\n",
       "      <td>25.000000</td>\n",
       "      <td>1.000000</td>\n",
       "      <td>1.00</td>\n",
       "    </tr>\n",
       "    <tr>\n",
       "      <td>5</td>\n",
       "      <td>Cracklin'_Oat_Bran</td>\n",
       "      <td>1</td>\n",
       "      <td>C</td>\n",
       "      <td>220.000000</td>\n",
       "      <td>6.000000</td>\n",
       "      <td>6.000000</td>\n",
       "      <td>280.000000</td>\n",
       "      <td>8.000000</td>\n",
       "      <td>20.000000</td>\n",
       "      <td>14.000000</td>\n",
       "      <td>3</td>\n",
       "      <td>320.000000</td>\n",
       "      <td>50.000000</td>\n",
       "      <td>2.000000</td>\n",
       "      <td>0.50</td>\n",
       "    </tr>\n",
       "    <tr>\n",
       "      <td>6</td>\n",
       "      <td>Crispix</td>\n",
       "      <td>1</td>\n",
       "      <td>C</td>\n",
       "      <td>110.000000</td>\n",
       "      <td>2.000000</td>\n",
       "      <td>0.000000</td>\n",
       "      <td>220.000000</td>\n",
       "      <td>1.000000</td>\n",
       "      <td>21.000000</td>\n",
       "      <td>3.000000</td>\n",
       "      <td>3</td>\n",
       "      <td>30.000000</td>\n",
       "      <td>25.000000</td>\n",
       "      <td>1.000000</td>\n",
       "      <td>1.00</td>\n",
       "    </tr>\n",
       "    <tr>\n",
       "      <td>7</td>\n",
       "      <td>Froot_Loops</td>\n",
       "      <td>1</td>\n",
       "      <td>C</td>\n",
       "      <td>110.000000</td>\n",
       "      <td>2.000000</td>\n",
       "      <td>1.000000</td>\n",
       "      <td>125.000000</td>\n",
       "      <td>1.000000</td>\n",
       "      <td>11.000000</td>\n",
       "      <td>13.000000</td>\n",
       "      <td>2</td>\n",
       "      <td>30.000000</td>\n",
       "      <td>25.000000</td>\n",
       "      <td>1.000000</td>\n",
       "      <td>1.00</td>\n",
       "    </tr>\n",
       "    <tr>\n",
       "      <td>8</td>\n",
       "      <td>Frosted_Flakes</td>\n",
       "      <td>1</td>\n",
       "      <td>C</td>\n",
       "      <td>146.666667</td>\n",
       "      <td>1.333333</td>\n",
       "      <td>0.000000</td>\n",
       "      <td>266.666667</td>\n",
       "      <td>1.333333</td>\n",
       "      <td>18.666667</td>\n",
       "      <td>14.666667</td>\n",
       "      <td>1</td>\n",
       "      <td>33.333333</td>\n",
       "      <td>33.333333</td>\n",
       "      <td>1.333333</td>\n",
       "      <td>0.75</td>\n",
       "    </tr>\n",
       "    <tr>\n",
       "      <td>9</td>\n",
       "      <td>Frosted_Mini-Wheats</td>\n",
       "      <td>1</td>\n",
       "      <td>C</td>\n",
       "      <td>125.000000</td>\n",
       "      <td>3.750000</td>\n",
       "      <td>0.000000</td>\n",
       "      <td>0.000000</td>\n",
       "      <td>3.750000</td>\n",
       "      <td>17.500000</td>\n",
       "      <td>8.750000</td>\n",
       "      <td>2</td>\n",
       "      <td>125.000000</td>\n",
       "      <td>31.250000</td>\n",
       "      <td>1.250000</td>\n",
       "      <td>0.80</td>\n",
       "    </tr>\n",
       "    <tr>\n",
       "      <td>10</td>\n",
       "      <td>Fruitful_Bran</td>\n",
       "      <td>1</td>\n",
       "      <td>C</td>\n",
       "      <td>179.104478</td>\n",
       "      <td>4.477612</td>\n",
       "      <td>0.000000</td>\n",
       "      <td>358.208955</td>\n",
       "      <td>7.462687</td>\n",
       "      <td>20.895522</td>\n",
       "      <td>17.910448</td>\n",
       "      <td>3</td>\n",
       "      <td>283.582090</td>\n",
       "      <td>37.313433</td>\n",
       "      <td>1.985075</td>\n",
       "      <td>0.67</td>\n",
       "    </tr>\n",
       "    <tr>\n",
       "      <td>11</td>\n",
       "      <td>Just_Right_Fruit_Nut</td>\n",
       "      <td>1</td>\n",
       "      <td>C</td>\n",
       "      <td>186.666667</td>\n",
       "      <td>4.000000</td>\n",
       "      <td>1.333333</td>\n",
       "      <td>226.666667</td>\n",
       "      <td>2.666667</td>\n",
       "      <td>26.666667</td>\n",
       "      <td>12.000000</td>\n",
       "      <td>3</td>\n",
       "      <td>126.666667</td>\n",
       "      <td>133.333333</td>\n",
       "      <td>1.733333</td>\n",
       "      <td>0.75</td>\n",
       "    </tr>\n",
       "    <tr>\n",
       "      <td>12</td>\n",
       "      <td>Mueslix_Crispy_Blend</td>\n",
       "      <td>1</td>\n",
       "      <td>C</td>\n",
       "      <td>238.805970</td>\n",
       "      <td>4.477612</td>\n",
       "      <td>2.985075</td>\n",
       "      <td>223.880597</td>\n",
       "      <td>4.477612</td>\n",
       "      <td>25.373134</td>\n",
       "      <td>19.402985</td>\n",
       "      <td>3</td>\n",
       "      <td>238.805970</td>\n",
       "      <td>37.313433</td>\n",
       "      <td>2.238806</td>\n",
       "      <td>0.67</td>\n",
       "    </tr>\n",
       "    <tr>\n",
       "      <td>13</td>\n",
       "      <td>Nut&amp;Honey_Crunch</td>\n",
       "      <td>1</td>\n",
       "      <td>C</td>\n",
       "      <td>179.104478</td>\n",
       "      <td>2.985075</td>\n",
       "      <td>1.492537</td>\n",
       "      <td>283.582090</td>\n",
       "      <td>0.000000</td>\n",
       "      <td>22.388060</td>\n",
       "      <td>13.432836</td>\n",
       "      <td>2</td>\n",
       "      <td>59.701493</td>\n",
       "      <td>37.313433</td>\n",
       "      <td>1.492537</td>\n",
       "      <td>0.67</td>\n",
       "    </tr>\n",
       "    <tr>\n",
       "      <td>14</td>\n",
       "      <td>Nutri-Grain_Almond</td>\n",
       "      <td>1</td>\n",
       "      <td>C</td>\n",
       "      <td>208.955224</td>\n",
       "      <td>4.477612</td>\n",
       "      <td>2.985075</td>\n",
       "      <td>328.358209</td>\n",
       "      <td>4.477612</td>\n",
       "      <td>31.343284</td>\n",
       "      <td>10.447761</td>\n",
       "      <td>3</td>\n",
       "      <td>194.029851</td>\n",
       "      <td>37.313433</td>\n",
       "      <td>1.985075</td>\n",
       "      <td>0.67</td>\n",
       "    </tr>\n",
       "    <tr>\n",
       "      <td>15</td>\n",
       "      <td>Product_19</td>\n",
       "      <td>1</td>\n",
       "      <td>C</td>\n",
       "      <td>100.000000</td>\n",
       "      <td>3.000000</td>\n",
       "      <td>0.000000</td>\n",
       "      <td>320.000000</td>\n",
       "      <td>1.000000</td>\n",
       "      <td>20.000000</td>\n",
       "      <td>3.000000</td>\n",
       "      <td>3</td>\n",
       "      <td>45.000000</td>\n",
       "      <td>100.000000</td>\n",
       "      <td>1.000000</td>\n",
       "      <td>1.00</td>\n",
       "    </tr>\n",
       "    <tr>\n",
       "      <td>16</td>\n",
       "      <td>Raisin_Bran</td>\n",
       "      <td>1</td>\n",
       "      <td>C</td>\n",
       "      <td>160.000000</td>\n",
       "      <td>4.000000</td>\n",
       "      <td>1.333333</td>\n",
       "      <td>280.000000</td>\n",
       "      <td>6.666667</td>\n",
       "      <td>18.666667</td>\n",
       "      <td>16.000000</td>\n",
       "      <td>2</td>\n",
       "      <td>320.000000</td>\n",
       "      <td>33.333333</td>\n",
       "      <td>1.773333</td>\n",
       "      <td>0.75</td>\n",
       "    </tr>\n",
       "    <tr>\n",
       "      <td>17</td>\n",
       "      <td>Raisin_Squares</td>\n",
       "      <td>1</td>\n",
       "      <td>C</td>\n",
       "      <td>180.000000</td>\n",
       "      <td>4.000000</td>\n",
       "      <td>0.000000</td>\n",
       "      <td>0.000000</td>\n",
       "      <td>4.000000</td>\n",
       "      <td>30.000000</td>\n",
       "      <td>12.000000</td>\n",
       "      <td>3</td>\n",
       "      <td>220.000000</td>\n",
       "      <td>50.000000</td>\n",
       "      <td>2.000000</td>\n",
       "      <td>0.50</td>\n",
       "    </tr>\n",
       "    <tr>\n",
       "      <td>18</td>\n",
       "      <td>Rice_Krispies</td>\n",
       "      <td>1</td>\n",
       "      <td>C</td>\n",
       "      <td>110.000000</td>\n",
       "      <td>2.000000</td>\n",
       "      <td>0.000000</td>\n",
       "      <td>290.000000</td>\n",
       "      <td>0.000000</td>\n",
       "      <td>22.000000</td>\n",
       "      <td>3.000000</td>\n",
       "      <td>1</td>\n",
       "      <td>35.000000</td>\n",
       "      <td>25.000000</td>\n",
       "      <td>1.000000</td>\n",
       "      <td>1.00</td>\n",
       "    </tr>\n",
       "    <tr>\n",
       "      <td>19</td>\n",
       "      <td>Smacks</td>\n",
       "      <td>1</td>\n",
       "      <td>C</td>\n",
       "      <td>146.666667</td>\n",
       "      <td>2.666667</td>\n",
       "      <td>1.333333</td>\n",
       "      <td>93.333333</td>\n",
       "      <td>1.333333</td>\n",
       "      <td>12.000000</td>\n",
       "      <td>20.000000</td>\n",
       "      <td>2</td>\n",
       "      <td>53.333333</td>\n",
       "      <td>33.333333</td>\n",
       "      <td>1.333333</td>\n",
       "      <td>0.75</td>\n",
       "    </tr>\n",
       "    <tr>\n",
       "      <td>20</td>\n",
       "      <td>Special_K</td>\n",
       "      <td>1</td>\n",
       "      <td>C</td>\n",
       "      <td>110.000000</td>\n",
       "      <td>6.000000</td>\n",
       "      <td>0.000000</td>\n",
       "      <td>230.000000</td>\n",
       "      <td>1.000000</td>\n",
       "      <td>16.000000</td>\n",
       "      <td>3.000000</td>\n",
       "      <td>1</td>\n",
       "      <td>55.000000</td>\n",
       "      <td>25.000000</td>\n",
       "      <td>1.000000</td>\n",
       "      <td>1.00</td>\n",
       "    </tr>\n",
       "    <tr>\n",
       "      <td>21</td>\n",
       "      <td>Apple_Cin_Cheerios</td>\n",
       "      <td>2</td>\n",
       "      <td>C</td>\n",
       "      <td>146.666667</td>\n",
       "      <td>2.666667</td>\n",
       "      <td>2.666667</td>\n",
       "      <td>240.000000</td>\n",
       "      <td>2.000000</td>\n",
       "      <td>14.000000</td>\n",
       "      <td>13.333333</td>\n",
       "      <td>1</td>\n",
       "      <td>93.333333</td>\n",
       "      <td>33.333333</td>\n",
       "      <td>1.333333</td>\n",
       "      <td>0.75</td>\n",
       "    </tr>\n",
       "    <tr>\n",
       "      <td>22</td>\n",
       "      <td>Basic_4</td>\n",
       "      <td>2</td>\n",
       "      <td>C</td>\n",
       "      <td>173.333333</td>\n",
       "      <td>4.000000</td>\n",
       "      <td>2.666667</td>\n",
       "      <td>280.000000</td>\n",
       "      <td>2.666667</td>\n",
       "      <td>24.000000</td>\n",
       "      <td>10.666667</td>\n",
       "      <td>3</td>\n",
       "      <td>133.333333</td>\n",
       "      <td>33.333333</td>\n",
       "      <td>1.773333</td>\n",
       "      <td>0.75</td>\n",
       "    </tr>\n",
       "    <tr>\n",
       "      <td>23</td>\n",
       "      <td>Cheerios</td>\n",
       "      <td>2</td>\n",
       "      <td>C</td>\n",
       "      <td>88.000000</td>\n",
       "      <td>4.800000</td>\n",
       "      <td>1.600000</td>\n",
       "      <td>232.000000</td>\n",
       "      <td>1.600000</td>\n",
       "      <td>13.600000</td>\n",
       "      <td>0.800000</td>\n",
       "      <td>1</td>\n",
       "      <td>84.000000</td>\n",
       "      <td>20.000000</td>\n",
       "      <td>0.800000</td>\n",
       "      <td>1.25</td>\n",
       "    </tr>\n",
       "    <tr>\n",
       "      <td>24</td>\n",
       "      <td>Cinnamon_Toast_Crunch</td>\n",
       "      <td>2</td>\n",
       "      <td>C</td>\n",
       "      <td>160.000000</td>\n",
       "      <td>1.333333</td>\n",
       "      <td>4.000000</td>\n",
       "      <td>280.000000</td>\n",
       "      <td>0.000000</td>\n",
       "      <td>17.333333</td>\n",
       "      <td>12.000000</td>\n",
       "      <td>2</td>\n",
       "      <td>60.000000</td>\n",
       "      <td>33.333333</td>\n",
       "      <td>1.333333</td>\n",
       "      <td>0.75</td>\n",
       "    </tr>\n",
       "    <tr>\n",
       "      <td>25</td>\n",
       "      <td>Clusters</td>\n",
       "      <td>2</td>\n",
       "      <td>C</td>\n",
       "      <td>220.000000</td>\n",
       "      <td>6.000000</td>\n",
       "      <td>4.000000</td>\n",
       "      <td>280.000000</td>\n",
       "      <td>4.000000</td>\n",
       "      <td>26.000000</td>\n",
       "      <td>14.000000</td>\n",
       "      <td>3</td>\n",
       "      <td>210.000000</td>\n",
       "      <td>50.000000</td>\n",
       "      <td>2.000000</td>\n",
       "      <td>0.50</td>\n",
       "    </tr>\n",
       "    <tr>\n",
       "      <td>26</td>\n",
       "      <td>Cocoa_Puffs</td>\n",
       "      <td>2</td>\n",
       "      <td>C</td>\n",
       "      <td>110.000000</td>\n",
       "      <td>1.000000</td>\n",
       "      <td>1.000000</td>\n",
       "      <td>180.000000</td>\n",
       "      <td>0.000000</td>\n",
       "      <td>12.000000</td>\n",
       "      <td>13.000000</td>\n",
       "      <td>2</td>\n",
       "      <td>55.000000</td>\n",
       "      <td>25.000000</td>\n",
       "      <td>1.000000</td>\n",
       "      <td>1.00</td>\n",
       "    </tr>\n",
       "    <tr>\n",
       "      <td>27</td>\n",
       "      <td>Count_Chocula</td>\n",
       "      <td>2</td>\n",
       "      <td>C</td>\n",
       "      <td>110.000000</td>\n",
       "      <td>1.000000</td>\n",
       "      <td>1.000000</td>\n",
       "      <td>180.000000</td>\n",
       "      <td>0.000000</td>\n",
       "      <td>12.000000</td>\n",
       "      <td>13.000000</td>\n",
       "      <td>2</td>\n",
       "      <td>65.000000</td>\n",
       "      <td>25.000000</td>\n",
       "      <td>1.000000</td>\n",
       "      <td>1.00</td>\n",
       "    </tr>\n",
       "    <tr>\n",
       "      <td>28</td>\n",
       "      <td>Crispy_Wheat_Raisins</td>\n",
       "      <td>2</td>\n",
       "      <td>C</td>\n",
       "      <td>133.333333</td>\n",
       "      <td>2.666667</td>\n",
       "      <td>1.333333</td>\n",
       "      <td>186.666667</td>\n",
       "      <td>2.666667</td>\n",
       "      <td>14.666667</td>\n",
       "      <td>13.333333</td>\n",
       "      <td>3</td>\n",
       "      <td>160.000000</td>\n",
       "      <td>33.333333</td>\n",
       "      <td>1.333333</td>\n",
       "      <td>0.75</td>\n",
       "    </tr>\n",
       "    <tr>\n",
       "      <td>29</td>\n",
       "      <td>Golden_Grahams</td>\n",
       "      <td>2</td>\n",
       "      <td>C</td>\n",
       "      <td>146.666667</td>\n",
       "      <td>1.333333</td>\n",
       "      <td>1.333333</td>\n",
       "      <td>373.333333</td>\n",
       "      <td>0.000000</td>\n",
       "      <td>20.000000</td>\n",
       "      <td>12.000000</td>\n",
       "      <td>2</td>\n",
       "      <td>60.000000</td>\n",
       "      <td>33.333333</td>\n",
       "      <td>1.333333</td>\n",
       "      <td>0.75</td>\n",
       "    </tr>\n",
       "    <tr>\n",
       "      <td>30</td>\n",
       "      <td>Honey_Nut_Cheerios</td>\n",
       "      <td>2</td>\n",
       "      <td>C</td>\n",
       "      <td>146.666667</td>\n",
       "      <td>4.000000</td>\n",
       "      <td>1.333333</td>\n",
       "      <td>333.333333</td>\n",
       "      <td>2.000000</td>\n",
       "      <td>15.333333</td>\n",
       "      <td>13.333333</td>\n",
       "      <td>1</td>\n",
       "      <td>120.000000</td>\n",
       "      <td>33.333333</td>\n",
       "      <td>1.333333</td>\n",
       "      <td>0.75</td>\n",
       "    </tr>\n",
       "    <tr>\n",
       "      <td>31</td>\n",
       "      <td>Kix</td>\n",
       "      <td>2</td>\n",
       "      <td>C</td>\n",
       "      <td>73.333333</td>\n",
       "      <td>1.333333</td>\n",
       "      <td>0.666667</td>\n",
       "      <td>173.333333</td>\n",
       "      <td>0.000000</td>\n",
       "      <td>14.000000</td>\n",
       "      <td>2.000000</td>\n",
       "      <td>2</td>\n",
       "      <td>26.666667</td>\n",
       "      <td>16.666667</td>\n",
       "      <td>0.666667</td>\n",
       "      <td>1.50</td>\n",
       "    </tr>\n",
       "    <tr>\n",
       "      <td>32</td>\n",
       "      <td>Lucky_Charms</td>\n",
       "      <td>2</td>\n",
       "      <td>C</td>\n",
       "      <td>110.000000</td>\n",
       "      <td>2.000000</td>\n",
       "      <td>1.000000</td>\n",
       "      <td>180.000000</td>\n",
       "      <td>0.000000</td>\n",
       "      <td>12.000000</td>\n",
       "      <td>12.000000</td>\n",
       "      <td>2</td>\n",
       "      <td>55.000000</td>\n",
       "      <td>25.000000</td>\n",
       "      <td>1.000000</td>\n",
       "      <td>1.00</td>\n",
       "    </tr>\n",
       "    <tr>\n",
       "      <td>33</td>\n",
       "      <td>Multi-Grain_Cheerios</td>\n",
       "      <td>2</td>\n",
       "      <td>C</td>\n",
       "      <td>100.000000</td>\n",
       "      <td>2.000000</td>\n",
       "      <td>1.000000</td>\n",
       "      <td>220.000000</td>\n",
       "      <td>2.000000</td>\n",
       "      <td>15.000000</td>\n",
       "      <td>6.000000</td>\n",
       "      <td>1</td>\n",
       "      <td>90.000000</td>\n",
       "      <td>25.000000</td>\n",
       "      <td>1.000000</td>\n",
       "      <td>1.00</td>\n",
       "    </tr>\n",
       "    <tr>\n",
       "      <td>34</td>\n",
       "      <td>Oatmeal_Raisin_Crisp</td>\n",
       "      <td>2</td>\n",
       "      <td>C</td>\n",
       "      <td>260.000000</td>\n",
       "      <td>6.000000</td>\n",
       "      <td>4.000000</td>\n",
       "      <td>340.000000</td>\n",
       "      <td>3.000000</td>\n",
       "      <td>27.000000</td>\n",
       "      <td>20.000000</td>\n",
       "      <td>3</td>\n",
       "      <td>240.000000</td>\n",
       "      <td>50.000000</td>\n",
       "      <td>2.500000</td>\n",
       "      <td>0.50</td>\n",
       "    </tr>\n",
       "    <tr>\n",
       "      <td>35</td>\n",
       "      <td>Raisin_Nut_Bran</td>\n",
       "      <td>2</td>\n",
       "      <td>C</td>\n",
       "      <td>200.000000</td>\n",
       "      <td>6.000000</td>\n",
       "      <td>4.000000</td>\n",
       "      <td>280.000000</td>\n",
       "      <td>5.000000</td>\n",
       "      <td>21.000000</td>\n",
       "      <td>16.000000</td>\n",
       "      <td>3</td>\n",
       "      <td>280.000000</td>\n",
       "      <td>50.000000</td>\n",
       "      <td>2.000000</td>\n",
       "      <td>0.50</td>\n",
       "    </tr>\n",
       "    <tr>\n",
       "      <td>36</td>\n",
       "      <td>Total_Corn_Flakes</td>\n",
       "      <td>2</td>\n",
       "      <td>C</td>\n",
       "      <td>110.000000</td>\n",
       "      <td>2.000000</td>\n",
       "      <td>1.000000</td>\n",
       "      <td>200.000000</td>\n",
       "      <td>0.000000</td>\n",
       "      <td>21.000000</td>\n",
       "      <td>3.000000</td>\n",
       "      <td>3</td>\n",
       "      <td>35.000000</td>\n",
       "      <td>100.000000</td>\n",
       "      <td>1.000000</td>\n",
       "      <td>1.00</td>\n",
       "    </tr>\n",
       "    <tr>\n",
       "      <td>37</td>\n",
       "      <td>Total_Raisin_Bran</td>\n",
       "      <td>2</td>\n",
       "      <td>C</td>\n",
       "      <td>140.000000</td>\n",
       "      <td>3.000000</td>\n",
       "      <td>1.000000</td>\n",
       "      <td>190.000000</td>\n",
       "      <td>4.000000</td>\n",
       "      <td>15.000000</td>\n",
       "      <td>14.000000</td>\n",
       "      <td>3</td>\n",
       "      <td>230.000000</td>\n",
       "      <td>100.000000</td>\n",
       "      <td>1.500000</td>\n",
       "      <td>1.00</td>\n",
       "    </tr>\n",
       "    <tr>\n",
       "      <td>38</td>\n",
       "      <td>Total_Whole_Grain</td>\n",
       "      <td>2</td>\n",
       "      <td>C</td>\n",
       "      <td>100.000000</td>\n",
       "      <td>3.000000</td>\n",
       "      <td>1.000000</td>\n",
       "      <td>200.000000</td>\n",
       "      <td>3.000000</td>\n",
       "      <td>16.000000</td>\n",
       "      <td>3.000000</td>\n",
       "      <td>3</td>\n",
       "      <td>110.000000</td>\n",
       "      <td>100.000000</td>\n",
       "      <td>1.000000</td>\n",
       "      <td>1.00</td>\n",
       "    </tr>\n",
       "    <tr>\n",
       "      <td>39</td>\n",
       "      <td>Triples</td>\n",
       "      <td>2</td>\n",
       "      <td>C</td>\n",
       "      <td>146.666667</td>\n",
       "      <td>2.666667</td>\n",
       "      <td>1.333333</td>\n",
       "      <td>333.333333</td>\n",
       "      <td>0.000000</td>\n",
       "      <td>28.000000</td>\n",
       "      <td>4.000000</td>\n",
       "      <td>3</td>\n",
       "      <td>80.000000</td>\n",
       "      <td>33.333333</td>\n",
       "      <td>1.333333</td>\n",
       "      <td>0.75</td>\n",
       "    </tr>\n",
       "    <tr>\n",
       "      <td>40</td>\n",
       "      <td>Trix</td>\n",
       "      <td>2</td>\n",
       "      <td>C</td>\n",
       "      <td>110.000000</td>\n",
       "      <td>1.000000</td>\n",
       "      <td>1.000000</td>\n",
       "      <td>140.000000</td>\n",
       "      <td>0.000000</td>\n",
       "      <td>13.000000</td>\n",
       "      <td>12.000000</td>\n",
       "      <td>2</td>\n",
       "      <td>25.000000</td>\n",
       "      <td>25.000000</td>\n",
       "      <td>1.000000</td>\n",
       "      <td>1.00</td>\n",
       "    </tr>\n",
       "    <tr>\n",
       "      <td>41</td>\n",
       "      <td>Wheaties</td>\n",
       "      <td>2</td>\n",
       "      <td>C</td>\n",
       "      <td>100.000000</td>\n",
       "      <td>3.000000</td>\n",
       "      <td>1.000000</td>\n",
       "      <td>200.000000</td>\n",
       "      <td>3.000000</td>\n",
       "      <td>17.000000</td>\n",
       "      <td>3.000000</td>\n",
       "      <td>1</td>\n",
       "      <td>110.000000</td>\n",
       "      <td>25.000000</td>\n",
       "      <td>1.000000</td>\n",
       "      <td>1.00</td>\n",
       "    </tr>\n",
       "    <tr>\n",
       "      <td>42</td>\n",
       "      <td>Wheaties_Honey_Gold</td>\n",
       "      <td>2</td>\n",
       "      <td>C</td>\n",
       "      <td>146.666667</td>\n",
       "      <td>2.666667</td>\n",
       "      <td>1.333333</td>\n",
       "      <td>266.666667</td>\n",
       "      <td>1.333333</td>\n",
       "      <td>21.333333</td>\n",
       "      <td>10.666667</td>\n",
       "      <td>1</td>\n",
       "      <td>80.000000</td>\n",
       "      <td>33.333333</td>\n",
       "      <td>1.333333</td>\n",
       "      <td>0.75</td>\n",
       "    </tr>\n",
       "  </tbody>\n",
       "</table>\n",
       "</div>"
      ],
      "text/plain": [
       "                     name  manufacturer type    calories    protein       fat  \\\n",
       "0                All-Bran             1    C  212.121212  12.121212  3.030303   \n",
       "1    All-Bran_Extra_Fiber             1    C  100.000000   8.000000  0.000000   \n",
       "2             Apple_Jacks             1    C  110.000000   2.000000  0.000000   \n",
       "3             Corn_Flakes             1    C  100.000000   2.000000  0.000000   \n",
       "4               Corn_Pops             1    C  110.000000   1.000000  0.000000   \n",
       "5      Cracklin'_Oat_Bran             1    C  220.000000   6.000000  6.000000   \n",
       "6                 Crispix             1    C  110.000000   2.000000  0.000000   \n",
       "7             Froot_Loops             1    C  110.000000   2.000000  1.000000   \n",
       "8          Frosted_Flakes             1    C  146.666667   1.333333  0.000000   \n",
       "9     Frosted_Mini-Wheats             1    C  125.000000   3.750000  0.000000   \n",
       "10          Fruitful_Bran             1    C  179.104478   4.477612  0.000000   \n",
       "11   Just_Right_Fruit_Nut             1    C  186.666667   4.000000  1.333333   \n",
       "12   Mueslix_Crispy_Blend             1    C  238.805970   4.477612  2.985075   \n",
       "13       Nut&Honey_Crunch             1    C  179.104478   2.985075  1.492537   \n",
       "14     Nutri-Grain_Almond             1    C  208.955224   4.477612  2.985075   \n",
       "15             Product_19             1    C  100.000000   3.000000  0.000000   \n",
       "16            Raisin_Bran             1    C  160.000000   4.000000  1.333333   \n",
       "17         Raisin_Squares             1    C  180.000000   4.000000  0.000000   \n",
       "18          Rice_Krispies             1    C  110.000000   2.000000  0.000000   \n",
       "19                 Smacks             1    C  146.666667   2.666667  1.333333   \n",
       "20              Special_K             1    C  110.000000   6.000000  0.000000   \n",
       "21     Apple_Cin_Cheerios             2    C  146.666667   2.666667  2.666667   \n",
       "22                Basic_4             2    C  173.333333   4.000000  2.666667   \n",
       "23               Cheerios             2    C   88.000000   4.800000  1.600000   \n",
       "24  Cinnamon_Toast_Crunch             2    C  160.000000   1.333333  4.000000   \n",
       "25               Clusters             2    C  220.000000   6.000000  4.000000   \n",
       "26            Cocoa_Puffs             2    C  110.000000   1.000000  1.000000   \n",
       "27          Count_Chocula             2    C  110.000000   1.000000  1.000000   \n",
       "28   Crispy_Wheat_Raisins             2    C  133.333333   2.666667  1.333333   \n",
       "29         Golden_Grahams             2    C  146.666667   1.333333  1.333333   \n",
       "30     Honey_Nut_Cheerios             2    C  146.666667   4.000000  1.333333   \n",
       "31                    Kix             2    C   73.333333   1.333333  0.666667   \n",
       "32           Lucky_Charms             2    C  110.000000   2.000000  1.000000   \n",
       "33   Multi-Grain_Cheerios             2    C  100.000000   2.000000  1.000000   \n",
       "34   Oatmeal_Raisin_Crisp             2    C  260.000000   6.000000  4.000000   \n",
       "35        Raisin_Nut_Bran             2    C  200.000000   6.000000  4.000000   \n",
       "36      Total_Corn_Flakes             2    C  110.000000   2.000000  1.000000   \n",
       "37      Total_Raisin_Bran             2    C  140.000000   3.000000  1.000000   \n",
       "38      Total_Whole_Grain             2    C  100.000000   3.000000  1.000000   \n",
       "39                Triples             2    C  146.666667   2.666667  1.333333   \n",
       "40                   Trix             2    C  110.000000   1.000000  1.000000   \n",
       "41               Wheaties             2    C  100.000000   3.000000  1.000000   \n",
       "42    Wheaties_Honey_Gold             2    C  146.666667   2.666667  1.333333   \n",
       "\n",
       "        sodium      fiber      carbs      sugar  shelf   potassium  \\\n",
       "0   787.878788  27.272727  21.212121  15.151515      3  969.696970   \n",
       "1   280.000000  28.000000  16.000000   0.000000      3  660.000000   \n",
       "2   125.000000   1.000000  11.000000  14.000000      2   30.000000   \n",
       "3   290.000000   1.000000  21.000000   2.000000      1   35.000000   \n",
       "4    90.000000   1.000000  13.000000  12.000000      2   20.000000   \n",
       "5   280.000000   8.000000  20.000000  14.000000      3  320.000000   \n",
       "6   220.000000   1.000000  21.000000   3.000000      3   30.000000   \n",
       "7   125.000000   1.000000  11.000000  13.000000      2   30.000000   \n",
       "8   266.666667   1.333333  18.666667  14.666667      1   33.333333   \n",
       "9     0.000000   3.750000  17.500000   8.750000      2  125.000000   \n",
       "10  358.208955   7.462687  20.895522  17.910448      3  283.582090   \n",
       "11  226.666667   2.666667  26.666667  12.000000      3  126.666667   \n",
       "12  223.880597   4.477612  25.373134  19.402985      3  238.805970   \n",
       "13  283.582090   0.000000  22.388060  13.432836      2   59.701493   \n",
       "14  328.358209   4.477612  31.343284  10.447761      3  194.029851   \n",
       "15  320.000000   1.000000  20.000000   3.000000      3   45.000000   \n",
       "16  280.000000   6.666667  18.666667  16.000000      2  320.000000   \n",
       "17    0.000000   4.000000  30.000000  12.000000      3  220.000000   \n",
       "18  290.000000   0.000000  22.000000   3.000000      1   35.000000   \n",
       "19   93.333333   1.333333  12.000000  20.000000      2   53.333333   \n",
       "20  230.000000   1.000000  16.000000   3.000000      1   55.000000   \n",
       "21  240.000000   2.000000  14.000000  13.333333      1   93.333333   \n",
       "22  280.000000   2.666667  24.000000  10.666667      3  133.333333   \n",
       "23  232.000000   1.600000  13.600000   0.800000      1   84.000000   \n",
       "24  280.000000   0.000000  17.333333  12.000000      2   60.000000   \n",
       "25  280.000000   4.000000  26.000000  14.000000      3  210.000000   \n",
       "26  180.000000   0.000000  12.000000  13.000000      2   55.000000   \n",
       "27  180.000000   0.000000  12.000000  13.000000      2   65.000000   \n",
       "28  186.666667   2.666667  14.666667  13.333333      3  160.000000   \n",
       "29  373.333333   0.000000  20.000000  12.000000      2   60.000000   \n",
       "30  333.333333   2.000000  15.333333  13.333333      1  120.000000   \n",
       "31  173.333333   0.000000  14.000000   2.000000      2   26.666667   \n",
       "32  180.000000   0.000000  12.000000  12.000000      2   55.000000   \n",
       "33  220.000000   2.000000  15.000000   6.000000      1   90.000000   \n",
       "34  340.000000   3.000000  27.000000  20.000000      3  240.000000   \n",
       "35  280.000000   5.000000  21.000000  16.000000      3  280.000000   \n",
       "36  200.000000   0.000000  21.000000   3.000000      3   35.000000   \n",
       "37  190.000000   4.000000  15.000000  14.000000      3  230.000000   \n",
       "38  200.000000   3.000000  16.000000   3.000000      3  110.000000   \n",
       "39  333.333333   0.000000  28.000000   4.000000      3   80.000000   \n",
       "40  140.000000   0.000000  13.000000  12.000000      2   25.000000   \n",
       "41  200.000000   3.000000  17.000000   3.000000      1  110.000000   \n",
       "42  266.666667   1.333333  21.333333  10.666667      1   80.000000   \n",
       "\n",
       "      vitamins    weight  cups  \n",
       "0    75.757576  3.030303  0.33  \n",
       "1    50.000000  2.000000  0.50  \n",
       "2    25.000000  1.000000  1.00  \n",
       "3    25.000000  1.000000  1.00  \n",
       "4    25.000000  1.000000  1.00  \n",
       "5    50.000000  2.000000  0.50  \n",
       "6    25.000000  1.000000  1.00  \n",
       "7    25.000000  1.000000  1.00  \n",
       "8    33.333333  1.333333  0.75  \n",
       "9    31.250000  1.250000  0.80  \n",
       "10   37.313433  1.985075  0.67  \n",
       "11  133.333333  1.733333  0.75  \n",
       "12   37.313433  2.238806  0.67  \n",
       "13   37.313433  1.492537  0.67  \n",
       "14   37.313433  1.985075  0.67  \n",
       "15  100.000000  1.000000  1.00  \n",
       "16   33.333333  1.773333  0.75  \n",
       "17   50.000000  2.000000  0.50  \n",
       "18   25.000000  1.000000  1.00  \n",
       "19   33.333333  1.333333  0.75  \n",
       "20   25.000000  1.000000  1.00  \n",
       "21   33.333333  1.333333  0.75  \n",
       "22   33.333333  1.773333  0.75  \n",
       "23   20.000000  0.800000  1.25  \n",
       "24   33.333333  1.333333  0.75  \n",
       "25   50.000000  2.000000  0.50  \n",
       "26   25.000000  1.000000  1.00  \n",
       "27   25.000000  1.000000  1.00  \n",
       "28   33.333333  1.333333  0.75  \n",
       "29   33.333333  1.333333  0.75  \n",
       "30   33.333333  1.333333  0.75  \n",
       "31   16.666667  0.666667  1.50  \n",
       "32   25.000000  1.000000  1.00  \n",
       "33   25.000000  1.000000  1.00  \n",
       "34   50.000000  2.500000  0.50  \n",
       "35   50.000000  2.000000  0.50  \n",
       "36  100.000000  1.000000  1.00  \n",
       "37  100.000000  1.500000  1.00  \n",
       "38  100.000000  1.000000  1.00  \n",
       "39   33.333333  1.333333  0.75  \n",
       "40   25.000000  1.000000  1.00  \n",
       "41   25.000000  1.000000  1.00  \n",
       "42   33.333333  1.333333  0.75  "
      ]
     },
     "execution_count": 51,
     "metadata": {},
     "output_type": "execute_result"
    }
   ],
   "source": [
    "mG = SelectMfr('G', rcereal)\n",
    "mK.manufacturer = 1\n",
    "mG.manufacturer = 2\n",
    "mKG = mK.append(mG, ignore_index=True)\n",
    "mKG #combine the manufacturer K and G into a new data frame and compare them"
   ]
  },
  {
   "cell_type": "code",
   "execution_count": 1,
   "metadata": {},
   "outputs": [
    {
     "ename": "NameError",
     "evalue": "name 'px' is not defined",
     "output_type": "error",
     "traceback": [
      "\u001b[0;31m---------------------------------------------------------------------------\u001b[0m",
      "\u001b[0;31mNameError\u001b[0m                                 Traceback (most recent call last)",
      "\u001b[0;32m<ipython-input-1-fba8262fe269>\u001b[0m in \u001b[0;36m<module>\u001b[0;34m\u001b[0m\n\u001b[1;32m      1\u001b[0m \u001b[0;31m#Parallel Coordinates plot\u001b[0m\u001b[0;34m\u001b[0m\u001b[0;34m\u001b[0m\u001b[0;34m\u001b[0m\u001b[0m\n\u001b[0;32m----> 2\u001b[0;31m fig1 = px.parallel_coordinates(mKG, color = 'manufacturer', dimensions=['protein', 'fat','sodium', 'fiber', 'carbs', 'sugar', 'potassium','vitamins'],color_continuous_scale=px.colors.diverging.Tealrose,\n\u001b[0m\u001b[1;32m      3\u001b[0m                               color_continuous_midpoint=2)\n\u001b[1;32m      4\u001b[0m \u001b[0mfig1\u001b[0m\u001b[0;34m.\u001b[0m\u001b[0mshow\u001b[0m\u001b[0;34m(\u001b[0m\u001b[0;34m)\u001b[0m\u001b[0;34m\u001b[0m\u001b[0;34m\u001b[0m\u001b[0m\n",
      "\u001b[0;31mNameError\u001b[0m: name 'px' is not defined"
     ]
    }
   ],
   "source": [
    "#Parallel Coordinates plot\n",
    "fig1 = px.parallel_coordinates(mKG, color = 'manufacturer', dimensions=['protein', 'fat','sodium', 'fiber', 'carbs', 'sugar', 'potassium','vitamins'],color_continuous_scale=px.colors.diverging.Tealrose,\n",
    "                              color_continuous_midpoint=2)\n",
    "fig1.show()"
   ]
  },
  {
   "cell_type": "markdown",
   "metadata": {},
   "source": [
    "### Discussion\n",
    "Form the scatter plot above we can see that all of the pair will be positive association. The Fiber and potassium have nerly linear association while fat and carbs do not have a linear association.\n",
    "For the box plot above shelf 3 has the largest variation overall. The sugar content box plot, shelf 1 and 2 are skewed to the right while shelf 3 skewed to the left. shelf 1 has the lowest median value, while shelf 2 and 3 has the similar median value.\n",
    "From the parallel coordinates plot, the product difference for manufacturer K and G are very small, since all the lines are mixed toghter. "
   ]
  },
  {
   "cell_type": "code",
   "execution_count": null,
   "metadata": {},
   "outputs": [],
   "source": []
  }
 ],
 "metadata": {
  "kernelspec": {
   "display_name": "Python 3",
   "language": "python",
   "name": "python3"
  },
  "language_info": {
   "codemirror_mode": {
    "name": "ipython",
    "version": 3
   },
   "file_extension": ".py",
   "mimetype": "text/x-python",
   "name": "python",
   "nbconvert_exporter": "python",
   "pygments_lexer": "ipython3",
   "version": "3.7.4"
  }
 },
 "nbformat": 4,
 "nbformat_minor": 2
}
